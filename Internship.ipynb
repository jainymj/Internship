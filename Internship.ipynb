{
 "cells": [
  {
   "cell_type": "markdown",
   "id": "3953a04a",
   "metadata": {},
   "source": [
    "# Importing Standard Libraries"
   ]
  },
  {
   "cell_type": "code",
   "execution_count": 1,
   "id": "f512ba18",
   "metadata": {},
   "outputs": [],
   "source": [
    "from faker import Faker\n",
    "import numpy as np\n",
    "import pandas as pd\n",
    "from random import choice, sample\n",
    "import matplotlib.pyplot as plt\n",
    "import seaborn as sns\n",
    "%matplotlib inline\n",
    "\n",
    "import warnings\n",
    "warnings.filterwarnings('ignore')"
   ]
  },
  {
   "cell_type": "code",
   "execution_count": 2,
   "id": "842a3363",
   "metadata": {},
   "outputs": [],
   "source": [
    "data1 = pd.read_csv(r\"E:\\Downloads\\webmd.csv\")"
   ]
  },
  {
   "cell_type": "code",
   "execution_count": 3,
   "id": "65455354",
   "metadata": {},
   "outputs": [
    {
     "data": {
      "text/html": [
       "<div>\n",
       "<style scoped>\n",
       "    .dataframe tbody tr th:only-of-type {\n",
       "        vertical-align: middle;\n",
       "    }\n",
       "\n",
       "    .dataframe tbody tr th {\n",
       "        vertical-align: top;\n",
       "    }\n",
       "\n",
       "    .dataframe thead th {\n",
       "        text-align: right;\n",
       "    }\n",
       "</style>\n",
       "<table border=\"1\" class=\"dataframe\">\n",
       "  <thead>\n",
       "    <tr style=\"text-align: right;\">\n",
       "      <th></th>\n",
       "      <th>Age</th>\n",
       "      <th>Condition</th>\n",
       "      <th>Date</th>\n",
       "      <th>Drug</th>\n",
       "      <th>DrugId</th>\n",
       "      <th>EaseofUse</th>\n",
       "      <th>Effectiveness</th>\n",
       "      <th>Reviews</th>\n",
       "      <th>Satisfaction</th>\n",
       "      <th>Sex</th>\n",
       "      <th>Sides</th>\n",
       "      <th>UsefulCount</th>\n",
       "    </tr>\n",
       "  </thead>\n",
       "  <tbody>\n",
       "    <tr>\n",
       "      <th>0</th>\n",
       "      <td>75 or over</td>\n",
       "      <td>Stuffy Nose</td>\n",
       "      <td>9/21/2014</td>\n",
       "      <td>25dph-7.5peh</td>\n",
       "      <td>146724</td>\n",
       "      <td>5</td>\n",
       "      <td>5</td>\n",
       "      <td>I'm a retired physician and of all the meds I ...</td>\n",
       "      <td>5</td>\n",
       "      <td>Male</td>\n",
       "      <td>Drowsiness,  dizziness ,  dry mouth /nose/thro...</td>\n",
       "      <td>0</td>\n",
       "    </tr>\n",
       "    <tr>\n",
       "      <th>1</th>\n",
       "      <td>25-34</td>\n",
       "      <td>Cold Symptoms</td>\n",
       "      <td>1/13/2011</td>\n",
       "      <td>25dph-7.5peh</td>\n",
       "      <td>146724</td>\n",
       "      <td>5</td>\n",
       "      <td>5</td>\n",
       "      <td>cleared me right up even with my throat hurtin...</td>\n",
       "      <td>5</td>\n",
       "      <td>Female</td>\n",
       "      <td>Drowsiness,  dizziness ,  dry mouth /nose/thro...</td>\n",
       "      <td>1</td>\n",
       "    </tr>\n",
       "    <tr>\n",
       "      <th>2</th>\n",
       "      <td>65-74</td>\n",
       "      <td>Other</td>\n",
       "      <td>7/16/2012</td>\n",
       "      <td>warfarin (bulk) 100 % powder</td>\n",
       "      <td>144731</td>\n",
       "      <td>2</td>\n",
       "      <td>3</td>\n",
       "      <td>why did my PTINR go from a normal of 2.5 to ov...</td>\n",
       "      <td>3</td>\n",
       "      <td>Female</td>\n",
       "      <td></td>\n",
       "      <td>0</td>\n",
       "    </tr>\n",
       "    <tr>\n",
       "      <th>3</th>\n",
       "      <td>75 or over</td>\n",
       "      <td>Other</td>\n",
       "      <td>9/23/2010</td>\n",
       "      <td>warfarin (bulk) 100 % powder</td>\n",
       "      <td>144731</td>\n",
       "      <td>2</td>\n",
       "      <td>2</td>\n",
       "      <td>FALLING AND DON'T REALISE IT</td>\n",
       "      <td>1</td>\n",
       "      <td>Female</td>\n",
       "      <td></td>\n",
       "      <td>0</td>\n",
       "    </tr>\n",
       "    <tr>\n",
       "      <th>4</th>\n",
       "      <td>35-44</td>\n",
       "      <td>Other</td>\n",
       "      <td>1/6/2009</td>\n",
       "      <td>warfarin (bulk) 100 % powder</td>\n",
       "      <td>144731</td>\n",
       "      <td>1</td>\n",
       "      <td>1</td>\n",
       "      <td>My grandfather was prescribed this medication ...</td>\n",
       "      <td>1</td>\n",
       "      <td>Male</td>\n",
       "      <td></td>\n",
       "      <td>1</td>\n",
       "    </tr>\n",
       "  </tbody>\n",
       "</table>\n",
       "</div>"
      ],
      "text/plain": [
       "          Age      Condition       Date                          Drug  DrugId  \\\n",
       "0  75 or over    Stuffy Nose  9/21/2014                  25dph-7.5peh  146724   \n",
       "1       25-34  Cold Symptoms  1/13/2011                  25dph-7.5peh  146724   \n",
       "2       65-74          Other  7/16/2012  warfarin (bulk) 100 % powder  144731   \n",
       "3  75 or over          Other  9/23/2010  warfarin (bulk) 100 % powder  144731   \n",
       "4       35-44          Other   1/6/2009  warfarin (bulk) 100 % powder  144731   \n",
       "\n",
       "   EaseofUse  Effectiveness  \\\n",
       "0          5              5   \n",
       "1          5              5   \n",
       "2          2              3   \n",
       "3          2              2   \n",
       "4          1              1   \n",
       "\n",
       "                                             Reviews  Satisfaction     Sex  \\\n",
       "0  I'm a retired physician and of all the meds I ...             5    Male   \n",
       "1  cleared me right up even with my throat hurtin...             5  Female   \n",
       "2  why did my PTINR go from a normal of 2.5 to ov...             3  Female   \n",
       "3                       FALLING AND DON'T REALISE IT             1  Female   \n",
       "4  My grandfather was prescribed this medication ...             1    Male   \n",
       "\n",
       "                                               Sides  UsefulCount  \n",
       "0  Drowsiness,  dizziness ,  dry mouth /nose/thro...            0  \n",
       "1  Drowsiness,  dizziness ,  dry mouth /nose/thro...            1  \n",
       "2                                                               0  \n",
       "3                                                               0  \n",
       "4                                                               1  "
      ]
     },
     "execution_count": 3,
     "metadata": {},
     "output_type": "execute_result"
    }
   ],
   "source": [
    "data1.head()"
   ]
  },
  {
   "cell_type": "code",
   "execution_count": 4,
   "id": "df582640",
   "metadata": {},
   "outputs": [
    {
     "data": {
      "text/plain": [
       "(362806, 12)"
      ]
     },
     "execution_count": 4,
     "metadata": {},
     "output_type": "execute_result"
    }
   ],
   "source": [
    "data1.shape"
   ]
  },
  {
   "cell_type": "markdown",
   "id": "c2b3df84",
   "metadata": {},
   "source": [
    "# Creating name and race columns"
   ]
  },
  {
   "cell_type": "code",
   "execution_count": 5,
   "id": "b7a522ac",
   "metadata": {},
   "outputs": [],
   "source": [
    "#name column"
   ]
  },
  {
   "cell_type": "code",
   "execution_count": 6,
   "id": "677860bb",
   "metadata": {},
   "outputs": [],
   "source": [
    "df1 = Faker()"
   ]
  },
  {
   "cell_type": "code",
   "execution_count": 7,
   "id": "fe7f6479",
   "metadata": {},
   "outputs": [],
   "source": [
    "def create_names(n):\n",
    "    name = []\n",
    "    for _ in range(0,n):\n",
    "        name.append(df1.name())\n",
    "    return name   "
   ]
  },
  {
   "cell_type": "code",
   "execution_count": 8,
   "id": "64d9f54b",
   "metadata": {},
   "outputs": [],
   "source": [
    "name = create_names(362806)"
   ]
  },
  {
   "cell_type": "code",
   "execution_count": 9,
   "id": "6c281466",
   "metadata": {},
   "outputs": [],
   "source": [
    "df_name = pd.DataFrame(list(zip(name)),columns = ['Name'])"
   ]
  },
  {
   "cell_type": "code",
   "execution_count": 10,
   "id": "88b908c3",
   "metadata": {},
   "outputs": [
    {
     "data": {
      "text/html": [
       "<div>\n",
       "<style scoped>\n",
       "    .dataframe tbody tr th:only-of-type {\n",
       "        vertical-align: middle;\n",
       "    }\n",
       "\n",
       "    .dataframe tbody tr th {\n",
       "        vertical-align: top;\n",
       "    }\n",
       "\n",
       "    .dataframe thead th {\n",
       "        text-align: right;\n",
       "    }\n",
       "</style>\n",
       "<table border=\"1\" class=\"dataframe\">\n",
       "  <thead>\n",
       "    <tr style=\"text-align: right;\">\n",
       "      <th></th>\n",
       "      <th>Name</th>\n",
       "    </tr>\n",
       "  </thead>\n",
       "  <tbody>\n",
       "    <tr>\n",
       "      <th>0</th>\n",
       "      <td>James Washington</td>\n",
       "    </tr>\n",
       "    <tr>\n",
       "      <th>1</th>\n",
       "      <td>Daniel Ward</td>\n",
       "    </tr>\n",
       "    <tr>\n",
       "      <th>2</th>\n",
       "      <td>Todd Smith</td>\n",
       "    </tr>\n",
       "    <tr>\n",
       "      <th>3</th>\n",
       "      <td>Cynthia Martin</td>\n",
       "    </tr>\n",
       "    <tr>\n",
       "      <th>4</th>\n",
       "      <td>Melanie Snyder</td>\n",
       "    </tr>\n",
       "  </tbody>\n",
       "</table>\n",
       "</div>"
      ],
      "text/plain": [
       "               Name\n",
       "0  James Washington\n",
       "1       Daniel Ward\n",
       "2        Todd Smith\n",
       "3    Cynthia Martin\n",
       "4    Melanie Snyder"
      ]
     },
     "execution_count": 10,
     "metadata": {},
     "output_type": "execute_result"
    }
   ],
   "source": [
    "df_name.head()"
   ]
  },
  {
   "cell_type": "code",
   "execution_count": 11,
   "id": "4f3d216a",
   "metadata": {},
   "outputs": [
    {
     "data": {
      "text/plain": [
       "(362806, 1)"
      ]
     },
     "execution_count": 11,
     "metadata": {},
     "output_type": "execute_result"
    }
   ],
   "source": [
    "df_name.shape"
   ]
  },
  {
   "cell_type": "code",
   "execution_count": null,
   "id": "88f79b19",
   "metadata": {},
   "outputs": [],
   "source": []
  },
  {
   "cell_type": "code",
   "execution_count": 12,
   "id": "e8b6c141",
   "metadata": {},
   "outputs": [],
   "source": [
    "#race column"
   ]
  },
  {
   "cell_type": "code",
   "execution_count": 13,
   "id": "55b318fe",
   "metadata": {},
   "outputs": [],
   "source": [
    "def weighted_cartesian_choice(*iterables):\n",
    "    res = []\n",
    "    for population, weights in iterables:\n",
    "        weights = np.array(weights)/sum(weights)\n",
    "        lst = np.random.choice(population,p=weights)\n",
    "        res.append(lst)\n",
    "    return res\n",
    "race = (['Asian','White','Black','Hispanic'],[.32,.28,.22,.18])\n",
    "list = []\n",
    "for i in range(362806):\n",
    "    res = weighted_cartesian_choice(race)\n",
    "    list.append(res)"
   ]
  },
  {
   "cell_type": "code",
   "execution_count": 14,
   "id": "c18f7461",
   "metadata": {},
   "outputs": [],
   "source": [
    "df_race=pd.DataFrame(list, columns = ['Race'])"
   ]
  },
  {
   "cell_type": "code",
   "execution_count": 15,
   "id": "1e288bcd",
   "metadata": {},
   "outputs": [
    {
     "data": {
      "text/html": [
       "<div>\n",
       "<style scoped>\n",
       "    .dataframe tbody tr th:only-of-type {\n",
       "        vertical-align: middle;\n",
       "    }\n",
       "\n",
       "    .dataframe tbody tr th {\n",
       "        vertical-align: top;\n",
       "    }\n",
       "\n",
       "    .dataframe thead th {\n",
       "        text-align: right;\n",
       "    }\n",
       "</style>\n",
       "<table border=\"1\" class=\"dataframe\">\n",
       "  <thead>\n",
       "    <tr style=\"text-align: right;\">\n",
       "      <th></th>\n",
       "      <th>Race</th>\n",
       "    </tr>\n",
       "  </thead>\n",
       "  <tbody>\n",
       "    <tr>\n",
       "      <th>0</th>\n",
       "      <td>Hispanic</td>\n",
       "    </tr>\n",
       "    <tr>\n",
       "      <th>1</th>\n",
       "      <td>White</td>\n",
       "    </tr>\n",
       "    <tr>\n",
       "      <th>2</th>\n",
       "      <td>Black</td>\n",
       "    </tr>\n",
       "    <tr>\n",
       "      <th>3</th>\n",
       "      <td>White</td>\n",
       "    </tr>\n",
       "    <tr>\n",
       "      <th>4</th>\n",
       "      <td>White</td>\n",
       "    </tr>\n",
       "  </tbody>\n",
       "</table>\n",
       "</div>"
      ],
      "text/plain": [
       "       Race\n",
       "0  Hispanic\n",
       "1     White\n",
       "2     Black\n",
       "3     White\n",
       "4     White"
      ]
     },
     "execution_count": 15,
     "metadata": {},
     "output_type": "execute_result"
    }
   ],
   "source": [
    "df_race.head()"
   ]
  },
  {
   "cell_type": "markdown",
   "id": "6ba108b5",
   "metadata": {},
   "source": [
    "# Concatenating the two columns"
   ]
  },
  {
   "cell_type": "code",
   "execution_count": 16,
   "id": "92c1b190",
   "metadata": {},
   "outputs": [],
   "source": [
    "df_nr = pd.concat([df_name, df_race], axis=1).reindex(df_race.index)"
   ]
  },
  {
   "cell_type": "markdown",
   "id": "424d4bd0",
   "metadata": {},
   "source": [
    "# Final Dataset"
   ]
  },
  {
   "cell_type": "code",
   "execution_count": 17,
   "id": "e39f2a4e",
   "metadata": {},
   "outputs": [],
   "source": [
    "drugs = pd.concat([df_nr, data1], axis=1).reindex(data1.index)"
   ]
  },
  {
   "cell_type": "code",
   "execution_count": 18,
   "id": "3c4dce0e",
   "metadata": {},
   "outputs": [
    {
     "data": {
      "text/html": [
       "<div>\n",
       "<style scoped>\n",
       "    .dataframe tbody tr th:only-of-type {\n",
       "        vertical-align: middle;\n",
       "    }\n",
       "\n",
       "    .dataframe tbody tr th {\n",
       "        vertical-align: top;\n",
       "    }\n",
       "\n",
       "    .dataframe thead th {\n",
       "        text-align: right;\n",
       "    }\n",
       "</style>\n",
       "<table border=\"1\" class=\"dataframe\">\n",
       "  <thead>\n",
       "    <tr style=\"text-align: right;\">\n",
       "      <th></th>\n",
       "      <th>Name</th>\n",
       "      <th>Race</th>\n",
       "      <th>Age</th>\n",
       "      <th>Condition</th>\n",
       "      <th>Date</th>\n",
       "      <th>Drug</th>\n",
       "      <th>DrugId</th>\n",
       "      <th>EaseofUse</th>\n",
       "      <th>Effectiveness</th>\n",
       "      <th>Reviews</th>\n",
       "      <th>Satisfaction</th>\n",
       "      <th>Sex</th>\n",
       "      <th>Sides</th>\n",
       "      <th>UsefulCount</th>\n",
       "    </tr>\n",
       "  </thead>\n",
       "  <tbody>\n",
       "    <tr>\n",
       "      <th>0</th>\n",
       "      <td>James Washington</td>\n",
       "      <td>Hispanic</td>\n",
       "      <td>75 or over</td>\n",
       "      <td>Stuffy Nose</td>\n",
       "      <td>9/21/2014</td>\n",
       "      <td>25dph-7.5peh</td>\n",
       "      <td>146724</td>\n",
       "      <td>5</td>\n",
       "      <td>5</td>\n",
       "      <td>I'm a retired physician and of all the meds I ...</td>\n",
       "      <td>5</td>\n",
       "      <td>Male</td>\n",
       "      <td>Drowsiness,  dizziness ,  dry mouth /nose/thro...</td>\n",
       "      <td>0</td>\n",
       "    </tr>\n",
       "    <tr>\n",
       "      <th>1</th>\n",
       "      <td>Daniel Ward</td>\n",
       "      <td>White</td>\n",
       "      <td>25-34</td>\n",
       "      <td>Cold Symptoms</td>\n",
       "      <td>1/13/2011</td>\n",
       "      <td>25dph-7.5peh</td>\n",
       "      <td>146724</td>\n",
       "      <td>5</td>\n",
       "      <td>5</td>\n",
       "      <td>cleared me right up even with my throat hurtin...</td>\n",
       "      <td>5</td>\n",
       "      <td>Female</td>\n",
       "      <td>Drowsiness,  dizziness ,  dry mouth /nose/thro...</td>\n",
       "      <td>1</td>\n",
       "    </tr>\n",
       "    <tr>\n",
       "      <th>2</th>\n",
       "      <td>Todd Smith</td>\n",
       "      <td>Black</td>\n",
       "      <td>65-74</td>\n",
       "      <td>Other</td>\n",
       "      <td>7/16/2012</td>\n",
       "      <td>warfarin (bulk) 100 % powder</td>\n",
       "      <td>144731</td>\n",
       "      <td>2</td>\n",
       "      <td>3</td>\n",
       "      <td>why did my PTINR go from a normal of 2.5 to ov...</td>\n",
       "      <td>3</td>\n",
       "      <td>Female</td>\n",
       "      <td></td>\n",
       "      <td>0</td>\n",
       "    </tr>\n",
       "    <tr>\n",
       "      <th>3</th>\n",
       "      <td>Cynthia Martin</td>\n",
       "      <td>White</td>\n",
       "      <td>75 or over</td>\n",
       "      <td>Other</td>\n",
       "      <td>9/23/2010</td>\n",
       "      <td>warfarin (bulk) 100 % powder</td>\n",
       "      <td>144731</td>\n",
       "      <td>2</td>\n",
       "      <td>2</td>\n",
       "      <td>FALLING AND DON'T REALISE IT</td>\n",
       "      <td>1</td>\n",
       "      <td>Female</td>\n",
       "      <td></td>\n",
       "      <td>0</td>\n",
       "    </tr>\n",
       "    <tr>\n",
       "      <th>4</th>\n",
       "      <td>Melanie Snyder</td>\n",
       "      <td>White</td>\n",
       "      <td>35-44</td>\n",
       "      <td>Other</td>\n",
       "      <td>1/6/2009</td>\n",
       "      <td>warfarin (bulk) 100 % powder</td>\n",
       "      <td>144731</td>\n",
       "      <td>1</td>\n",
       "      <td>1</td>\n",
       "      <td>My grandfather was prescribed this medication ...</td>\n",
       "      <td>1</td>\n",
       "      <td>Male</td>\n",
       "      <td></td>\n",
       "      <td>1</td>\n",
       "    </tr>\n",
       "  </tbody>\n",
       "</table>\n",
       "</div>"
      ],
      "text/plain": [
       "               Name      Race         Age      Condition       Date  \\\n",
       "0  James Washington  Hispanic  75 or over    Stuffy Nose  9/21/2014   \n",
       "1       Daniel Ward     White       25-34  Cold Symptoms  1/13/2011   \n",
       "2        Todd Smith     Black       65-74          Other  7/16/2012   \n",
       "3    Cynthia Martin     White  75 or over          Other  9/23/2010   \n",
       "4    Melanie Snyder     White       35-44          Other   1/6/2009   \n",
       "\n",
       "                           Drug  DrugId  EaseofUse  Effectiveness  \\\n",
       "0                  25dph-7.5peh  146724          5              5   \n",
       "1                  25dph-7.5peh  146724          5              5   \n",
       "2  warfarin (bulk) 100 % powder  144731          2              3   \n",
       "3  warfarin (bulk) 100 % powder  144731          2              2   \n",
       "4  warfarin (bulk) 100 % powder  144731          1              1   \n",
       "\n",
       "                                             Reviews  Satisfaction     Sex  \\\n",
       "0  I'm a retired physician and of all the meds I ...             5    Male   \n",
       "1  cleared me right up even with my throat hurtin...             5  Female   \n",
       "2  why did my PTINR go from a normal of 2.5 to ov...             3  Female   \n",
       "3                       FALLING AND DON'T REALISE IT             1  Female   \n",
       "4  My grandfather was prescribed this medication ...             1    Male   \n",
       "\n",
       "                                               Sides  UsefulCount  \n",
       "0  Drowsiness,  dizziness ,  dry mouth /nose/thro...            0  \n",
       "1  Drowsiness,  dizziness ,  dry mouth /nose/thro...            1  \n",
       "2                                                               0  \n",
       "3                                                               0  \n",
       "4                                                               1  "
      ]
     },
     "execution_count": 18,
     "metadata": {},
     "output_type": "execute_result"
    }
   ],
   "source": [
    "drugs.head()"
   ]
  },
  {
   "cell_type": "code",
   "execution_count": 19,
   "id": "618439b8",
   "metadata": {},
   "outputs": [],
   "source": [
    "#converting dataframe to csv file"
   ]
  },
  {
   "cell_type": "code",
   "execution_count": 20,
   "id": "44088526",
   "metadata": {},
   "outputs": [],
   "source": [
    "drugs = drugs.to_csv('drugs_dataset.csv', index=False)"
   ]
  },
  {
   "cell_type": "markdown",
   "id": "272093f7",
   "metadata": {},
   "source": [
    "# Loading the dataset"
   ]
  },
  {
   "cell_type": "code",
   "execution_count": 21,
   "id": "03420adf",
   "metadata": {},
   "outputs": [],
   "source": [
    "data = pd.read_csv('drugs_dataset.csv')"
   ]
  },
  {
   "cell_type": "code",
   "execution_count": 22,
   "id": "6e655cef",
   "metadata": {},
   "outputs": [
    {
     "data": {
      "text/html": [
       "<div>\n",
       "<style scoped>\n",
       "    .dataframe tbody tr th:only-of-type {\n",
       "        vertical-align: middle;\n",
       "    }\n",
       "\n",
       "    .dataframe tbody tr th {\n",
       "        vertical-align: top;\n",
       "    }\n",
       "\n",
       "    .dataframe thead th {\n",
       "        text-align: right;\n",
       "    }\n",
       "</style>\n",
       "<table border=\"1\" class=\"dataframe\">\n",
       "  <thead>\n",
       "    <tr style=\"text-align: right;\">\n",
       "      <th></th>\n",
       "      <th>Name</th>\n",
       "      <th>Race</th>\n",
       "      <th>Age</th>\n",
       "      <th>Condition</th>\n",
       "      <th>Date</th>\n",
       "      <th>Drug</th>\n",
       "      <th>DrugId</th>\n",
       "      <th>EaseofUse</th>\n",
       "      <th>Effectiveness</th>\n",
       "      <th>Reviews</th>\n",
       "      <th>Satisfaction</th>\n",
       "      <th>Sex</th>\n",
       "      <th>Sides</th>\n",
       "      <th>UsefulCount</th>\n",
       "    </tr>\n",
       "  </thead>\n",
       "  <tbody>\n",
       "    <tr>\n",
       "      <th>0</th>\n",
       "      <td>James Washington</td>\n",
       "      <td>Hispanic</td>\n",
       "      <td>75 or over</td>\n",
       "      <td>Stuffy Nose</td>\n",
       "      <td>9/21/2014</td>\n",
       "      <td>25dph-7.5peh</td>\n",
       "      <td>146724</td>\n",
       "      <td>5</td>\n",
       "      <td>5</td>\n",
       "      <td>I'm a retired physician and of all the meds I ...</td>\n",
       "      <td>5</td>\n",
       "      <td>Male</td>\n",
       "      <td>Drowsiness,  dizziness ,  dry mouth /nose/thro...</td>\n",
       "      <td>0</td>\n",
       "    </tr>\n",
       "    <tr>\n",
       "      <th>1</th>\n",
       "      <td>Daniel Ward</td>\n",
       "      <td>White</td>\n",
       "      <td>25-34</td>\n",
       "      <td>Cold Symptoms</td>\n",
       "      <td>1/13/2011</td>\n",
       "      <td>25dph-7.5peh</td>\n",
       "      <td>146724</td>\n",
       "      <td>5</td>\n",
       "      <td>5</td>\n",
       "      <td>cleared me right up even with my throat hurtin...</td>\n",
       "      <td>5</td>\n",
       "      <td>Female</td>\n",
       "      <td>Drowsiness,  dizziness ,  dry mouth /nose/thro...</td>\n",
       "      <td>1</td>\n",
       "    </tr>\n",
       "    <tr>\n",
       "      <th>2</th>\n",
       "      <td>Todd Smith</td>\n",
       "      <td>Black</td>\n",
       "      <td>65-74</td>\n",
       "      <td>Other</td>\n",
       "      <td>7/16/2012</td>\n",
       "      <td>warfarin (bulk) 100 % powder</td>\n",
       "      <td>144731</td>\n",
       "      <td>2</td>\n",
       "      <td>3</td>\n",
       "      <td>why did my PTINR go from a normal of 2.5 to ov...</td>\n",
       "      <td>3</td>\n",
       "      <td>Female</td>\n",
       "      <td></td>\n",
       "      <td>0</td>\n",
       "    </tr>\n",
       "    <tr>\n",
       "      <th>3</th>\n",
       "      <td>Cynthia Martin</td>\n",
       "      <td>White</td>\n",
       "      <td>75 or over</td>\n",
       "      <td>Other</td>\n",
       "      <td>9/23/2010</td>\n",
       "      <td>warfarin (bulk) 100 % powder</td>\n",
       "      <td>144731</td>\n",
       "      <td>2</td>\n",
       "      <td>2</td>\n",
       "      <td>FALLING AND DON'T REALISE IT</td>\n",
       "      <td>1</td>\n",
       "      <td>Female</td>\n",
       "      <td></td>\n",
       "      <td>0</td>\n",
       "    </tr>\n",
       "    <tr>\n",
       "      <th>4</th>\n",
       "      <td>Melanie Snyder</td>\n",
       "      <td>White</td>\n",
       "      <td>35-44</td>\n",
       "      <td>Other</td>\n",
       "      <td>1/6/2009</td>\n",
       "      <td>warfarin (bulk) 100 % powder</td>\n",
       "      <td>144731</td>\n",
       "      <td>1</td>\n",
       "      <td>1</td>\n",
       "      <td>My grandfather was prescribed this medication ...</td>\n",
       "      <td>1</td>\n",
       "      <td>Male</td>\n",
       "      <td></td>\n",
       "      <td>1</td>\n",
       "    </tr>\n",
       "  </tbody>\n",
       "</table>\n",
       "</div>"
      ],
      "text/plain": [
       "               Name      Race         Age      Condition       Date  \\\n",
       "0  James Washington  Hispanic  75 or over    Stuffy Nose  9/21/2014   \n",
       "1       Daniel Ward     White       25-34  Cold Symptoms  1/13/2011   \n",
       "2        Todd Smith     Black       65-74          Other  7/16/2012   \n",
       "3    Cynthia Martin     White  75 or over          Other  9/23/2010   \n",
       "4    Melanie Snyder     White       35-44          Other   1/6/2009   \n",
       "\n",
       "                           Drug  DrugId  EaseofUse  Effectiveness  \\\n",
       "0                  25dph-7.5peh  146724          5              5   \n",
       "1                  25dph-7.5peh  146724          5              5   \n",
       "2  warfarin (bulk) 100 % powder  144731          2              3   \n",
       "3  warfarin (bulk) 100 % powder  144731          2              2   \n",
       "4  warfarin (bulk) 100 % powder  144731          1              1   \n",
       "\n",
       "                                             Reviews  Satisfaction     Sex  \\\n",
       "0  I'm a retired physician and of all the meds I ...             5    Male   \n",
       "1  cleared me right up even with my throat hurtin...             5  Female   \n",
       "2  why did my PTINR go from a normal of 2.5 to ov...             3  Female   \n",
       "3                       FALLING AND DON'T REALISE IT             1  Female   \n",
       "4  My grandfather was prescribed this medication ...             1    Male   \n",
       "\n",
       "                                               Sides  UsefulCount  \n",
       "0  Drowsiness,  dizziness ,  dry mouth /nose/thro...            0  \n",
       "1  Drowsiness,  dizziness ,  dry mouth /nose/thro...            1  \n",
       "2                                                               0  \n",
       "3                                                               0  \n",
       "4                                                               1  "
      ]
     },
     "execution_count": 22,
     "metadata": {},
     "output_type": "execute_result"
    }
   ],
   "source": [
    "data.head()"
   ]
  },
  {
   "cell_type": "code",
   "execution_count": null,
   "id": "a4a2c81a",
   "metadata": {},
   "outputs": [],
   "source": []
  },
  {
   "cell_type": "markdown",
   "id": "fea8b48f",
   "metadata": {},
   "source": [
    "# Description of the Dataset"
   ]
  },
  {
   "cell_type": "markdown",
   "id": "e60d2c37",
   "metadata": {},
   "source": [
    "Name : Name of the patient\n",
    "\n",
    "Race : Race of the patient\n",
    "\n",
    "Age : Age of the patient\n",
    "\n",
    "Condition : Condition/symptom from which the patient is suffering\n",
    "\n",
    "Date : Date of usage\n",
    "\n",
    "Drug : Name of the drug\n",
    "\n",
    "DrugId : Identity/code of drug\n",
    "\n",
    "EaseofUse : Patient's 10-Star rating on the ease of use of drug\n",
    "\n",
    "Effectiveness : Patient's 10-Star rating on the effectiveness of drug\n",
    "\n",
    "Reviews : Patient's review\n",
    "\n",
    "Satisfaction : Patient's 10-Star rating on satisfaction\n",
    "\n",
    "Sex : Gender of the patient\n",
    "\n",
    "Sides : Side effects of the drug\n",
    "    \n",
    "UsefulCount : Number of users who found the review useful  "
   ]
  },
  {
   "cell_type": "markdown",
   "id": "0ea924af",
   "metadata": {},
   "source": [
    "# Data Exploration"
   ]
  },
  {
   "cell_type": "markdown",
   "id": "336801e5",
   "metadata": {},
   "source": [
    "## Displaying first five rows of the dataset"
   ]
  },
  {
   "cell_type": "code",
   "execution_count": 23,
   "id": "a303bc7c",
   "metadata": {},
   "outputs": [
    {
     "data": {
      "text/html": [
       "<div>\n",
       "<style scoped>\n",
       "    .dataframe tbody tr th:only-of-type {\n",
       "        vertical-align: middle;\n",
       "    }\n",
       "\n",
       "    .dataframe tbody tr th {\n",
       "        vertical-align: top;\n",
       "    }\n",
       "\n",
       "    .dataframe thead th {\n",
       "        text-align: right;\n",
       "    }\n",
       "</style>\n",
       "<table border=\"1\" class=\"dataframe\">\n",
       "  <thead>\n",
       "    <tr style=\"text-align: right;\">\n",
       "      <th></th>\n",
       "      <th>Name</th>\n",
       "      <th>Race</th>\n",
       "      <th>Age</th>\n",
       "      <th>Condition</th>\n",
       "      <th>Date</th>\n",
       "      <th>Drug</th>\n",
       "      <th>DrugId</th>\n",
       "      <th>EaseofUse</th>\n",
       "      <th>Effectiveness</th>\n",
       "      <th>Reviews</th>\n",
       "      <th>Satisfaction</th>\n",
       "      <th>Sex</th>\n",
       "      <th>Sides</th>\n",
       "      <th>UsefulCount</th>\n",
       "    </tr>\n",
       "  </thead>\n",
       "  <tbody>\n",
       "    <tr>\n",
       "      <th>0</th>\n",
       "      <td>James Washington</td>\n",
       "      <td>Hispanic</td>\n",
       "      <td>75 or over</td>\n",
       "      <td>Stuffy Nose</td>\n",
       "      <td>9/21/2014</td>\n",
       "      <td>25dph-7.5peh</td>\n",
       "      <td>146724</td>\n",
       "      <td>5</td>\n",
       "      <td>5</td>\n",
       "      <td>I'm a retired physician and of all the meds I ...</td>\n",
       "      <td>5</td>\n",
       "      <td>Male</td>\n",
       "      <td>Drowsiness,  dizziness ,  dry mouth /nose/thro...</td>\n",
       "      <td>0</td>\n",
       "    </tr>\n",
       "    <tr>\n",
       "      <th>1</th>\n",
       "      <td>Daniel Ward</td>\n",
       "      <td>White</td>\n",
       "      <td>25-34</td>\n",
       "      <td>Cold Symptoms</td>\n",
       "      <td>1/13/2011</td>\n",
       "      <td>25dph-7.5peh</td>\n",
       "      <td>146724</td>\n",
       "      <td>5</td>\n",
       "      <td>5</td>\n",
       "      <td>cleared me right up even with my throat hurtin...</td>\n",
       "      <td>5</td>\n",
       "      <td>Female</td>\n",
       "      <td>Drowsiness,  dizziness ,  dry mouth /nose/thro...</td>\n",
       "      <td>1</td>\n",
       "    </tr>\n",
       "    <tr>\n",
       "      <th>2</th>\n",
       "      <td>Todd Smith</td>\n",
       "      <td>Black</td>\n",
       "      <td>65-74</td>\n",
       "      <td>Other</td>\n",
       "      <td>7/16/2012</td>\n",
       "      <td>warfarin (bulk) 100 % powder</td>\n",
       "      <td>144731</td>\n",
       "      <td>2</td>\n",
       "      <td>3</td>\n",
       "      <td>why did my PTINR go from a normal of 2.5 to ov...</td>\n",
       "      <td>3</td>\n",
       "      <td>Female</td>\n",
       "      <td></td>\n",
       "      <td>0</td>\n",
       "    </tr>\n",
       "    <tr>\n",
       "      <th>3</th>\n",
       "      <td>Cynthia Martin</td>\n",
       "      <td>White</td>\n",
       "      <td>75 or over</td>\n",
       "      <td>Other</td>\n",
       "      <td>9/23/2010</td>\n",
       "      <td>warfarin (bulk) 100 % powder</td>\n",
       "      <td>144731</td>\n",
       "      <td>2</td>\n",
       "      <td>2</td>\n",
       "      <td>FALLING AND DON'T REALISE IT</td>\n",
       "      <td>1</td>\n",
       "      <td>Female</td>\n",
       "      <td></td>\n",
       "      <td>0</td>\n",
       "    </tr>\n",
       "    <tr>\n",
       "      <th>4</th>\n",
       "      <td>Melanie Snyder</td>\n",
       "      <td>White</td>\n",
       "      <td>35-44</td>\n",
       "      <td>Other</td>\n",
       "      <td>1/6/2009</td>\n",
       "      <td>warfarin (bulk) 100 % powder</td>\n",
       "      <td>144731</td>\n",
       "      <td>1</td>\n",
       "      <td>1</td>\n",
       "      <td>My grandfather was prescribed this medication ...</td>\n",
       "      <td>1</td>\n",
       "      <td>Male</td>\n",
       "      <td></td>\n",
       "      <td>1</td>\n",
       "    </tr>\n",
       "  </tbody>\n",
       "</table>\n",
       "</div>"
      ],
      "text/plain": [
       "               Name      Race         Age      Condition       Date  \\\n",
       "0  James Washington  Hispanic  75 or over    Stuffy Nose  9/21/2014   \n",
       "1       Daniel Ward     White       25-34  Cold Symptoms  1/13/2011   \n",
       "2        Todd Smith     Black       65-74          Other  7/16/2012   \n",
       "3    Cynthia Martin     White  75 or over          Other  9/23/2010   \n",
       "4    Melanie Snyder     White       35-44          Other   1/6/2009   \n",
       "\n",
       "                           Drug  DrugId  EaseofUse  Effectiveness  \\\n",
       "0                  25dph-7.5peh  146724          5              5   \n",
       "1                  25dph-7.5peh  146724          5              5   \n",
       "2  warfarin (bulk) 100 % powder  144731          2              3   \n",
       "3  warfarin (bulk) 100 % powder  144731          2              2   \n",
       "4  warfarin (bulk) 100 % powder  144731          1              1   \n",
       "\n",
       "                                             Reviews  Satisfaction     Sex  \\\n",
       "0  I'm a retired physician and of all the meds I ...             5    Male   \n",
       "1  cleared me right up even with my throat hurtin...             5  Female   \n",
       "2  why did my PTINR go from a normal of 2.5 to ov...             3  Female   \n",
       "3                       FALLING AND DON'T REALISE IT             1  Female   \n",
       "4  My grandfather was prescribed this medication ...             1    Male   \n",
       "\n",
       "                                               Sides  UsefulCount  \n",
       "0  Drowsiness,  dizziness ,  dry mouth /nose/thro...            0  \n",
       "1  Drowsiness,  dizziness ,  dry mouth /nose/thro...            1  \n",
       "2                                                               0  \n",
       "3                                                               0  \n",
       "4                                                               1  "
      ]
     },
     "execution_count": 23,
     "metadata": {},
     "output_type": "execute_result"
    }
   ],
   "source": [
    "data.head()"
   ]
  },
  {
   "cell_type": "markdown",
   "id": "b821f16e",
   "metadata": {},
   "source": [
    "## Displaying the last five rows of the dataset"
   ]
  },
  {
   "cell_type": "code",
   "execution_count": 24,
   "id": "920ddd51",
   "metadata": {},
   "outputs": [
    {
     "data": {
      "text/html": [
       "<div>\n",
       "<style scoped>\n",
       "    .dataframe tbody tr th:only-of-type {\n",
       "        vertical-align: middle;\n",
       "    }\n",
       "\n",
       "    .dataframe tbody tr th {\n",
       "        vertical-align: top;\n",
       "    }\n",
       "\n",
       "    .dataframe thead th {\n",
       "        text-align: right;\n",
       "    }\n",
       "</style>\n",
       "<table border=\"1\" class=\"dataframe\">\n",
       "  <thead>\n",
       "    <tr style=\"text-align: right;\">\n",
       "      <th></th>\n",
       "      <th>Name</th>\n",
       "      <th>Race</th>\n",
       "      <th>Age</th>\n",
       "      <th>Condition</th>\n",
       "      <th>Date</th>\n",
       "      <th>Drug</th>\n",
       "      <th>DrugId</th>\n",
       "      <th>EaseofUse</th>\n",
       "      <th>Effectiveness</th>\n",
       "      <th>Reviews</th>\n",
       "      <th>Satisfaction</th>\n",
       "      <th>Sex</th>\n",
       "      <th>Sides</th>\n",
       "      <th>UsefulCount</th>\n",
       "    </tr>\n",
       "  </thead>\n",
       "  <tbody>\n",
       "    <tr>\n",
       "      <th>362801</th>\n",
       "      <td>Karen Atkinson</td>\n",
       "      <td>White</td>\n",
       "      <td>55-64</td>\n",
       "      <td>Stop Smoking</td>\n",
       "      <td>11/14/2008</td>\n",
       "      <td>chantix</td>\n",
       "      <td>144470</td>\n",
       "      <td>5</td>\n",
       "      <td>5</td>\n",
       "      <td>I took the whole 12 weeks.I could have stopped...</td>\n",
       "      <td>5</td>\n",
       "      <td>Female</td>\n",
       "      <td>Nausea ,  headache ,  vomiting , drowsiness, g...</td>\n",
       "      <td>2</td>\n",
       "    </tr>\n",
       "    <tr>\n",
       "      <th>362802</th>\n",
       "      <td>Michael Barajas</td>\n",
       "      <td>Black</td>\n",
       "      <td></td>\n",
       "      <td>Other</td>\n",
       "      <td>11/14/2008</td>\n",
       "      <td>chantix</td>\n",
       "      <td>144470</td>\n",
       "      <td>2</td>\n",
       "      <td>3</td>\n",
       "      <td>My dad strated taking Chantix about 1 month ag...</td>\n",
       "      <td>1</td>\n",
       "      <td></td>\n",
       "      <td>Nausea ,  headache ,  vomiting , drowsiness, g...</td>\n",
       "      <td>16</td>\n",
       "    </tr>\n",
       "    <tr>\n",
       "      <th>362803</th>\n",
       "      <td>Courtney James</td>\n",
       "      <td>Asian</td>\n",
       "      <td>25-34</td>\n",
       "      <td>Stop Smoking</td>\n",
       "      <td>11/13/2008</td>\n",
       "      <td>chantix</td>\n",
       "      <td>144470</td>\n",
       "      <td>2</td>\n",
       "      <td>4</td>\n",
       "      <td>As long as I was on chantix, I didn't smoke.  ...</td>\n",
       "      <td>2</td>\n",
       "      <td>Female</td>\n",
       "      <td>Nausea ,  headache ,  vomiting , drowsiness, g...</td>\n",
       "      <td>3</td>\n",
       "    </tr>\n",
       "    <tr>\n",
       "      <th>362804</th>\n",
       "      <td>William Madden</td>\n",
       "      <td>Asian</td>\n",
       "      <td>55-64</td>\n",
       "      <td>Stop Smoking</td>\n",
       "      <td>11/13/2008</td>\n",
       "      <td>chantix</td>\n",
       "      <td>144470</td>\n",
       "      <td>5</td>\n",
       "      <td>5</td>\n",
       "      <td>Started this medication Oct 5th 2008. Haven't ...</td>\n",
       "      <td>5</td>\n",
       "      <td>Male</td>\n",
       "      <td>Nausea ,  headache ,  vomiting , drowsiness, g...</td>\n",
       "      <td>1</td>\n",
       "    </tr>\n",
       "    <tr>\n",
       "      <th>362805</th>\n",
       "      <td>Brett Henry</td>\n",
       "      <td>Asian</td>\n",
       "      <td>45-54</td>\n",
       "      <td>Stop Smoking</td>\n",
       "      <td>11/12/2008</td>\n",
       "      <td>chantix</td>\n",
       "      <td>144470</td>\n",
       "      <td>4</td>\n",
       "      <td>5</td>\n",
       "      <td>One year ago, I tried Chantix and had to stop ...</td>\n",
       "      <td>5</td>\n",
       "      <td>Female</td>\n",
       "      <td>Nausea ,  headache ,  vomiting , drowsiness, g...</td>\n",
       "      <td>3</td>\n",
       "    </tr>\n",
       "  </tbody>\n",
       "</table>\n",
       "</div>"
      ],
      "text/plain": [
       "                   Name   Race    Age     Condition        Date     Drug  \\\n",
       "362801   Karen Atkinson  White  55-64  Stop Smoking  11/14/2008  chantix   \n",
       "362802  Michael Barajas  Black                Other  11/14/2008  chantix   \n",
       "362803   Courtney James  Asian  25-34  Stop Smoking  11/13/2008  chantix   \n",
       "362804   William Madden  Asian  55-64  Stop Smoking  11/13/2008  chantix   \n",
       "362805      Brett Henry  Asian  45-54  Stop Smoking  11/12/2008  chantix   \n",
       "\n",
       "        DrugId  EaseofUse  Effectiveness  \\\n",
       "362801  144470          5              5   \n",
       "362802  144470          2              3   \n",
       "362803  144470          2              4   \n",
       "362804  144470          5              5   \n",
       "362805  144470          4              5   \n",
       "\n",
       "                                                  Reviews  Satisfaction  \\\n",
       "362801  I took the whole 12 weeks.I could have stopped...             5   \n",
       "362802  My dad strated taking Chantix about 1 month ag...             1   \n",
       "362803  As long as I was on chantix, I didn't smoke.  ...             2   \n",
       "362804  Started this medication Oct 5th 2008. Haven't ...             5   \n",
       "362805  One year ago, I tried Chantix and had to stop ...             5   \n",
       "\n",
       "           Sex                                              Sides  UsefulCount  \n",
       "362801  Female  Nausea ,  headache ,  vomiting , drowsiness, g...            2  \n",
       "362802          Nausea ,  headache ,  vomiting , drowsiness, g...           16  \n",
       "362803  Female  Nausea ,  headache ,  vomiting , drowsiness, g...            3  \n",
       "362804    Male  Nausea ,  headache ,  vomiting , drowsiness, g...            1  \n",
       "362805  Female  Nausea ,  headache ,  vomiting , drowsiness, g...            3  "
      ]
     },
     "execution_count": 24,
     "metadata": {},
     "output_type": "execute_result"
    }
   ],
   "source": [
    "data.tail()"
   ]
  },
  {
   "cell_type": "markdown",
   "id": "d222c497",
   "metadata": {},
   "source": [
    "## Information on the Dataset "
   ]
  },
  {
   "cell_type": "code",
   "execution_count": 25,
   "id": "27cdb373",
   "metadata": {},
   "outputs": [
    {
     "name": "stdout",
     "output_type": "stream",
     "text": [
      "<class 'pandas.core.frame.DataFrame'>\n",
      "RangeIndex: 362806 entries, 0 to 362805\n",
      "Data columns (total 14 columns):\n",
      " #   Column         Non-Null Count   Dtype \n",
      "---  ------         --------------   ----- \n",
      " 0   Name           362806 non-null  object\n",
      " 1   Race           362806 non-null  object\n",
      " 2   Age            362806 non-null  object\n",
      " 3   Condition      362806 non-null  object\n",
      " 4   Date           362806 non-null  object\n",
      " 5   Drug           362806 non-null  object\n",
      " 6   DrugId         362806 non-null  int64 \n",
      " 7   EaseofUse      362806 non-null  int64 \n",
      " 8   Effectiveness  362806 non-null  int64 \n",
      " 9   Reviews        362769 non-null  object\n",
      " 10  Satisfaction   362806 non-null  int64 \n",
      " 11  Sex            362806 non-null  object\n",
      " 12  Sides          362806 non-null  object\n",
      " 13  UsefulCount    362806 non-null  int64 \n",
      "dtypes: int64(5), object(9)\n",
      "memory usage: 38.8+ MB\n"
     ]
    }
   ],
   "source": [
    "data.info()"
   ]
  },
  {
   "cell_type": "markdown",
   "id": "1f9e9faf",
   "metadata": {},
   "source": [
    "### Insight"
   ]
  },
  {
   "cell_type": "markdown",
   "id": "bdffef55",
   "metadata": {},
   "source": [
    "The info() method provides a summary of the dataset, offering essential information such as column types, non-null values, and memory usage. In this dataset, there are 9 categorical variables and 5 integer variables."
   ]
  },
  {
   "cell_type": "code",
   "execution_count": 26,
   "id": "abc404a1",
   "metadata": {},
   "outputs": [
    {
     "data": {
      "text/plain": [
       "(362806, 14)"
      ]
     },
     "execution_count": 26,
     "metadata": {},
     "output_type": "execute_result"
    }
   ],
   "source": [
    "data.shape"
   ]
  },
  {
   "cell_type": "markdown",
   "id": "34792575",
   "metadata": {},
   "source": [
    "### Insight"
   ]
  },
  {
   "cell_type": "markdown",
   "id": "7bc3d505",
   "metadata": {},
   "source": [
    "The dataset consists of 362806 rows and 14 columns"
   ]
  },
  {
   "cell_type": "markdown",
   "id": "6288e2b1",
   "metadata": {},
   "source": [
    "## Checking for NULL values"
   ]
  },
  {
   "cell_type": "code",
   "execution_count": 27,
   "id": "5bfdb29d",
   "metadata": {},
   "outputs": [
    {
     "data": {
      "text/plain": [
       "Name              0\n",
       "Race              0\n",
       "Age               0\n",
       "Condition         0\n",
       "Date              0\n",
       "Drug              0\n",
       "DrugId            0\n",
       "EaseofUse         0\n",
       "Effectiveness     0\n",
       "Reviews          37\n",
       "Satisfaction      0\n",
       "Sex               0\n",
       "Sides             0\n",
       "UsefulCount       0\n",
       "dtype: int64"
      ]
     },
     "execution_count": 27,
     "metadata": {},
     "output_type": "execute_result"
    }
   ],
   "source": [
    "data.isna().sum()"
   ]
  },
  {
   "cell_type": "markdown",
   "id": "8d622ad6",
   "metadata": {},
   "source": [
    "### Insight"
   ]
  },
  {
   "cell_type": "markdown",
   "id": "f7a19cba",
   "metadata": {},
   "source": [
    "The column Reviews has 37 missing values"
   ]
  },
  {
   "cell_type": "markdown",
   "id": "39a95ab2",
   "metadata": {},
   "source": [
    "## Datatypes"
   ]
  },
  {
   "cell_type": "code",
   "execution_count": 28,
   "id": "1901e32f",
   "metadata": {},
   "outputs": [
    {
     "data": {
      "text/plain": [
       "Name             object\n",
       "Race             object\n",
       "Age              object\n",
       "Condition        object\n",
       "Date             object\n",
       "Drug             object\n",
       "DrugId            int64\n",
       "EaseofUse         int64\n",
       "Effectiveness     int64\n",
       "Reviews          object\n",
       "Satisfaction      int64\n",
       "Sex              object\n",
       "Sides            object\n",
       "UsefulCount       int64\n",
       "dtype: object"
      ]
     },
     "execution_count": 28,
     "metadata": {},
     "output_type": "execute_result"
    }
   ],
   "source": [
    "data.dtypes"
   ]
  },
  {
   "cell_type": "markdown",
   "id": "094d1752",
   "metadata": {},
   "source": [
    "### Insight"
   ]
  },
  {
   "cell_type": "markdown",
   "id": "af50566a",
   "metadata": {},
   "source": [
    "The dataset consists of five integer-type fields and nine object-type fields."
   ]
  },
  {
   "cell_type": "markdown",
   "id": "f08a473d",
   "metadata": {},
   "source": [
    "## Descriptive Statistics"
   ]
  },
  {
   "cell_type": "code",
   "execution_count": 29,
   "id": "4f2f2c77",
   "metadata": {},
   "outputs": [
    {
     "data": {
      "text/html": [
       "<div>\n",
       "<style scoped>\n",
       "    .dataframe tbody tr th:only-of-type {\n",
       "        vertical-align: middle;\n",
       "    }\n",
       "\n",
       "    .dataframe tbody tr th {\n",
       "        vertical-align: top;\n",
       "    }\n",
       "\n",
       "    .dataframe thead th {\n",
       "        text-align: right;\n",
       "    }\n",
       "</style>\n",
       "<table border=\"1\" class=\"dataframe\">\n",
       "  <thead>\n",
       "    <tr style=\"text-align: right;\">\n",
       "      <th></th>\n",
       "      <th>DrugId</th>\n",
       "      <th>EaseofUse</th>\n",
       "      <th>Effectiveness</th>\n",
       "      <th>Satisfaction</th>\n",
       "      <th>UsefulCount</th>\n",
       "    </tr>\n",
       "  </thead>\n",
       "  <tbody>\n",
       "    <tr>\n",
       "      <th>count</th>\n",
       "      <td>362806.000000</td>\n",
       "      <td>362806.000000</td>\n",
       "      <td>362806.000000</td>\n",
       "      <td>362806.000000</td>\n",
       "      <td>362806.000000</td>\n",
       "    </tr>\n",
       "    <tr>\n",
       "      <th>mean</th>\n",
       "      <td>36879.370774</td>\n",
       "      <td>4.019829</td>\n",
       "      <td>3.532061</td>\n",
       "      <td>3.135408</td>\n",
       "      <td>6.744916</td>\n",
       "    </tr>\n",
       "    <tr>\n",
       "      <th>std</th>\n",
       "      <td>52624.412971</td>\n",
       "      <td>1.317711</td>\n",
       "      <td>1.455961</td>\n",
       "      <td>1.611106</td>\n",
       "      <td>9.324240</td>\n",
       "    </tr>\n",
       "    <tr>\n",
       "      <th>min</th>\n",
       "      <td>1.000000</td>\n",
       "      <td>1.000000</td>\n",
       "      <td>1.000000</td>\n",
       "      <td>1.000000</td>\n",
       "      <td>0.000000</td>\n",
       "    </tr>\n",
       "    <tr>\n",
       "      <th>25%</th>\n",
       "      <td>4896.000000</td>\n",
       "      <td>3.000000</td>\n",
       "      <td>3.000000</td>\n",
       "      <td>1.000000</td>\n",
       "      <td>1.000000</td>\n",
       "    </tr>\n",
       "    <tr>\n",
       "      <th>50%</th>\n",
       "      <td>9548.000000</td>\n",
       "      <td>5.000000</td>\n",
       "      <td>4.000000</td>\n",
       "      <td>3.000000</td>\n",
       "      <td>4.000000</td>\n",
       "    </tr>\n",
       "    <tr>\n",
       "      <th>75%</th>\n",
       "      <td>63522.000000</td>\n",
       "      <td>5.000000</td>\n",
       "      <td>5.000000</td>\n",
       "      <td>5.000000</td>\n",
       "      <td>9.000000</td>\n",
       "    </tr>\n",
       "    <tr>\n",
       "      <th>max</th>\n",
       "      <td>178546.000000</td>\n",
       "      <td>10.000000</td>\n",
       "      <td>10.000000</td>\n",
       "      <td>10.000000</td>\n",
       "      <td>255.000000</td>\n",
       "    </tr>\n",
       "  </tbody>\n",
       "</table>\n",
       "</div>"
      ],
      "text/plain": [
       "              DrugId      EaseofUse  Effectiveness   Satisfaction  \\\n",
       "count  362806.000000  362806.000000  362806.000000  362806.000000   \n",
       "mean    36879.370774       4.019829       3.532061       3.135408   \n",
       "std     52624.412971       1.317711       1.455961       1.611106   \n",
       "min         1.000000       1.000000       1.000000       1.000000   \n",
       "25%      4896.000000       3.000000       3.000000       1.000000   \n",
       "50%      9548.000000       5.000000       4.000000       3.000000   \n",
       "75%     63522.000000       5.000000       5.000000       5.000000   \n",
       "max    178546.000000      10.000000      10.000000      10.000000   \n",
       "\n",
       "         UsefulCount  \n",
       "count  362806.000000  \n",
       "mean        6.744916  \n",
       "std         9.324240  \n",
       "min         0.000000  \n",
       "25%         1.000000  \n",
       "50%         4.000000  \n",
       "75%         9.000000  \n",
       "max       255.000000  "
      ]
     },
     "execution_count": 29,
     "metadata": {},
     "output_type": "execute_result"
    }
   ],
   "source": [
    "data.describe()"
   ]
  },
  {
   "cell_type": "markdown",
   "id": "ee8da791",
   "metadata": {},
   "source": [
    "### Insight "
   ]
  },
  {
   "cell_type": "markdown",
   "id": "5fe8fbca",
   "metadata": {},
   "source": [
    "Displays the summary statistics such as count, mean, standard deviation, minimum and maximum value, first, second and third quartile values."
   ]
  },
  {
   "cell_type": "markdown",
   "id": "da436a33",
   "metadata": {},
   "source": [
    "## Summary Statistics - Objective Datatype"
   ]
  },
  {
   "cell_type": "code",
   "execution_count": 30,
   "id": "7193d86d",
   "metadata": {},
   "outputs": [
    {
     "data": {
      "text/html": [
       "<div>\n",
       "<style scoped>\n",
       "    .dataframe tbody tr th:only-of-type {\n",
       "        vertical-align: middle;\n",
       "    }\n",
       "\n",
       "    .dataframe tbody tr th {\n",
       "        vertical-align: top;\n",
       "    }\n",
       "\n",
       "    .dataframe thead th {\n",
       "        text-align: right;\n",
       "    }\n",
       "</style>\n",
       "<table border=\"1\" class=\"dataframe\">\n",
       "  <thead>\n",
       "    <tr style=\"text-align: right;\">\n",
       "      <th></th>\n",
       "      <th>count</th>\n",
       "      <th>unique</th>\n",
       "      <th>top</th>\n",
       "      <th>freq</th>\n",
       "    </tr>\n",
       "  </thead>\n",
       "  <tbody>\n",
       "    <tr>\n",
       "      <th>Name</th>\n",
       "      <td>362806</td>\n",
       "      <td>181165</td>\n",
       "      <td>Michael Smith</td>\n",
       "      <td>186</td>\n",
       "    </tr>\n",
       "    <tr>\n",
       "      <th>Race</th>\n",
       "      <td>362806</td>\n",
       "      <td>4</td>\n",
       "      <td>Asian</td>\n",
       "      <td>116085</td>\n",
       "    </tr>\n",
       "    <tr>\n",
       "      <th>Age</th>\n",
       "      <td>362806</td>\n",
       "      <td>12</td>\n",
       "      <td>45-54</td>\n",
       "      <td>80043</td>\n",
       "    </tr>\n",
       "    <tr>\n",
       "      <th>Condition</th>\n",
       "      <td>362806</td>\n",
       "      <td>1806</td>\n",
       "      <td>Other</td>\n",
       "      <td>49765</td>\n",
       "    </tr>\n",
       "    <tr>\n",
       "      <th>Date</th>\n",
       "      <td>362806</td>\n",
       "      <td>4524</td>\n",
       "      <td>10/29/2007</td>\n",
       "      <td>404</td>\n",
       "    </tr>\n",
       "    <tr>\n",
       "      <th>Drug</th>\n",
       "      <td>362806</td>\n",
       "      <td>7093</td>\n",
       "      <td>cymbalta</td>\n",
       "      <td>4648</td>\n",
       "    </tr>\n",
       "    <tr>\n",
       "      <th>Reviews</th>\n",
       "      <td>362769</td>\n",
       "      <td>250167</td>\n",
       "      <td></td>\n",
       "      <td>41824</td>\n",
       "    </tr>\n",
       "    <tr>\n",
       "      <th>Sex</th>\n",
       "      <td>362806</td>\n",
       "      <td>3</td>\n",
       "      <td>Female</td>\n",
       "      <td>238226</td>\n",
       "    </tr>\n",
       "    <tr>\n",
       "      <th>Sides</th>\n",
       "      <td>362806</td>\n",
       "      <td>1651</td>\n",
       "      <td></td>\n",
       "      <td>17460</td>\n",
       "    </tr>\n",
       "  </tbody>\n",
       "</table>\n",
       "</div>"
      ],
      "text/plain": [
       "            count  unique            top    freq\n",
       "Name       362806  181165  Michael Smith     186\n",
       "Race       362806       4          Asian  116085\n",
       "Age        362806      12          45-54   80043\n",
       "Condition  362806    1806          Other   49765\n",
       "Date       362806    4524     10/29/2007     404\n",
       "Drug       362806    7093       cymbalta    4648\n",
       "Reviews    362769  250167                  41824\n",
       "Sex        362806       3         Female  238226\n",
       "Sides      362806    1651                  17460"
      ]
     },
     "execution_count": 30,
     "metadata": {},
     "output_type": "execute_result"
    }
   ],
   "source": [
    "data.describe(include='object').T"
   ]
  },
  {
   "cell_type": "markdown",
   "id": "dd78a3dc",
   "metadata": {},
   "source": [
    "### Insight "
   ]
  },
  {
   "cell_type": "markdown",
   "id": "333732d9",
   "metadata": {},
   "source": [
    "The age group between 45 to 54 has the highest representation.\n",
    "\n",
    "Female patients outnumber male patients.\n",
    "\n",
    "Among the drugs, Cymbalta is the most frequently used."
   ]
  },
  {
   "cell_type": "markdown",
   "id": "d8503546",
   "metadata": {},
   "source": [
    "## Checking for duplicate values"
   ]
  },
  {
   "cell_type": "code",
   "execution_count": 31,
   "id": "144d92aa",
   "metadata": {},
   "outputs": [
    {
     "data": {
      "text/plain": [
       "0"
      ]
     },
     "execution_count": 31,
     "metadata": {},
     "output_type": "execute_result"
    }
   ],
   "source": [
    "data.duplicated().sum()"
   ]
  },
  {
   "cell_type": "markdown",
   "id": "a145d472",
   "metadata": {},
   "source": [
    "### Insight"
   ]
  },
  {
   "cell_type": "markdown",
   "id": "d869712a",
   "metadata": {},
   "source": [
    "There are no duplicate values present in the dataset"
   ]
  },
  {
   "cell_type": "markdown",
   "id": "f0692587",
   "metadata": {},
   "source": [
    "## Column Names"
   ]
  },
  {
   "cell_type": "code",
   "execution_count": 32,
   "id": "cbd579aa",
   "metadata": {},
   "outputs": [
    {
     "data": {
      "text/plain": [
       "Index(['Name', 'Race', 'Age', 'Condition', 'Date', 'Drug', 'DrugId',\n",
       "       'EaseofUse', 'Effectiveness', 'Reviews', 'Satisfaction', 'Sex', 'Sides',\n",
       "       'UsefulCount'],\n",
       "      dtype='object')"
      ]
     },
     "execution_count": 32,
     "metadata": {},
     "output_type": "execute_result"
    }
   ],
   "source": [
    "data.columns"
   ]
  },
  {
   "cell_type": "markdown",
   "id": "bae087b3",
   "metadata": {},
   "source": [
    "## Unique Occurences of each variable"
   ]
  },
  {
   "cell_type": "code",
   "execution_count": 33,
   "id": "8d431f5c",
   "metadata": {},
   "outputs": [
    {
     "name": "stdout",
     "output_type": "stream",
     "text": [
      "Name : 181165 \n",
      "\n",
      "Race : 4 \n",
      "\n",
      "Age : 12 \n",
      "\n",
      "Condition : 1806 \n",
      "\n",
      "Date : 4524 \n",
      "\n",
      "Drug : 7093 \n",
      "\n",
      "DrugId : 6572 \n",
      "\n",
      "EaseofUse : 7 \n",
      "\n",
      "Effectiveness : 7 \n",
      "\n",
      "Reviews : 250167 \n",
      "\n",
      "Satisfaction : 7 \n",
      "\n",
      "Sex : 3 \n",
      "\n",
      "Sides : 1651 \n",
      "\n",
      "UsefulCount : 148 \n",
      "\n"
     ]
    }
   ],
   "source": [
    "for i in data.columns:\n",
    "    print(i,':',data[i].nunique(),'\\n')"
   ]
  },
  {
   "cell_type": "markdown",
   "id": "652986a8",
   "metadata": {},
   "source": [
    "### Insight"
   ]
  },
  {
   "cell_type": "markdown",
   "id": "47170219",
   "metadata": {},
   "source": [
    "The column 'Sex' has three categories\n",
    "\n",
    "There are four different races present\n",
    "\n",
    "'Drug' has more values than 'DrugId'\n",
    "\n",
    "'Condition' has lesser values than 'Drug'/'DrugId'.\n",
    "\n",
    "'Reviews' has close to 70% unique values."
   ]
  },
  {
   "cell_type": "markdown",
   "id": "58ea3b59",
   "metadata": {},
   "source": [
    "## Creating the list of Categorical Values"
   ]
  },
  {
   "cell_type": "code",
   "execution_count": 34,
   "id": "09fa7e04",
   "metadata": {},
   "outputs": [
    {
     "data": {
      "text/plain": [
       "['Name', 'Race', 'Age', 'Condition', 'Date', 'Drug', 'Reviews', 'Sex', 'Sides']"
      ]
     },
     "execution_count": 34,
     "metadata": {},
     "output_type": "execute_result"
    }
   ],
   "source": [
    "cat_var = []\n",
    "\n",
    "for column in data:\n",
    "    if data[column].dtype == 'O':\n",
    "        cat_var.append(column)\n",
    "cat_var"
   ]
  },
  {
   "cell_type": "code",
   "execution_count": 35,
   "id": "3421b59f",
   "metadata": {},
   "outputs": [
    {
     "name": "stdout",
     "output_type": "stream",
     "text": [
      "\n",
      " Name \n",
      " ['James Washington' 'Daniel Ward' 'Todd Smith' ... 'Vanessa Escobar'\n",
      " 'Jesus Gamble' 'Brett Henry'] \n",
      " ________________________________________________________________________________\n",
      "\n",
      " Race \n",
      " ['Hispanic' 'White' 'Black' 'Asian'] \n",
      " ________________________________________________________________________________\n",
      "\n",
      " Age \n",
      " ['75 or over' '25-34' '65-74' '35-44' '55-64' '45-54' '19-24' ' ' '13-18'\n",
      " '7-12' '0-2' '3-6'] \n",
      " ________________________________________________________________________________\n",
      "\n",
      " Condition \n",
      " ['Stuffy Nose' 'Cold Symptoms' 'Other' ...\n",
      " 'Combative and Explosive Behavior' 'Lead Poisoning'\n",
      " 'Poisoning from Swallowed Unknown Substance'] \n",
      " ________________________________________________________________________________\n",
      "\n",
      " Date \n",
      " ['9/21/2014' '1/13/2011' '7/16/2012' ... '10/25/2019' '6/22/2019'\n",
      " '10/19/2019'] \n",
      " ________________________________________________________________________________\n",
      "\n",
      " Drug \n",
      " ['25dph-7.5peh' 'warfarin (bulk) 100 % powder' 'wymzya fe' ...\n",
      " 'chest congestion relief dm' 'chantix' 'chateal'] \n",
      " ________________________________________________________________________________\n",
      "\n",
      " Reviews \n",
      " [\"I'm a retired physician and of all the meds I have tried for my allergies (seasonal and not) - this one is the most effective for me.  When I first began using this drug some years ago - tiredness as a problem but is not currently.\"\n",
      " 'cleared me right up even with my throat hurting it went away after taking the medicine'\n",
      " 'why did my PTINR go from a normal of 2.5 to over \\n100?' ...\n",
      " \"As long as I was on chantix, I didn't smoke.  Terrible stomach upset after each dose, constipation, headaches constantly, crazy dreams and mood swings.  I have had to stop taking it and have found other ways to stop smoking.\"\n",
      " \"Started this medication Oct 5th 2008. Haven't smoked for 6 weeks and planning on the full 12 weeks program.  I have had some problems like getting sick after the meds but accually it helps because everytime I see a smoker or smell smoke I get sick, still want one but it offsets it.\"\n",
      " \"One year ago, I tried Chantix and had to stop taking it because I was so nauseous in the morning.  Three weeks ago I started it again and found that if I eat 10 minutes before taking the pill, I don't get nauseous at all.  I have been smoke free for two weeks and will never smoke again.  \"] \n",
      " ________________________________________________________________________________\n",
      "\n",
      " Sex \n",
      " ['Male' 'Female' ' '] \n",
      " ________________________________________________________________________________\n",
      "\n",
      " Sides \n",
      " ['Drowsiness,  dizziness ,  dry mouth /nose/throat,  headache ,  upset stomach ,  constipation , or  trouble sleeping  may occur.'\n",
      " ' '\n",
      " 'Nausea ,  vomiting ,  headache ,  bloating ,  breast  tenderness, swelling of the  ankles /feet (fluid retention), or  weight  change may occur.'\n",
      " ...\n",
      " 'Drowsiness,  dizziness ,  nausea ,  constipation ,  blurred vision , or  headache  may occur.'\n",
      " 'Drowsiness,  dizziness ,  dry mouth ,  blurred vision ,  constipation ,  bloating , trouble urinating, and  weight  gain may occur.'\n",
      " 'Diarrhea ,  nausea , or  heartburn  may occur.'] \n",
      " ________________________________________________________________________________\n"
     ]
    }
   ],
   "source": [
    "# finding the unique values in each categorical variables\n",
    "for col in cat_var:\n",
    "    print('\\n', col, '\\n', data[col].unique(), '\\n', '_' * 80)"
   ]
  },
  {
   "cell_type": "code",
   "execution_count": 36,
   "id": "614d37c2",
   "metadata": {},
   "outputs": [
    {
     "data": {
      "text/plain": [
       "Michael Smith      186\n",
       "Michael Johnson    138\n",
       "John Smith         125\n",
       "Jennifer Smith     117\n",
       "David Smith        112\n",
       "                  ... \n",
       "Yvonne Nelson        1\n",
       "Haley Mann           1\n",
       "Edgar Brewer         1\n",
       "Janet Mendez         1\n",
       "Brett Henry          1\n",
       "Name: Name, Length: 181165, dtype: int64"
      ]
     },
     "execution_count": 36,
     "metadata": {},
     "output_type": "execute_result"
    }
   ],
   "source": [
    "data['Name'].value_counts()"
   ]
  },
  {
   "cell_type": "code",
   "execution_count": 37,
   "id": "3377dbcd",
   "metadata": {},
   "outputs": [
    {
     "data": {
      "text/plain": [
       "Asian       116085\n",
       "White       101557\n",
       "Black        79802\n",
       "Hispanic     65362\n",
       "Name: Race, dtype: int64"
      ]
     },
     "execution_count": 37,
     "metadata": {},
     "output_type": "execute_result"
    }
   ],
   "source": [
    "data['Race'].value_counts()"
   ]
  },
  {
   "cell_type": "code",
   "execution_count": 38,
   "id": "34da60eb",
   "metadata": {},
   "outputs": [
    {
     "data": {
      "text/plain": [
       "45-54         80043\n",
       "55-64         75136\n",
       "35-44         55011\n",
       "25-34         49718\n",
       "65-74         41216\n",
       "19-24         24230\n",
       "75 or over    15226\n",
       "              12202\n",
       "13-18          7045\n",
       "7-12           1644\n",
       "3-6             838\n",
       "0-2             497\n",
       "Name: Age, dtype: int64"
      ]
     },
     "execution_count": 38,
     "metadata": {},
     "output_type": "execute_result"
    }
   ],
   "source": [
    "data['Age'].value_counts()"
   ]
  },
  {
   "cell_type": "code",
   "execution_count": 39,
   "id": "081fddaf",
   "metadata": {},
   "outputs": [
    {
     "data": {
      "text/plain": [
       "10/29/2007    404\n",
       "10/30/2007    316\n",
       "10/28/2007    315\n",
       "3/15/2010     308\n",
       "3/16/2010     295\n",
       "             ... \n",
       "10/19/2019      2\n",
       "10/27/2019      1\n",
       "10/20/2019      1\n",
       "6/28/2019       1\n",
       "6/22/2019       1\n",
       "Name: Date, Length: 4524, dtype: int64"
      ]
     },
     "execution_count": 39,
     "metadata": {},
     "output_type": "execute_result"
    }
   ],
   "source": [
    "data['Date'].value_counts()"
   ]
  },
  {
   "cell_type": "code",
   "execution_count": 40,
   "id": "c816f846",
   "metadata": {},
   "outputs": [
    {
     "data": {
      "text/plain": [
       "cymbalta                               4648\n",
       "lisinopril                             4269\n",
       "lisinopril solution                    4269\n",
       "lexapro                                4134\n",
       "hydrocodone-acetaminophen              3944\n",
       "                                       ... \n",
       "sorbsan bandage                           1\n",
       "sorbsan topical wound dressing 3\" x       1\n",
       "q-pap extra strength                      1\n",
       "symax                                     1\n",
       "vanadium granules                         1\n",
       "Name: Drug, Length: 7093, dtype: int64"
      ]
     },
     "execution_count": 40,
     "metadata": {},
     "output_type": "execute_result"
    }
   ],
   "source": [
    "data['Drug'].value_counts()"
   ]
  },
  {
   "cell_type": "code",
   "execution_count": 41,
   "id": "98987002",
   "metadata": {},
   "outputs": [
    {
     "data": {
      "text/plain": [
       "6873      8538\n",
       "1025      7868\n",
       "6007      7728\n",
       "4398      5864\n",
       "14208     5451\n",
       "          ... \n",
       "4118         1\n",
       "165948       1\n",
       "54215        1\n",
       "154021       1\n",
       "149247       1\n",
       "Name: DrugId, Length: 6572, dtype: int64"
      ]
     },
     "execution_count": 41,
     "metadata": {},
     "output_type": "execute_result"
    }
   ],
   "source": [
    "data['DrugId'].value_counts()"
   ]
  },
  {
   "cell_type": "code",
   "execution_count": 42,
   "id": "2cfc4510",
   "metadata": {},
   "outputs": [
    {
     "data": {
      "text/plain": [
       "5     192650\n",
       "4      74732\n",
       "3      41303\n",
       "1      35927\n",
       "2      18191\n",
       "6          2\n",
       "10         1\n",
       "Name: EaseofUse, dtype: int64"
      ]
     },
     "execution_count": 42,
     "metadata": {},
     "output_type": "execute_result"
    }
   ],
   "source": [
    "data['EaseofUse'].value_counts()"
   ]
  },
  {
   "cell_type": "code",
   "execution_count": 43,
   "id": "3efb4f14",
   "metadata": {},
   "outputs": [
    {
     "data": {
      "text/plain": [
       "5     130388\n",
       "4      81821\n",
       "3      60406\n",
       "1      59387\n",
       "2      30801\n",
       "6          2\n",
       "10         1\n",
       "Name: Effectiveness, dtype: int64"
      ]
     },
     "execution_count": 43,
     "metadata": {},
     "output_type": "execute_result"
    }
   ],
   "source": [
    "data['Effectiveness'].value_counts()"
   ]
  },
  {
   "cell_type": "code",
   "execution_count": 44,
   "id": "9efdfc3d",
   "metadata": {},
   "outputs": [
    {
     "data": {
      "text/plain": [
       "                                                                                                                                                                                                                                                                                                                                                                                                                                                                                                                                                                                                                                                                           41824\n",
       "good                                                                                                                                                                                                                                                                                                                                                                                                                                                                                                                                                                                                                                                                         183\n",
       "this treatment is awsome.  I love drugs.                                                                                                                                                                                                                                                                                                                                                                                                                                                                                                                                                                                                                                     172\n",
       "This drug is awesome.  I love drugs.                                                                                                                                                                                                                                                                                                                                                                                                                                                                                                                                                                                                                                         128\n",
       "No Script or health Insurance needed to place and order with 10% discount for all purchased. It was nice to have some from them, I just hit them at. WhatsApp only:+1(775)7735306,\\nCall/Text:+1(775)7735306,\\nWickr or Kik: peterking2014.\\nEmail: peterkings2014@gmail.com.\\nMessage code: (Med16) Discreet Delivery                                                                                                                                                                                                                                                                                                                                                        90\n",
       "                                                                                                                                                                                                                                                                                                                                                                                                                                                                                                                                                                                                                                                                           ...  \n",
       "OMG!! Is this shot painful or what!! Received Synvisc-one yesterday and almost passed out from the pain. Only one knee was causing me alot of problems and the other one was just starting to. Now, after receiving an injection in both knees, I am having to rely on crutches and pain meds. It feels like someone stuffed a rubber eraser under both my kneecaps. When is this nightmare going to get better? I was optimistic that relief would happen after I left the doctor's office. The only thing lighter was my check book. I think inject 6ml of thick gel is too much to do at one time. I'll have to give it some time before I EVER go thru this again.         1\n",
       "Just take it now for 3 weeks\\nFeel a little better but still had a little weightgain. muscle  hurting.But overall feel better.                                                                                                                                                                                                                                                                                                                                                                                                                                                                                                                                                 1\n",
       "This has been a miracle drug for.  Yes I gained some wieght, but it was well worth it.  For the first time in years, I am not suicidal and I don't have sickening thoughts.  This medication has helped my greatly.                                                                                                                                                                                                                                                                                                                                                                                                                                                            1\n",
       "worked quickly, got out of bed and had energy for first time in months.                                                                                                                                                                                                                                                                                                                                                                                                                                                                                                                                                                                                        1\n",
       "One year ago, I tried Chantix and had to stop taking it because I was so nauseous in the morning.  Three weeks ago I started it again and found that if I eat 10 minutes before taking the pill, I don't get nauseous at all.  I have been smoke free for two weeks and will never smoke again.                                                                                                                                                                                                                                                                                                                                                                                1\n",
       "Name: Reviews, Length: 250167, dtype: int64"
      ]
     },
     "execution_count": 44,
     "metadata": {},
     "output_type": "execute_result"
    }
   ],
   "source": [
    "data['Reviews'].value_counts()"
   ]
  },
  {
   "cell_type": "code",
   "execution_count": 45,
   "id": "e6180ac5",
   "metadata": {},
   "outputs": [
    {
     "data": {
      "text/plain": [
       "5     111550\n",
       "1     100901\n",
       "4      63158\n",
       "3      51852\n",
       "2      35342\n",
       "6          2\n",
       "10         1\n",
       "Name: Satisfaction, dtype: int64"
      ]
     },
     "execution_count": 45,
     "metadata": {},
     "output_type": "execute_result"
    }
   ],
   "source": [
    "data['Satisfaction'].value_counts()"
   ]
  },
  {
   "cell_type": "code",
   "execution_count": 46,
   "id": "9a1b1330",
   "metadata": {},
   "outputs": [
    {
     "data": {
      "text/plain": [
       "Female    238226\n",
       "Male       98043\n",
       "           26537\n",
       "Name: Sex, dtype: int64"
      ]
     },
     "execution_count": 46,
     "metadata": {},
     "output_type": "execute_result"
    }
   ],
   "source": [
    "data['Sex'].value_counts()"
   ]
  },
  {
   "cell_type": "code",
   "execution_count": 47,
   "id": "30a95b1c",
   "metadata": {},
   "outputs": [
    {
     "data": {
      "text/plain": [
       "                                                                                                                                                       17460\n",
       "Nausea ,  vomiting ,  constipation ,  lightheadedness ,  dizziness , or drowsiness may occur.                                                          15563\n",
       "Nausea ,  vomiting ,  headache ,  bloating ,  breast  tenderness, swelling of the  ankles /feet (fluid retention), or  weight  change may occur.       12116\n",
       "Dizziness ,  lightheadedness , tiredness, or  headache  may occur as your body adjusts to the  medication . Dry  cough  may also occur.                 9162\n",
       "Drowsiness,  dizziness , loss of coordination, tiredness, blurred/ double vision , unusual  eye  movements, or shaking (tremor) may occur.              7790\n",
       "                                                                                                                                                       ...  \n",
       "Nausea ,  vomiting ,  stomach / abdominal pain , gas,  diarrhea ,  weight loss ,  headache ,  muscle cramps ,  dizziness , or  weakness  may occur.        1\n",
       "Headache ,  nausea , chills, or fever may occur.                                                                                                           1\n",
       "Nausea ,  vomiting ,  diarrhea , abdominal/ stomach pain ,  cough ,  dizziness ,  headache , flushing, or loss of appetite may occur.                      1\n",
       "Mild  skin  burning, redness, and peeling of the treated area may occur as expected.                                                                       1\n",
       "Diarrhea ,  nausea , or  heartburn  may occur.                                                                                                             1\n",
       "Name: Sides, Length: 1651, dtype: int64"
      ]
     },
     "execution_count": 47,
     "metadata": {},
     "output_type": "execute_result"
    }
   ],
   "source": [
    "data['Sides'].value_counts()"
   ]
  },
  {
   "cell_type": "code",
   "execution_count": 48,
   "id": "0cb37ed7",
   "metadata": {},
   "outputs": [
    {
     "data": {
      "text/plain": [
       "0      71608\n",
       "1      46240\n",
       "2      34701\n",
       "3      27307\n",
       "4      22862\n",
       "       ...  \n",
       "136        1\n",
       "178        1\n",
       "176        1\n",
       "169        1\n",
       "95         1\n",
       "Name: UsefulCount, Length: 148, dtype: int64"
      ]
     },
     "execution_count": 48,
     "metadata": {},
     "output_type": "execute_result"
    }
   ],
   "source": [
    "data['UsefulCount'].value_counts()"
   ]
  },
  {
   "cell_type": "code",
   "execution_count": 49,
   "id": "924885cf",
   "metadata": {},
   "outputs": [
    {
     "data": {
      "text/plain": [
       "Other                                                  49765\n",
       "Pain                                                   25232\n",
       "High Blood Pressure                                    23275\n",
       "Depression                                             14509\n",
       "Birth Control                                          12253\n",
       "                                                       ...  \n",
       "Diagnostic Test for Myasthenia Gravis                      1\n",
       "Myelodysplastic Syndrome with 5q Deletion Gene Type        1\n",
       "Hunter Syndrome                                            1\n",
       "Increased Uric Acid due to Cancer Chemotherapy             1\n",
       "Adverse Effect of Benzodiazepine-Based Tranquilizer        1\n",
       "Name: Condition, Length: 1806, dtype: int64"
      ]
     },
     "execution_count": 49,
     "metadata": {},
     "output_type": "execute_result"
    }
   ],
   "source": [
    "data['Condition'].value_counts()"
   ]
  },
  {
   "cell_type": "code",
   "execution_count": 50,
   "id": "ff5736dd",
   "metadata": {},
   "outputs": [
    {
     "data": {
      "text/plain": [
       "cymbalta                               4648\n",
       "lisinopril                             4269\n",
       "lisinopril solution                    4269\n",
       "lexapro                                4134\n",
       "hydrocodone-acetaminophen              3944\n",
       "                                       ... \n",
       "sorbsan bandage                           1\n",
       "sorbsan topical wound dressing 3\" x       1\n",
       "q-pap extra strength                      1\n",
       "symax                                     1\n",
       "vanadium granules                         1\n",
       "Name: Drug, Length: 7093, dtype: int64"
      ]
     },
     "execution_count": 50,
     "metadata": {},
     "output_type": "execute_result"
    }
   ],
   "source": [
    "data['Drug'].value_counts()"
   ]
  },
  {
   "cell_type": "markdown",
   "id": "83f9cec1",
   "metadata": {},
   "source": [
    "##  Selection of Drug"
   ]
  },
  {
   "cell_type": "markdown",
   "id": "47874474",
   "metadata": {},
   "source": [
    "### A specific drug known as Topamax is selected for building the classification model to predict the side effects, which is identified by DrugId 14494"
   ]
  },
  {
   "cell_type": "code",
   "execution_count": 51,
   "id": "66b66daa",
   "metadata": {},
   "outputs": [
    {
     "data": {
      "text/html": [
       "<div>\n",
       "<style scoped>\n",
       "    .dataframe tbody tr th:only-of-type {\n",
       "        vertical-align: middle;\n",
       "    }\n",
       "\n",
       "    .dataframe tbody tr th {\n",
       "        vertical-align: top;\n",
       "    }\n",
       "\n",
       "    .dataframe thead th {\n",
       "        text-align: right;\n",
       "    }\n",
       "</style>\n",
       "<table border=\"1\" class=\"dataframe\">\n",
       "  <thead>\n",
       "    <tr style=\"text-align: right;\">\n",
       "      <th></th>\n",
       "      <th>Name</th>\n",
       "      <th>Race</th>\n",
       "      <th>Age</th>\n",
       "      <th>Condition</th>\n",
       "      <th>Date</th>\n",
       "      <th>Drug</th>\n",
       "      <th>DrugId</th>\n",
       "      <th>EaseofUse</th>\n",
       "      <th>Effectiveness</th>\n",
       "      <th>Reviews</th>\n",
       "      <th>Satisfaction</th>\n",
       "      <th>Sex</th>\n",
       "      <th>Sides</th>\n",
       "      <th>UsefulCount</th>\n",
       "    </tr>\n",
       "  </thead>\n",
       "  <tbody>\n",
       "    <tr>\n",
       "      <th>191568</th>\n",
       "      <td>Ann Harvey</td>\n",
       "      <td>Asian</td>\n",
       "      <td>45-54</td>\n",
       "      <td>Migraine Prevention</td>\n",
       "      <td>9/22/2019</td>\n",
       "      <td>topamax</td>\n",
       "      <td>14494</td>\n",
       "      <td>4</td>\n",
       "      <td>4</td>\n",
       "      <td>I was on this drug for 5 years, 100mg for the ...</td>\n",
       "      <td>1</td>\n",
       "      <td></td>\n",
       "      <td>Tiredness, drowsiness,  dizziness , loss of co...</td>\n",
       "      <td>5</td>\n",
       "    </tr>\n",
       "    <tr>\n",
       "      <th>191575</th>\n",
       "      <td>Roger Yu</td>\n",
       "      <td>Asian</td>\n",
       "      <td>35-44</td>\n",
       "      <td>Simple Partial Seizures</td>\n",
       "      <td>9/2/2019</td>\n",
       "      <td>topamax</td>\n",
       "      <td>14494</td>\n",
       "      <td>4</td>\n",
       "      <td>4</td>\n",
       "      <td>I have partial seizures. It didn't help for a ...</td>\n",
       "      <td>4</td>\n",
       "      <td></td>\n",
       "      <td>Tiredness, drowsiness,  dizziness , loss of co...</td>\n",
       "      <td>0</td>\n",
       "    </tr>\n",
       "    <tr>\n",
       "      <th>191582</th>\n",
       "      <td>Wayne Thompson</td>\n",
       "      <td>Asian</td>\n",
       "      <td>13-18</td>\n",
       "      <td>Migraine Prevention</td>\n",
       "      <td>8/9/2019</td>\n",
       "      <td>topamax</td>\n",
       "      <td>14494</td>\n",
       "      <td>1</td>\n",
       "      <td>1</td>\n",
       "      <td>I have been having migraines and headaches eve...</td>\n",
       "      <td>1</td>\n",
       "      <td></td>\n",
       "      <td>Tiredness, drowsiness,  dizziness , loss of co...</td>\n",
       "      <td>6</td>\n",
       "    </tr>\n",
       "    <tr>\n",
       "      <th>191589</th>\n",
       "      <td>Gilbert Hubbard</td>\n",
       "      <td>White</td>\n",
       "      <td>65-74</td>\n",
       "      <td>Essential Tremor</td>\n",
       "      <td>7/21/2019</td>\n",
       "      <td>topamax</td>\n",
       "      <td>14494</td>\n",
       "      <td>4</td>\n",
       "      <td>4</td>\n",
       "      <td>This is the only medication I have taken for t...</td>\n",
       "      <td>3</td>\n",
       "      <td></td>\n",
       "      <td>Tiredness, drowsiness,  dizziness , loss of co...</td>\n",
       "      <td>0</td>\n",
       "    </tr>\n",
       "    <tr>\n",
       "      <th>191596</th>\n",
       "      <td>Jacob Li</td>\n",
       "      <td>Asian</td>\n",
       "      <td>45-54</td>\n",
       "      <td>Migraine Prevention</td>\n",
       "      <td>4/30/2019</td>\n",
       "      <td>topamax</td>\n",
       "      <td>14494</td>\n",
       "      <td>5</td>\n",
       "      <td>5</td>\n",
       "      <td>I suffered from debilitating Cluster Headaches...</td>\n",
       "      <td>5</td>\n",
       "      <td></td>\n",
       "      <td>Tiredness, drowsiness,  dizziness , loss of co...</td>\n",
       "      <td>2</td>\n",
       "    </tr>\n",
       "  </tbody>\n",
       "</table>\n",
       "</div>"
      ],
      "text/plain": [
       "                   Name   Race    Age                Condition       Date  \\\n",
       "191568       Ann Harvey  Asian  45-54      Migraine Prevention  9/22/2019   \n",
       "191575         Roger Yu  Asian  35-44  Simple Partial Seizures   9/2/2019   \n",
       "191582   Wayne Thompson  Asian  13-18      Migraine Prevention   8/9/2019   \n",
       "191589  Gilbert Hubbard  White  65-74         Essential Tremor  7/21/2019   \n",
       "191596         Jacob Li  Asian  45-54      Migraine Prevention  4/30/2019   \n",
       "\n",
       "           Drug  DrugId  EaseofUse  Effectiveness  \\\n",
       "191568  topamax   14494          4              4   \n",
       "191575  topamax   14494          4              4   \n",
       "191582  topamax   14494          1              1   \n",
       "191589  topamax   14494          4              4   \n",
       "191596  topamax   14494          5              5   \n",
       "\n",
       "                                                  Reviews  Satisfaction Sex  \\\n",
       "191568  I was on this drug for 5 years, 100mg for the ...             1       \n",
       "191575  I have partial seizures. It didn't help for a ...             4       \n",
       "191582  I have been having migraines and headaches eve...             1       \n",
       "191589  This is the only medication I have taken for t...             3       \n",
       "191596  I suffered from debilitating Cluster Headaches...             5       \n",
       "\n",
       "                                                    Sides  UsefulCount  \n",
       "191568  Tiredness, drowsiness,  dizziness , loss of co...            5  \n",
       "191575  Tiredness, drowsiness,  dizziness , loss of co...            0  \n",
       "191582  Tiredness, drowsiness,  dizziness , loss of co...            6  \n",
       "191589  Tiredness, drowsiness,  dizziness , loss of co...            0  \n",
       "191596  Tiredness, drowsiness,  dizziness , loss of co...            2  "
      ]
     },
     "execution_count": 51,
     "metadata": {},
     "output_type": "execute_result"
    }
   ],
   "source": [
    "drug_topamax= data.loc[(data['Drug'] =='topamax')]\n",
    "drug_topamax.head(5)"
   ]
  },
  {
   "cell_type": "code",
   "execution_count": 52,
   "id": "f4bbe431",
   "metadata": {},
   "outputs": [
    {
     "data": {
      "text/plain": [
       "(2148, 14)"
      ]
     },
     "execution_count": 52,
     "metadata": {},
     "output_type": "execute_result"
    }
   ],
   "source": [
    "drug_topamax.shape"
   ]
  },
  {
   "cell_type": "code",
   "execution_count": 53,
   "id": "2205d047",
   "metadata": {},
   "outputs": [
    {
     "data": {
      "text/plain": [
       "Migraine Prevention                                1380\n",
       "Other                                               460\n",
       "Simple Partial Seizures                              68\n",
       "Convulsive Seizures                                  63\n",
       "Tonic-Clonic Epilepsy                                48\n",
       "Additional Medication to Treat Partial Seizures      48\n",
       "Habit of Drinking Too Much Alcohol                   27\n",
       "Essential Tremor                                     24\n",
       "Additional Medication for Tonic-Clonic Epilepsy      15\n",
       "Involuntary Quivering                                10\n",
       "Epilepsy of the Lennox Gastaut Syndrome               4\n",
       "Binge Eating Disorder                                 1\n",
       "Name: Condition, dtype: int64"
      ]
     },
     "execution_count": 53,
     "metadata": {},
     "output_type": "execute_result"
    }
   ],
   "source": [
    "drug_topamax['Condition'].value_counts()"
   ]
  },
  {
   "cell_type": "code",
   "execution_count": 54,
   "id": "f069cd86",
   "metadata": {},
   "outputs": [
    {
     "data": {
      "text/plain": [
       "2148"
      ]
     },
     "execution_count": 54,
     "metadata": {},
     "output_type": "execute_result"
    }
   ],
   "source": [
    "drug_topamax['Condition'].value_counts().sum()"
   ]
  },
  {
   "cell_type": "code",
   "execution_count": 55,
   "id": "f2222b88",
   "metadata": {},
   "outputs": [],
   "source": [
    "data_new = drug_topamax.copy()"
   ]
  },
  {
   "cell_type": "code",
   "execution_count": 56,
   "id": "41c5f175",
   "metadata": {},
   "outputs": [],
   "source": [
    "data_copy = data.copy()"
   ]
  },
  {
   "cell_type": "markdown",
   "id": "3076b789",
   "metadata": {},
   "source": [
    "# Data Pre-processing"
   ]
  },
  {
   "cell_type": "markdown",
   "id": "04c417b3",
   "metadata": {},
   "source": [
    "## 1. Handling Whitespaces"
   ]
  },
  {
   "cell_type": "code",
   "execution_count": 57,
   "id": "5f19b107",
   "metadata": {},
   "outputs": [],
   "source": [
    "# Handling instances with whitespaces\n",
    "for i in data_new:\n",
    "    data_new[i]=np.where(data_new[i]==\" \",np.NAN,data_new[i])"
   ]
  },
  {
   "cell_type": "code",
   "execution_count": 58,
   "id": "688a7698",
   "metadata": {},
   "outputs": [
    {
     "data": {
      "text/html": [
       "<div>\n",
       "<style scoped>\n",
       "    .dataframe tbody tr th:only-of-type {\n",
       "        vertical-align: middle;\n",
       "    }\n",
       "\n",
       "    .dataframe tbody tr th {\n",
       "        vertical-align: top;\n",
       "    }\n",
       "\n",
       "    .dataframe thead th {\n",
       "        text-align: right;\n",
       "    }\n",
       "</style>\n",
       "<table border=\"1\" class=\"dataframe\">\n",
       "  <thead>\n",
       "    <tr style=\"text-align: right;\">\n",
       "      <th></th>\n",
       "      <th>Name</th>\n",
       "      <th>Race</th>\n",
       "      <th>Age</th>\n",
       "      <th>Condition</th>\n",
       "      <th>Date</th>\n",
       "      <th>Drug</th>\n",
       "      <th>DrugId</th>\n",
       "      <th>EaseofUse</th>\n",
       "      <th>Effectiveness</th>\n",
       "      <th>Reviews</th>\n",
       "      <th>Satisfaction</th>\n",
       "      <th>Sex</th>\n",
       "      <th>Sides</th>\n",
       "      <th>UsefulCount</th>\n",
       "    </tr>\n",
       "  </thead>\n",
       "  <tbody>\n",
       "    <tr>\n",
       "      <th>191568</th>\n",
       "      <td>Ann Harvey</td>\n",
       "      <td>Asian</td>\n",
       "      <td>45-54</td>\n",
       "      <td>Migraine Prevention</td>\n",
       "      <td>9/22/2019</td>\n",
       "      <td>topamax</td>\n",
       "      <td>14494.0</td>\n",
       "      <td>4.0</td>\n",
       "      <td>4.0</td>\n",
       "      <td>I was on this drug for 5 years, 100mg for the ...</td>\n",
       "      <td>1.0</td>\n",
       "      <td>NaN</td>\n",
       "      <td>Tiredness, drowsiness,  dizziness , loss of co...</td>\n",
       "      <td>5.0</td>\n",
       "    </tr>\n",
       "    <tr>\n",
       "      <th>191575</th>\n",
       "      <td>Roger Yu</td>\n",
       "      <td>Asian</td>\n",
       "      <td>35-44</td>\n",
       "      <td>Simple Partial Seizures</td>\n",
       "      <td>9/2/2019</td>\n",
       "      <td>topamax</td>\n",
       "      <td>14494.0</td>\n",
       "      <td>4.0</td>\n",
       "      <td>4.0</td>\n",
       "      <td>I have partial seizures. It didn't help for a ...</td>\n",
       "      <td>4.0</td>\n",
       "      <td>NaN</td>\n",
       "      <td>Tiredness, drowsiness,  dizziness , loss of co...</td>\n",
       "      <td>0.0</td>\n",
       "    </tr>\n",
       "    <tr>\n",
       "      <th>191582</th>\n",
       "      <td>Wayne Thompson</td>\n",
       "      <td>Asian</td>\n",
       "      <td>13-18</td>\n",
       "      <td>Migraine Prevention</td>\n",
       "      <td>8/9/2019</td>\n",
       "      <td>topamax</td>\n",
       "      <td>14494.0</td>\n",
       "      <td>1.0</td>\n",
       "      <td>1.0</td>\n",
       "      <td>I have been having migraines and headaches eve...</td>\n",
       "      <td>1.0</td>\n",
       "      <td>NaN</td>\n",
       "      <td>Tiredness, drowsiness,  dizziness , loss of co...</td>\n",
       "      <td>6.0</td>\n",
       "    </tr>\n",
       "    <tr>\n",
       "      <th>191589</th>\n",
       "      <td>Gilbert Hubbard</td>\n",
       "      <td>White</td>\n",
       "      <td>65-74</td>\n",
       "      <td>Essential Tremor</td>\n",
       "      <td>7/21/2019</td>\n",
       "      <td>topamax</td>\n",
       "      <td>14494.0</td>\n",
       "      <td>4.0</td>\n",
       "      <td>4.0</td>\n",
       "      <td>This is the only medication I have taken for t...</td>\n",
       "      <td>3.0</td>\n",
       "      <td>NaN</td>\n",
       "      <td>Tiredness, drowsiness,  dizziness , loss of co...</td>\n",
       "      <td>0.0</td>\n",
       "    </tr>\n",
       "    <tr>\n",
       "      <th>191596</th>\n",
       "      <td>Jacob Li</td>\n",
       "      <td>Asian</td>\n",
       "      <td>45-54</td>\n",
       "      <td>Migraine Prevention</td>\n",
       "      <td>4/30/2019</td>\n",
       "      <td>topamax</td>\n",
       "      <td>14494.0</td>\n",
       "      <td>5.0</td>\n",
       "      <td>5.0</td>\n",
       "      <td>I suffered from debilitating Cluster Headaches...</td>\n",
       "      <td>5.0</td>\n",
       "      <td>NaN</td>\n",
       "      <td>Tiredness, drowsiness,  dizziness , loss of co...</td>\n",
       "      <td>2.0</td>\n",
       "    </tr>\n",
       "  </tbody>\n",
       "</table>\n",
       "</div>"
      ],
      "text/plain": [
       "                   Name   Race    Age                Condition       Date  \\\n",
       "191568       Ann Harvey  Asian  45-54      Migraine Prevention  9/22/2019   \n",
       "191575         Roger Yu  Asian  35-44  Simple Partial Seizures   9/2/2019   \n",
       "191582   Wayne Thompson  Asian  13-18      Migraine Prevention   8/9/2019   \n",
       "191589  Gilbert Hubbard  White  65-74         Essential Tremor  7/21/2019   \n",
       "191596         Jacob Li  Asian  45-54      Migraine Prevention  4/30/2019   \n",
       "\n",
       "           Drug   DrugId  EaseofUse  Effectiveness  \\\n",
       "191568  topamax  14494.0        4.0            4.0   \n",
       "191575  topamax  14494.0        4.0            4.0   \n",
       "191582  topamax  14494.0        1.0            1.0   \n",
       "191589  topamax  14494.0        4.0            4.0   \n",
       "191596  topamax  14494.0        5.0            5.0   \n",
       "\n",
       "                                                  Reviews  Satisfaction  Sex  \\\n",
       "191568  I was on this drug for 5 years, 100mg for the ...           1.0  NaN   \n",
       "191575  I have partial seizures. It didn't help for a ...           4.0  NaN   \n",
       "191582  I have been having migraines and headaches eve...           1.0  NaN   \n",
       "191589  This is the only medication I have taken for t...           3.0  NaN   \n",
       "191596  I suffered from debilitating Cluster Headaches...           5.0  NaN   \n",
       "\n",
       "                                                    Sides  UsefulCount  \n",
       "191568  Tiredness, drowsiness,  dizziness , loss of co...          5.0  \n",
       "191575  Tiredness, drowsiness,  dizziness , loss of co...          0.0  \n",
       "191582  Tiredness, drowsiness,  dizziness , loss of co...          6.0  \n",
       "191589  Tiredness, drowsiness,  dizziness , loss of co...          0.0  \n",
       "191596  Tiredness, drowsiness,  dizziness , loss of co...          2.0  "
      ]
     },
     "execution_count": 58,
     "metadata": {},
     "output_type": "execute_result"
    }
   ],
   "source": [
    "data_new.head()"
   ]
  },
  {
   "cell_type": "markdown",
   "id": "6f0e5909",
   "metadata": {},
   "source": [
    "## 2. Missing Values"
   ]
  },
  {
   "cell_type": "code",
   "execution_count": 59,
   "id": "bc51d08c",
   "metadata": {},
   "outputs": [
    {
     "data": {
      "text/plain": [
       "Name               0\n",
       "Race               0\n",
       "Age               75\n",
       "Condition          0\n",
       "Date               0\n",
       "Drug               0\n",
       "DrugId             0\n",
       "EaseofUse          0\n",
       "Effectiveness      0\n",
       "Reviews          200\n",
       "Satisfaction       0\n",
       "Sex              103\n",
       "Sides              0\n",
       "UsefulCount        0\n",
       "dtype: int64"
      ]
     },
     "execution_count": 59,
     "metadata": {},
     "output_type": "execute_result"
    }
   ],
   "source": [
    "#checking missing values\n",
    "data_new.isnull().sum()"
   ]
  },
  {
   "cell_type": "code",
   "execution_count": 60,
   "id": "fa936a29",
   "metadata": {},
   "outputs": [
    {
     "data": {
      "text/plain": [
       "(2148, 14)"
      ]
     },
     "execution_count": 60,
     "metadata": {},
     "output_type": "execute_result"
    }
   ],
   "source": [
    "data_new.shape"
   ]
  },
  {
   "cell_type": "markdown",
   "id": "881cc12d",
   "metadata": {},
   "source": [
    "## Bar Plot of Null Value Counts for Each Feature"
   ]
  },
  {
   "cell_type": "code",
   "execution_count": 61,
   "id": "68106482",
   "metadata": {},
   "outputs": [
    {
     "data": {
      "text/plain": [
       "Text(0.5, 1.0, 'Total Missing Values')"
      ]
     },
     "execution_count": 61,
     "metadata": {},
     "output_type": "execute_result"
    },
    {
     "data": {
      "image/png": "[encoded data removed]",
      "text/plain": [
       "<Figure size 1200x600 with 1 Axes>"
      ]
     },
     "metadata": {},
     "output_type": "display_data"
    }
   ],
   "source": [
    "missing = (data_new.isnull().sum()).sort_values(ascending=False)\n",
    "missing.plot(kind=\"bar\", figsize = (12,6), fontsize = 10, color='yellow')\n",
    "plt.xlabel(\"Columns\", fontsize = 20)\n",
    "plt.ylabel(\"\", fontsize = 20)\n",
    "plt.title(\"Total Missing Values\", fontsize = 20)"
   ]
  },
  {
   "cell_type": "code",
   "execution_count": 62,
   "id": "1322e876",
   "metadata": {},
   "outputs": [],
   "source": [
    "# Removing rows with null data\n",
    "data_new=data_new.dropna(axis=0)"
   ]
  },
  {
   "cell_type": "code",
   "execution_count": 63,
   "id": "26b9f2a4",
   "metadata": {},
   "outputs": [
    {
     "data": {
      "text/plain": [
       "Name             0\n",
       "Race             0\n",
       "Age              0\n",
       "Condition        0\n",
       "Date             0\n",
       "Drug             0\n",
       "DrugId           0\n",
       "EaseofUse        0\n",
       "Effectiveness    0\n",
       "Reviews          0\n",
       "Satisfaction     0\n",
       "Sex              0\n",
       "Sides            0\n",
       "UsefulCount      0\n",
       "dtype: int64"
      ]
     },
     "execution_count": 63,
     "metadata": {},
     "output_type": "execute_result"
    }
   ],
   "source": [
    "data_new.isnull().sum()"
   ]
  },
  {
   "cell_type": "code",
   "execution_count": 64,
   "id": "d9224a8b",
   "metadata": {},
   "outputs": [
    {
     "data": {
      "text/plain": [
       "(1830, 14)"
      ]
     },
     "execution_count": 64,
     "metadata": {},
     "output_type": "execute_result"
    }
   ],
   "source": [
    "data_new.shape"
   ]
  },
  {
   "cell_type": "markdown",
   "id": "4abc9480",
   "metadata": {},
   "source": [
    "## 3. Test Processing"
   ]
  },
  {
   "cell_type": "code",
   "execution_count": 65,
   "id": "ef648986",
   "metadata": {},
   "outputs": [],
   "source": [
    "# converting rows having data other than string datatype into  string.\n",
    "for i in range(0,len(data_new)-1):\n",
    "    if type(data_new.iloc[i]['Sides']) != str:\n",
    "        data_new.iloc[i]['Sides'] = str(data_new.iloc[i]['Sides'])\n",
    "\n",
    "for i in range(0,len(data_new)-1):\n",
    "    if type(data_new.iloc[i]['Reviews']) != str:\n",
    "        data_new.iloc[i]['Reviews'] = str(data_new.iloc[i]['Reviews'])\n",
    "        \n",
    "for i in range(0,len(data_new)-1):\n",
    "    if type(data_new.iloc[i]['Condition']) != str:\n",
    "        data_new.iloc[i]['Condition'] = str(data_new.iloc[i]['Condition'])"
   ]
  },
  {
   "cell_type": "code",
   "execution_count": 66,
   "id": "338cea91",
   "metadata": {},
   "outputs": [],
   "source": [
    "import re\n",
    "def cleaning_text(i):\n",
    "    i = re.sub(\"[^A-Za-z\" \"]+\",\" \",i).lower()\n",
    "    i = re.sub(\"[0-9\" \"]+\",\" \",i)\n",
    "    i= re.sub(\"[\\W+\"\"]\", \" \",i)        \n",
    "    w = []\n",
    "    for word in i.split(\" \"):\n",
    "        if len(word)>3:\n",
    "            w.append(word)\n",
    "    return (\" \".join(w))"
   ]
  },
  {
   "cell_type": "markdown",
   "id": "95cf4e17",
   "metadata": {},
   "source": [
    "## 3.1 Sides"
   ]
  },
  {
   "cell_type": "code",
   "execution_count": 67,
   "id": "2a8b79f0",
   "metadata": {},
   "outputs": [
    {
     "data": {
      "text/plain": [
       "191610    tiredness drowsiness dizziness loss coordinati...\n",
       "191624    tiredness drowsiness dizziness loss coordinati...\n",
       "191631    tiredness drowsiness dizziness loss coordinati...\n",
       "191638    tiredness drowsiness dizziness loss coordinati...\n",
       "191645    tiredness drowsiness dizziness loss coordinati...\n",
       "                                ...                        \n",
       "197200    tiredness drowsiness dizziness loss coordinati...\n",
       "197201    tiredness drowsiness dizziness loss coordinati...\n",
       "197202    tiredness drowsiness dizziness loss coordinati...\n",
       "197203    tiredness drowsiness dizziness loss coordinati...\n",
       "197204    tiredness drowsiness dizziness loss coordinati...\n",
       "Name: Sides, Length: 1830, dtype: object"
      ]
     },
     "execution_count": 67,
     "metadata": {},
     "output_type": "execute_result"
    }
   ],
   "source": [
    "data_new.Sides= data_new.Sides.apply(cleaning_text)\n",
    "data_new.Sides"
   ]
  },
  {
   "cell_type": "code",
   "execution_count": 68,
   "id": "1bed1b34",
   "metadata": {},
   "outputs": [
    {
     "name": "stderr",
     "output_type": "stream",
     "text": [
      "[nltk_data] Downloading package stopwords to\n",
      "[nltk_data]     C:\\Users\\Jainy\\AppData\\Roaming\\nltk_data...\n",
      "[nltk_data]   Package stopwords is already up-to-date!\n"
     ]
    }
   ],
   "source": [
    "import nltk\n",
    "nltk.download('stopwords')\n",
    "from nltk.corpus import stopwords\n",
    "\n",
    "stop_words = stopwords.words('english')\n",
    "data_new['Reviews'] = data_new['Reviews'].apply(lambda x: ' '.join([word for word in x.split() if word not in (stop_words)]))"
   ]
  },
  {
   "cell_type": "code",
   "execution_count": 69,
   "id": "eeee2389",
   "metadata": {},
   "outputs": [
    {
     "data": {
      "text/plain": [
       "191610    tiredness drowsiness dizziness loss coordinati...\n",
       "191624    tiredness drowsiness dizziness loss coordinati...\n",
       "191631    tiredness drowsiness dizziness loss coordinati...\n",
       "191638    tiredness drowsiness dizziness loss coordinati...\n",
       "191645    tiredness drowsiness dizziness loss coordinati...\n",
       "                                ...                        \n",
       "197200    tiredness drowsiness dizziness loss coordinati...\n",
       "197201    tiredness drowsiness dizziness loss coordinati...\n",
       "197202    tiredness drowsiness dizziness loss coordinati...\n",
       "197203    tiredness drowsiness dizziness loss coordinati...\n",
       "197204    tiredness drowsiness dizziness loss coordinati...\n",
       "Name: Sides, Length: 1830, dtype: object"
      ]
     },
     "execution_count": 69,
     "metadata": {},
     "output_type": "execute_result"
    }
   ],
   "source": [
    "data_new['Sides']"
   ]
  },
  {
   "cell_type": "markdown",
   "id": "2b6f5fa6",
   "metadata": {},
   "source": [
    "## 3.2 Reviews"
   ]
  },
  {
   "cell_type": "code",
   "execution_count": 70,
   "id": "e99b42f8",
   "metadata": {},
   "outputs": [
    {
     "data": {
      "text/plain": [
       "191610    years medication when mild seizure neurologist...\n",
       "191624    topamax chronic vomiting took weeks quit could...\n",
       "191631    taking gabapentin central neuropathy wondering...\n",
       "191638    taking topamax exactly four years migraine pre...\n",
       "191645    suffer spinal degeneration supposed daily phys...\n",
       "                                ...                        \n",
       "197200    first weeks felt great took ptsd symptoms away...\n",
       "197201    tried everything help migrianes nothing worked...\n",
       "197202    rash around neck started taking topamax wonder...\n",
       "197203    read reviews happy realize going crazy alone t...\n",
       "197204    topamax worked great started short term memory...\n",
       "Name: Reviews, Length: 1830, dtype: object"
      ]
     },
     "execution_count": 70,
     "metadata": {},
     "output_type": "execute_result"
    }
   ],
   "source": [
    "data_new.review= data_new.Reviews.apply(cleaning_text)\n",
    "data_new.review"
   ]
  },
  {
   "cell_type": "markdown",
   "id": "0311b853",
   "metadata": {},
   "source": [
    "### Removing Stopwords"
   ]
  },
  {
   "cell_type": "code",
   "execution_count": 71,
   "id": "1d468589",
   "metadata": {},
   "outputs": [
    {
     "name": "stderr",
     "output_type": "stream",
     "text": [
      "[nltk_data] Downloading package stopwords to\n",
      "[nltk_data]     C:\\Users\\Jainy\\AppData\\Roaming\\nltk_data...\n",
      "[nltk_data]   Package stopwords is already up-to-date!\n"
     ]
    }
   ],
   "source": [
    "import nltk\n",
    "nltk.download('stopwords')\n",
    "from nltk.corpus import stopwords\n",
    "\n",
    "stop_words = stopwords.words('english')\n",
    "data_new['Reviews'] = data_new['Reviews'].apply(lambda x: ' '.join([word for word in x.split() if word not in (stop_words)]))"
   ]
  },
  {
   "cell_type": "code",
   "execution_count": 72,
   "id": "2d4712c9",
   "metadata": {},
   "outputs": [
    {
     "data": {
      "text/plain": [
       "191610    I'm 30 years old, I 12 I put medication. When ...\n",
       "191624    I put 50mg day topamax chronic vomiting. I too...\n",
       "191631    I'm taking Gabapentin Central Neuropathy!! I w...\n",
       "191638    I taking Topamax exactly four years migraine p...\n",
       "191645    I suffer spinal degeneration I supposed daily ...\n",
       "                                ...                        \n",
       "197200    The first 3 weeks I felt great---it took lot P...\n",
       "197201    I tried everything help migrianes. Nothing wor...\n",
       "197202    I rash around neck I started taking Topamax. I...\n",
       "197203    I read reviews happy realize \"I\" going crazy a...\n",
       "197204    Topamax worked great, I started short term mem...\n",
       "Name: Reviews, Length: 1830, dtype: object"
      ]
     },
     "execution_count": 72,
     "metadata": {},
     "output_type": "execute_result"
    }
   ],
   "source": [
    "data_new['Reviews']"
   ]
  },
  {
   "cell_type": "markdown",
   "id": "9553ea4a",
   "metadata": {},
   "source": [
    "## 3.3 Condition"
   ]
  },
  {
   "cell_type": "code",
   "execution_count": 73,
   "id": "16247a31",
   "metadata": {},
   "outputs": [
    {
     "data": {
      "text/plain": [
       "191610    simple partial seizures\n",
       "191624                      other\n",
       "191631                      other\n",
       "191638        migraine prevention\n",
       "191645                      other\n",
       "                   ...           \n",
       "197200                      other\n",
       "197201        migraine prevention\n",
       "197202                      other\n",
       "197203    simple partial seizures\n",
       "197204        migraine prevention\n",
       "Name: Condition, Length: 1830, dtype: object"
      ]
     },
     "execution_count": 73,
     "metadata": {},
     "output_type": "execute_result"
    }
   ],
   "source": [
    "data_new.Condition=data_new.Condition.apply(cleaning_text)\n",
    "data_new.Condition"
   ]
  },
  {
   "cell_type": "markdown",
   "id": "40bb84fa",
   "metadata": {},
   "source": [
    "## 4. Gender"
   ]
  },
  {
   "cell_type": "code",
   "execution_count": 74,
   "id": "c6e0a677",
   "metadata": {},
   "outputs": [
    {
     "data": {
      "text/plain": [
       "Female    1669\n",
       "Male       161\n",
       "Name: Sex, dtype: int64"
      ]
     },
     "execution_count": 74,
     "metadata": {},
     "output_type": "execute_result"
    }
   ],
   "source": [
    "data_new['Sex'].value_counts()"
   ]
  },
  {
   "cell_type": "markdown",
   "id": "3b05843f",
   "metadata": {},
   "source": [
    "# 5. Handling Age Group"
   ]
  },
  {
   "cell_type": "code",
   "execution_count": 75,
   "id": "ce1f4b0d",
   "metadata": {},
   "outputs": [
    {
     "data": {
      "text/plain": [
       "45-54         463\n",
       "35-44         455\n",
       "25-34         423\n",
       "55-64         196\n",
       "19-24         184\n",
       "13-18          51\n",
       "65-74          37\n",
       "7-12            8\n",
       "75 or over      8\n",
       "3-6             3\n",
       "0-2             2\n",
       "Name: Age, dtype: int64"
      ]
     },
     "execution_count": 75,
     "metadata": {},
     "output_type": "execute_result"
    }
   ],
   "source": [
    "data_new['Age'].value_counts()"
   ]
  },
  {
   "cell_type": "code",
   "execution_count": 76,
   "id": "70d6b553",
   "metadata": {},
   "outputs": [
    {
     "data": {
      "text/plain": [
       "array(['7-12', '25-34', '45-54', '65-74', '55-64', '35-44', '19-24',\n",
       "       '13-18', '75 or over', '3-6', '0-2'], dtype=object)"
      ]
     },
     "execution_count": 76,
     "metadata": {},
     "output_type": "execute_result"
    }
   ],
   "source": [
    "data_new['Age'].unique()"
   ]
  },
  {
   "cell_type": "code",
   "execution_count": 77,
   "id": "2cac71c0",
   "metadata": {},
   "outputs": [],
   "source": [
    "data_new['Age']=data_new['Age'].str.replace('75 or over','75-100')"
   ]
  },
  {
   "cell_type": "code",
   "execution_count": 78,
   "id": "19a4c015",
   "metadata": {},
   "outputs": [
    {
     "data": {
      "text/plain": [
       "45-54     463\n",
       "35-44     455\n",
       "25-34     423\n",
       "55-64     196\n",
       "19-24     184\n",
       "13-18      51\n",
       "65-74      37\n",
       "7-12        8\n",
       "75-100      8\n",
       "3-6         3\n",
       "0-2         2\n",
       "Name: Age, dtype: int64"
      ]
     },
     "execution_count": 78,
     "metadata": {},
     "output_type": "execute_result"
    }
   ],
   "source": [
    "data_new['Age'].value_counts()"
   ]
  },
  {
   "cell_type": "markdown",
   "id": "e895e6fa",
   "metadata": {},
   "source": [
    "# 6. Outliers Detection"
   ]
  },
  {
   "cell_type": "code",
   "execution_count": 79,
   "id": "1b749872",
   "metadata": {},
   "outputs": [
    {
     "data": {
      "image/png": "[encoded data removed]",
      "text/plain": [
       "<Figure size 1000x600 with 4 Axes>"
      ]
     },
     "metadata": {},
     "output_type": "display_data"
    }
   ],
   "source": [
    "plt.figure(figsize=(10,6))\n",
    "\n",
    "plt.subplot(2,2,1)\n",
    "plt.boxplot(data_new[\"EaseofUse\"])\n",
    "plt.title(\" Ease Of Use\")\n",
    "\n",
    "plt.subplot(2,2,2)\n",
    "plt.boxplot(data_new[\"Effectiveness\"])\n",
    "plt.title(\" Effectiveness\")\n",
    "\n",
    "plt.subplot(2,2,3)\n",
    "plt.boxplot(data_new[\"Satisfaction\"])\n",
    "plt.title(\" Satisfaction\")\n",
    "\n",
    "plt.subplot(2,2,4)\n",
    "plt.boxplot(data_new[\"UsefulCount\"])\n",
    "plt.title(\" Useful Count\")\n",
    "plt.show()"
   ]
  },
  {
   "cell_type": "markdown",
   "id": "7652de78",
   "metadata": {},
   "source": [
    "### Insight"
   ]
  },
  {
   "cell_type": "markdown",
   "id": "441b0b39",
   "metadata": {},
   "source": [
    "There are outliers present in EaseofUse and UsefulCount columns."
   ]
  },
  {
   "cell_type": "markdown",
   "id": "8e5f39c2",
   "metadata": {},
   "source": [
    "## 7. Removing Outliers"
   ]
  },
  {
   "cell_type": "code",
   "execution_count": 80,
   "id": "cc1297da",
   "metadata": {},
   "outputs": [],
   "source": [
    "#function called 'outliers' which returns a list of outliers\n",
    "def outliers(df,ft):\n",
    "    Q1=df[ft].quantile(0.25)\n",
    "    Q3=df[ft].quantile(0.75)\n",
    "    IQR=Q3-Q1\n",
    "    lower=Q1-1.5*IQR\n",
    "    upper=Q3+1.5*IQR\n",
    "#create list to store indexes of outliers\n",
    "    ls= df.index[(df[ft]<lower) | (df[ft]>upper)]\n",
    "    return ls"
   ]
  },
  {
   "cell_type": "code",
   "execution_count": 81,
   "id": "8822f6a8",
   "metadata": {},
   "outputs": [
    {
     "data": {
      "text/plain": [
       "[191785,\n",
       " 191911,\n",
       " 191925,\n",
       " 191939,\n",
       " 192009,\n",
       " 192016,\n",
       " 192023,\n",
       " 192030,\n",
       " 192058,\n",
       " 192275,\n",
       " 192317,\n",
       " 192492,\n",
       " 192888,\n",
       " 193037,\n",
       " 193082,\n",
       " 193286,\n",
       " 193316,\n",
       " 193319,\n",
       " 193337,\n",
       " 193340,\n",
       " 193472,\n",
       " 193502,\n",
       " 193505,\n",
       " 193508,\n",
       " 193520,\n",
       " 193535,\n",
       " 193571,\n",
       " 194130,\n",
       " 194146,\n",
       " 194264,\n",
       " 194282,\n",
       " 194300,\n",
       " 194336,\n",
       " 194344,\n",
       " 194390,\n",
       " 194496,\n",
       " 194740,\n",
       " 194818,\n",
       " 194890,\n",
       " 194914,\n",
       " 194946,\n",
       " 195358,\n",
       " 195382,\n",
       " 195420,\n",
       " 195448,\n",
       " 195494,\n",
       " 195526,\n",
       " 195940,\n",
       " 195988,\n",
       " 196040,\n",
       " 196076,\n",
       " 196134,\n",
       " 196162,\n",
       " 196340,\n",
       " 196400,\n",
       " 196410,\n",
       " 196510,\n",
       " 196756,\n",
       " 196774,\n",
       " 197000,\n",
       " 197184,\n",
       " 197188,\n",
       " 197198,\n",
       " 191624,\n",
       " 191631,\n",
       " 191757,\n",
       " 191862,\n",
       " 191911,\n",
       " 191939,\n",
       " 192128,\n",
       " 192135,\n",
       " 192142,\n",
       " 192163,\n",
       " 192219,\n",
       " 192226,\n",
       " 192289,\n",
       " 192303,\n",
       " 192317,\n",
       " 192324,\n",
       " 192457,\n",
       " 192485,\n",
       " 192499,\n",
       " 192527,\n",
       " 192548,\n",
       " 192674,\n",
       " 192737,\n",
       " 192779,\n",
       " 192800,\n",
       " 192929,\n",
       " 192959,\n",
       " 192965,\n",
       " 193022,\n",
       " 193025,\n",
       " 193031,\n",
       " 193055,\n",
       " 193085,\n",
       " 193118,\n",
       " 193124,\n",
       " 193151,\n",
       " 193178,\n",
       " 193274,\n",
       " 193331,\n",
       " 193352,\n",
       " 193394,\n",
       " 193436,\n",
       " 193445,\n",
       " 193514,\n",
       " 193517,\n",
       " 193586,\n",
       " 193607,\n",
       " 193616,\n",
       " 193628,\n",
       " 193631,\n",
       " 193649,\n",
       " 193661,\n",
       " 193667,\n",
       " 193679,\n",
       " 193700,\n",
       " 193703,\n",
       " 193730,\n",
       " 193787,\n",
       " 193838,\n",
       " 193907,\n",
       " 193919,\n",
       " 193922,\n",
       " 193925,\n",
       " 194063,\n",
       " 194084,\n",
       " 194110,\n",
       " 194126,\n",
       " 194156,\n",
       " 194178,\n",
       " 194190,\n",
       " 194192,\n",
       " 194202,\n",
       " 194210,\n",
       " 194212,\n",
       " 194234,\n",
       " 194274,\n",
       " 194292,\n",
       " 194314,\n",
       " 194334,\n",
       " 194338,\n",
       " 194350,\n",
       " 194374,\n",
       " 194378,\n",
       " 194412,\n",
       " 194426,\n",
       " 194482,\n",
       " 194492,\n",
       " 194508,\n",
       " 194558,\n",
       " 194576,\n",
       " 194592,\n",
       " 194658,\n",
       " 194662,\n",
       " 194672,\n",
       " 194684,\n",
       " 194692,\n",
       " 194698,\n",
       " 194718,\n",
       " 194720,\n",
       " 194786,\n",
       " 194832,\n",
       " 194834,\n",
       " 194844,\n",
       " 194882,\n",
       " 194898,\n",
       " 194910,\n",
       " 194912,\n",
       " 194926,\n",
       " 194950,\n",
       " 194954,\n",
       " 194974,\n",
       " 195030,\n",
       " 195032,\n",
       " 195050,\n",
       " 195054,\n",
       " 195066,\n",
       " 195078,\n",
       " 195092,\n",
       " 195096,\n",
       " 195122,\n",
       " 195126,\n",
       " 195138,\n",
       " 195156,\n",
       " 195158,\n",
       " 195166,\n",
       " 195212,\n",
       " 195276,\n",
       " 195286,\n",
       " 195312,\n",
       " 195354,\n",
       " 195370,\n",
       " 195378,\n",
       " 195402,\n",
       " 195406,\n",
       " 195460,\n",
       " 195462,\n",
       " 195464,\n",
       " 195548,\n",
       " 195552,\n",
       " 195584,\n",
       " 195602,\n",
       " 195606,\n",
       " 195610,\n",
       " 195652,\n",
       " 195666,\n",
       " 195668,\n",
       " 195670,\n",
       " 195682,\n",
       " 195690,\n",
       " 195722,\n",
       " 195734,\n",
       " 195770,\n",
       " 195776,\n",
       " 195796,\n",
       " 195802,\n",
       " 195828,\n",
       " 195848,\n",
       " 195852,\n",
       " 195886,\n",
       " 195892,\n",
       " 195926,\n",
       " 195954,\n",
       " 195964,\n",
       " 195970,\n",
       " 195984,\n",
       " 195994,\n",
       " 196000,\n",
       " 196010,\n",
       " 196020,\n",
       " 196038,\n",
       " 196044,\n",
       " 196046,\n",
       " 196088,\n",
       " 196106,\n",
       " 196108,\n",
       " 196150,\n",
       " 196172,\n",
       " 196230,\n",
       " 196236,\n",
       " 196240,\n",
       " 196336,\n",
       " 196352,\n",
       " 196364,\n",
       " 196380,\n",
       " 196404,\n",
       " 196420,\n",
       " 196424,\n",
       " 196428,\n",
       " 196460,\n",
       " 196504,\n",
       " 196556,\n",
       " 196602,\n",
       " 196620,\n",
       " 196662,\n",
       " 196678,\n",
       " 196682,\n",
       " 196700,\n",
       " 196706,\n",
       " 196766,\n",
       " 196778,\n",
       " 196820,\n",
       " 196834,\n",
       " 196856,\n",
       " 196872,\n",
       " 196878,\n",
       " 196884,\n",
       " 196896,\n",
       " 196914,\n",
       " 196926,\n",
       " 196928,\n",
       " 196986,\n",
       " 197008,\n",
       " 197010,\n",
       " 197016,\n",
       " 197048,\n",
       " 197070,\n",
       " 197076,\n",
       " 197086,\n",
       " 197152,\n",
       " 197154,\n",
       " 197164,\n",
       " 197195]"
      ]
     },
     "execution_count": 81,
     "metadata": {},
     "output_type": "execute_result"
    }
   ],
   "source": [
    "#create an empty list to store indexes from multiple columns\n",
    "index_list=[]\n",
    "for feature in ['UsefulCount', 'EaseofUse']:\n",
    "    index_list.extend(outliers(data_new,feature))\n",
    "index_list"
   ]
  },
  {
   "cell_type": "code",
   "execution_count": 82,
   "id": "16eab0e8",
   "metadata": {},
   "outputs": [],
   "source": [
    "#define a function called 'remove' which returns a cleaned data without outliers\n",
    "def remove(df,ls):\n",
    "    ls=sorted(set(ls)) #to sort and remove multiple copies(to get unique)\n",
    "    df=df.drop(ls)\n",
    "    return df"
   ]
  },
  {
   "cell_type": "code",
   "execution_count": 83,
   "id": "407381b9",
   "metadata": {},
   "outputs": [
    {
     "data": {
      "text/plain": [
       "(1830, 14)"
      ]
     },
     "execution_count": 83,
     "metadata": {},
     "output_type": "execute_result"
    }
   ],
   "source": [
    "data_new.shape"
   ]
  },
  {
   "cell_type": "code",
   "execution_count": 84,
   "id": "8dbca7bb",
   "metadata": {},
   "outputs": [],
   "source": [
    "data_new = remove(data_new, index_list)"
   ]
  },
  {
   "cell_type": "code",
   "execution_count": 85,
   "id": "d64280fe",
   "metadata": {},
   "outputs": [
    {
     "data": {
      "text/plain": [
       "(1548, 14)"
      ]
     },
     "execution_count": 85,
     "metadata": {},
     "output_type": "execute_result"
    }
   ],
   "source": [
    "data_new.shape"
   ]
  },
  {
   "cell_type": "markdown",
   "id": "e2c99fae",
   "metadata": {},
   "source": [
    "## UsefulCount and EaseofUse columns post Outliers Removal"
   ]
  },
  {
   "cell_type": "code",
   "execution_count": 86,
   "id": "223b1884",
   "metadata": {},
   "outputs": [
    {
     "data": {
      "text/plain": [
       "Text(0.5, 1.0, 'Box plot of Useful Count')"
      ]
     },
     "execution_count": 86,
     "metadata": {},
     "output_type": "execute_result"
    },
    {
     "data": {
      "image/png": "[encoded data removed]",
      "text/plain": [
       "<Figure size 640x480 with 1 Axes>"
      ]
     },
     "metadata": {},
     "output_type": "display_data"
    }
   ],
   "source": [
    "plt.boxplot(data_new[\"UsefulCount\"])\n",
    "plt.title('Box plot of Useful Count')"
   ]
  },
  {
   "cell_type": "code",
   "execution_count": 87,
   "id": "48e4afab",
   "metadata": {},
   "outputs": [
    {
     "data": {
      "text/plain": [
       "Text(0.5, 1.0, 'Box plot of Ease Of Use')"
      ]
     },
     "execution_count": 87,
     "metadata": {},
     "output_type": "execute_result"
    },
    {
     "data": {
      "image/png": "[encoded data removed]",
      "text/plain": [
       "<Figure size 640x480 with 1 Axes>"
      ]
     },
     "metadata": {},
     "output_type": "display_data"
    }
   ],
   "source": [
    "plt.boxplot(data_new[\"EaseofUse\"])\n",
    "plt.title('Box plot of Ease Of Use')"
   ]
  },
  {
   "cell_type": "markdown",
   "id": "c5a73b4b",
   "metadata": {},
   "source": [
    "## Satisfaction Column"
   ]
  },
  {
   "cell_type": "code",
   "execution_count": 88,
   "id": "b6cef3d1",
   "metadata": {},
   "outputs": [
    {
     "data": {
      "text/plain": [
       "5.0    545\n",
       "4.0    334\n",
       "1.0    309\n",
       "3.0    229\n",
       "2.0    130\n",
       "6.0      1\n",
       "Name: Satisfaction, dtype: int64"
      ]
     },
     "execution_count": 88,
     "metadata": {},
     "output_type": "execute_result"
    }
   ],
   "source": [
    "data_new['Satisfaction'].value_counts()"
   ]
  },
  {
   "cell_type": "code",
   "execution_count": 89,
   "id": "47a8b82d",
   "metadata": {},
   "outputs": [
    {
     "data": {
      "text/html": [
       "<div>\n",
       "<style scoped>\n",
       "    .dataframe tbody tr th:only-of-type {\n",
       "        vertical-align: middle;\n",
       "    }\n",
       "\n",
       "    .dataframe tbody tr th {\n",
       "        vertical-align: top;\n",
       "    }\n",
       "\n",
       "    .dataframe thead th {\n",
       "        text-align: right;\n",
       "    }\n",
       "</style>\n",
       "<table border=\"1\" class=\"dataframe\">\n",
       "  <thead>\n",
       "    <tr style=\"text-align: right;\">\n",
       "      <th></th>\n",
       "      <th>Name</th>\n",
       "      <th>Race</th>\n",
       "      <th>Age</th>\n",
       "      <th>Condition</th>\n",
       "      <th>Date</th>\n",
       "      <th>Drug</th>\n",
       "      <th>DrugId</th>\n",
       "      <th>EaseofUse</th>\n",
       "      <th>Effectiveness</th>\n",
       "      <th>Reviews</th>\n",
       "      <th>Satisfaction</th>\n",
       "      <th>Sex</th>\n",
       "      <th>Sides</th>\n",
       "      <th>UsefulCount</th>\n",
       "    </tr>\n",
       "  </thead>\n",
       "  <tbody>\n",
       "    <tr>\n",
       "      <th>195282</th>\n",
       "      <td>Joseph Peterson</td>\n",
       "      <td>White</td>\n",
       "      <td>35-44</td>\n",
       "      <td>migraine prevention</td>\n",
       "      <td>5/18/2009</td>\n",
       "      <td>topamax</td>\n",
       "      <td>14494.0</td>\n",
       "      <td>6.0</td>\n",
       "      <td>6.0</td>\n",
       "      <td>ahoj som zo slovenska dlhe roky mam migreny tu...</td>\n",
       "      <td>6.0</td>\n",
       "      <td>Female</td>\n",
       "      <td>tiredness drowsiness dizziness loss coordinati...</td>\n",
       "      <td>0.0</td>\n",
       "    </tr>\n",
       "  </tbody>\n",
       "</table>\n",
       "</div>"
      ],
      "text/plain": [
       "                   Name   Race    Age            Condition       Date  \\\n",
       "195282  Joseph Peterson  White  35-44  migraine prevention  5/18/2009   \n",
       "\n",
       "           Drug   DrugId  EaseofUse  Effectiveness  \\\n",
       "195282  topamax  14494.0        6.0            6.0   \n",
       "\n",
       "                                                  Reviews  Satisfaction  \\\n",
       "195282  ahoj som zo slovenska dlhe roky mam migreny tu...           6.0   \n",
       "\n",
       "           Sex                                              Sides  UsefulCount  \n",
       "195282  Female  tiredness drowsiness dizziness loss coordinati...          0.0  "
      ]
     },
     "execution_count": 89,
     "metadata": {},
     "output_type": "execute_result"
    }
   ],
   "source": [
    "data_new[data_new['Satisfaction'] > 5]"
   ]
  },
  {
   "cell_type": "markdown",
   "id": "4ec945a4",
   "metadata": {},
   "source": [
    "### Deleting Values greater than 5 from Satisfaction Column"
   ]
  },
  {
   "cell_type": "code",
   "execution_count": 90,
   "id": "729eb176",
   "metadata": {},
   "outputs": [
    {
     "data": {
      "text/html": [
       "<div>\n",
       "<style scoped>\n",
       "    .dataframe tbody tr th:only-of-type {\n",
       "        vertical-align: middle;\n",
       "    }\n",
       "\n",
       "    .dataframe tbody tr th {\n",
       "        vertical-align: top;\n",
       "    }\n",
       "\n",
       "    .dataframe thead th {\n",
       "        text-align: right;\n",
       "    }\n",
       "</style>\n",
       "<table border=\"1\" class=\"dataframe\">\n",
       "  <thead>\n",
       "    <tr style=\"text-align: right;\">\n",
       "      <th></th>\n",
       "      <th>Name</th>\n",
       "      <th>Race</th>\n",
       "      <th>Age</th>\n",
       "      <th>Condition</th>\n",
       "      <th>Date</th>\n",
       "      <th>Drug</th>\n",
       "      <th>DrugId</th>\n",
       "      <th>EaseofUse</th>\n",
       "      <th>Effectiveness</th>\n",
       "      <th>Reviews</th>\n",
       "      <th>Satisfaction</th>\n",
       "      <th>Sex</th>\n",
       "      <th>Sides</th>\n",
       "      <th>UsefulCount</th>\n",
       "    </tr>\n",
       "  </thead>\n",
       "  <tbody>\n",
       "  </tbody>\n",
       "</table>\n",
       "</div>"
      ],
      "text/plain": [
       "Empty DataFrame\n",
       "Columns: [Name, Race, Age, Condition, Date, Drug, DrugId, EaseofUse, Effectiveness, Reviews, Satisfaction, Sex, Sides, UsefulCount]\n",
       "Index: []"
      ]
     },
     "execution_count": 90,
     "metadata": {},
     "output_type": "execute_result"
    }
   ],
   "source": [
    "data_new.drop(labels = data_new[data_new['Satisfaction'] == 6].index, axis = 0, inplace = True)\n",
    "data_new[data_new['Satisfaction'] == 6]"
   ]
  },
  {
   "cell_type": "markdown",
   "id": "8ca2192e",
   "metadata": {},
   "source": [
    "## 8. Feature Engineering"
   ]
  },
  {
   "cell_type": "markdown",
   "id": "40ed0aa5",
   "metadata": {},
   "source": [
    "### Creation of a new SideEffects column"
   ]
  },
  {
   "cell_type": "code",
   "execution_count": 91,
   "id": "230cc25b",
   "metadata": {},
   "outputs": [],
   "source": [
    "data1=np.where(data_new['Satisfaction'] == 1.0, \"Nil\", data_new['Satisfaction'])\n",
    "data1=np.where(data_new['Satisfaction'] == 2.0, \"Mild\",data1)\n",
    "data1=np.where(data_new['Satisfaction'] == 3.0, \"Moderate\", data1)\n",
    "data1=np.where(data_new['Satisfaction'] == 4.0, \"Severe\", data1)\n",
    "data1=np.where(data_new['Satisfaction'] == 5.0, \"Extreme\",data1)"
   ]
  },
  {
   "cell_type": "code",
   "execution_count": 92,
   "id": "dbde65ed",
   "metadata": {},
   "outputs": [],
   "source": [
    "data_new['SideEffects']=data1"
   ]
  },
  {
   "cell_type": "code",
   "execution_count": 93,
   "id": "d7bd0195",
   "metadata": {},
   "outputs": [],
   "source": [
    "#Since DrugId is the same, the column is removed"
   ]
  },
  {
   "cell_type": "code",
   "execution_count": 94,
   "id": "85c3502b",
   "metadata": {},
   "outputs": [],
   "source": [
    "data_new.drop(['Satisfaction','DrugId'], inplace=True, axis=1)"
   ]
  },
  {
   "cell_type": "code",
   "execution_count": 95,
   "id": "75e52255",
   "metadata": {},
   "outputs": [
    {
     "data": {
      "text/html": [
       "<div>\n",
       "<style scoped>\n",
       "    .dataframe tbody tr th:only-of-type {\n",
       "        vertical-align: middle;\n",
       "    }\n",
       "\n",
       "    .dataframe tbody tr th {\n",
       "        vertical-align: top;\n",
       "    }\n",
       "\n",
       "    .dataframe thead th {\n",
       "        text-align: right;\n",
       "    }\n",
       "</style>\n",
       "<table border=\"1\" class=\"dataframe\">\n",
       "  <thead>\n",
       "    <tr style=\"text-align: right;\">\n",
       "      <th></th>\n",
       "      <th>Name</th>\n",
       "      <th>Race</th>\n",
       "      <th>Age</th>\n",
       "      <th>Condition</th>\n",
       "      <th>Date</th>\n",
       "      <th>Drug</th>\n",
       "      <th>EaseofUse</th>\n",
       "      <th>Effectiveness</th>\n",
       "      <th>Reviews</th>\n",
       "      <th>Sex</th>\n",
       "      <th>Sides</th>\n",
       "      <th>UsefulCount</th>\n",
       "      <th>SideEffects</th>\n",
       "    </tr>\n",
       "  </thead>\n",
       "  <tbody>\n",
       "    <tr>\n",
       "      <th>191610</th>\n",
       "      <td>Juan Bailey</td>\n",
       "      <td>Hispanic</td>\n",
       "      <td>7-12</td>\n",
       "      <td>simple partial seizures</td>\n",
       "      <td>2/26/2019</td>\n",
       "      <td>topamax</td>\n",
       "      <td>4.0</td>\n",
       "      <td>5.0</td>\n",
       "      <td>I'm 30 years old, I 12 I put medication. When ...</td>\n",
       "      <td>Male</td>\n",
       "      <td>tiredness drowsiness dizziness loss coordinati...</td>\n",
       "      <td>0.0</td>\n",
       "      <td>Extreme</td>\n",
       "    </tr>\n",
       "    <tr>\n",
       "      <th>191638</th>\n",
       "      <td>Stephanie Yang</td>\n",
       "      <td>Hispanic</td>\n",
       "      <td>65-74</td>\n",
       "      <td>migraine prevention</td>\n",
       "      <td>6/22/2014</td>\n",
       "      <td>topamax</td>\n",
       "      <td>5.0</td>\n",
       "      <td>5.0</td>\n",
       "      <td>I taking Topamax exactly four years migraine p...</td>\n",
       "      <td>Female</td>\n",
       "      <td>tiredness drowsiness dizziness loss coordinati...</td>\n",
       "      <td>9.0</td>\n",
       "      <td>Extreme</td>\n",
       "    </tr>\n",
       "    <tr>\n",
       "      <th>191645</th>\n",
       "      <td>Roy Wood</td>\n",
       "      <td>Black</td>\n",
       "      <td>55-64</td>\n",
       "      <td>other</td>\n",
       "      <td>12/27/2018</td>\n",
       "      <td>topamax</td>\n",
       "      <td>5.0</td>\n",
       "      <td>5.0</td>\n",
       "      <td>I suffer spinal degeneration I supposed daily ...</td>\n",
       "      <td>Female</td>\n",
       "      <td>tiredness drowsiness dizziness loss coordinati...</td>\n",
       "      <td>0.0</td>\n",
       "      <td>Extreme</td>\n",
       "    </tr>\n",
       "    <tr>\n",
       "      <th>191652</th>\n",
       "      <td>Nicole Reyes</td>\n",
       "      <td>Asian</td>\n",
       "      <td>45-54</td>\n",
       "      <td>migraine prevention</td>\n",
       "      <td>12/17/2018</td>\n",
       "      <td>topamax</td>\n",
       "      <td>5.0</td>\n",
       "      <td>3.0</td>\n",
       "      <td>I taking 50 mg 2x day since 11/30/18. The firs...</td>\n",
       "      <td>Female</td>\n",
       "      <td>tiredness drowsiness dizziness loss coordinati...</td>\n",
       "      <td>7.0</td>\n",
       "      <td>Mild</td>\n",
       "    </tr>\n",
       "    <tr>\n",
       "      <th>191659</th>\n",
       "      <td>Melinda Morales</td>\n",
       "      <td>Asian</td>\n",
       "      <td>25-34</td>\n",
       "      <td>tonic clonic epilepsy</td>\n",
       "      <td>10/18/2018</td>\n",
       "      <td>topamax</td>\n",
       "      <td>5.0</td>\n",
       "      <td>5.0</td>\n",
       "      <td>The important thin I want say Topamax medicine...</td>\n",
       "      <td>Male</td>\n",
       "      <td>tiredness drowsiness dizziness loss coordinati...</td>\n",
       "      <td>1.0</td>\n",
       "      <td>Extreme</td>\n",
       "    </tr>\n",
       "  </tbody>\n",
       "</table>\n",
       "</div>"
      ],
      "text/plain": [
       "                   Name      Race    Age                Condition        Date  \\\n",
       "191610      Juan Bailey  Hispanic   7-12  simple partial seizures   2/26/2019   \n",
       "191638   Stephanie Yang  Hispanic  65-74      migraine prevention   6/22/2014   \n",
       "191645         Roy Wood     Black  55-64                    other  12/27/2018   \n",
       "191652     Nicole Reyes     Asian  45-54      migraine prevention  12/17/2018   \n",
       "191659  Melinda Morales     Asian  25-34    tonic clonic epilepsy  10/18/2018   \n",
       "\n",
       "           Drug  EaseofUse  Effectiveness  \\\n",
       "191610  topamax        4.0            5.0   \n",
       "191638  topamax        5.0            5.0   \n",
       "191645  topamax        5.0            5.0   \n",
       "191652  topamax        5.0            3.0   \n",
       "191659  topamax        5.0            5.0   \n",
       "\n",
       "                                                  Reviews     Sex  \\\n",
       "191610  I'm 30 years old, I 12 I put medication. When ...    Male   \n",
       "191638  I taking Topamax exactly four years migraine p...  Female   \n",
       "191645  I suffer spinal degeneration I supposed daily ...  Female   \n",
       "191652  I taking 50 mg 2x day since 11/30/18. The firs...  Female   \n",
       "191659  The important thin I want say Topamax medicine...    Male   \n",
       "\n",
       "                                                    Sides  UsefulCount  \\\n",
       "191610  tiredness drowsiness dizziness loss coordinati...          0.0   \n",
       "191638  tiredness drowsiness dizziness loss coordinati...          9.0   \n",
       "191645  tiredness drowsiness dizziness loss coordinati...          0.0   \n",
       "191652  tiredness drowsiness dizziness loss coordinati...          7.0   \n",
       "191659  tiredness drowsiness dizziness loss coordinati...          1.0   \n",
       "\n",
       "       SideEffects  \n",
       "191610     Extreme  \n",
       "191638     Extreme  \n",
       "191645     Extreme  \n",
       "191652        Mild  \n",
       "191659     Extreme  "
      ]
     },
     "execution_count": 95,
     "metadata": {},
     "output_type": "execute_result"
    }
   ],
   "source": [
    "data_new.head()"
   ]
  },
  {
   "cell_type": "code",
   "execution_count": 96,
   "id": "ff8d1067",
   "metadata": {},
   "outputs": [],
   "source": [
    "#data_new.to_csv('drug_topamax_eda.csv', index=False)"
   ]
  },
  {
   "cell_type": "code",
   "execution_count": 97,
   "id": "61e90606",
   "metadata": {},
   "outputs": [],
   "source": [
    "data_copy = data_new.copy()"
   ]
  },
  {
   "cell_type": "markdown",
   "id": "3fe0f2ef",
   "metadata": {},
   "source": [
    "## 9. Feature Reduction"
   ]
  },
  {
   "cell_type": "markdown",
   "id": "f96d8c1e",
   "metadata": {},
   "source": [
    "### Correlation Analysis"
   ]
  },
  {
   "cell_type": "code",
   "execution_count": 98,
   "id": "b78e6ba9",
   "metadata": {},
   "outputs": [],
   "source": [
    "#Correlation matrix is plotted to check the relationship between variables"
   ]
  },
  {
   "cell_type": "code",
   "execution_count": 99,
   "id": "cc669e0d",
   "metadata": {},
   "outputs": [
    {
     "data": {
      "text/plain": [
       "<Axes: >"
      ]
     },
     "execution_count": 99,
     "metadata": {},
     "output_type": "execute_result"
    },
    {
     "data": {
      "image/png": "[encoded data removed]",
      "text/plain": [
       "<Figure size 1000x800 with 2 Axes>"
      ]
     },
     "metadata": {},
     "output_type": "display_data"
    }
   ],
   "source": [
    "corrmatrix = data_new.corr()\n",
    "plt.figure(figsize=(10,8))\n",
    "sns.heatmap(corrmatrix,vmin=-0.4 , vmax=0.9, annot=True, cmap='YlGnBu' , linewidth=0.2)"
   ]
  },
  {
   "cell_type": "code",
   "execution_count": 100,
   "id": "14ec4f4c",
   "metadata": {},
   "outputs": [],
   "source": [
    "#In this step, we removed the common columns like 'Drug,' 'Sides,' as well as other unrelated columns including 'Date,' 'Name,' 'Reviews,' and 'UsefulCount' since they are not related to drug side effects."
   ]
  },
  {
   "cell_type": "code",
   "execution_count": 101,
   "id": "f6f82069",
   "metadata": {},
   "outputs": [
    {
     "data": {
      "text/html": [
       "<div>\n",
       "<style scoped>\n",
       "    .dataframe tbody tr th:only-of-type {\n",
       "        vertical-align: middle;\n",
       "    }\n",
       "\n",
       "    .dataframe tbody tr th {\n",
       "        vertical-align: top;\n",
       "    }\n",
       "\n",
       "    .dataframe thead th {\n",
       "        text-align: right;\n",
       "    }\n",
       "</style>\n",
       "<table border=\"1\" class=\"dataframe\">\n",
       "  <thead>\n",
       "    <tr style=\"text-align: right;\">\n",
       "      <th></th>\n",
       "      <th>Race</th>\n",
       "      <th>Age</th>\n",
       "      <th>Condition</th>\n",
       "      <th>EaseofUse</th>\n",
       "      <th>Effectiveness</th>\n",
       "      <th>Sex</th>\n",
       "      <th>SideEffects</th>\n",
       "    </tr>\n",
       "  </thead>\n",
       "  <tbody>\n",
       "    <tr>\n",
       "      <th>0</th>\n",
       "      <td>Hispanic</td>\n",
       "      <td>7-12</td>\n",
       "      <td>simple partial seizures</td>\n",
       "      <td>4.0</td>\n",
       "      <td>5.0</td>\n",
       "      <td>Male</td>\n",
       "      <td>Extreme</td>\n",
       "    </tr>\n",
       "    <tr>\n",
       "      <th>1</th>\n",
       "      <td>Hispanic</td>\n",
       "      <td>65-74</td>\n",
       "      <td>migraine prevention</td>\n",
       "      <td>5.0</td>\n",
       "      <td>5.0</td>\n",
       "      <td>Female</td>\n",
       "      <td>Extreme</td>\n",
       "    </tr>\n",
       "    <tr>\n",
       "      <th>2</th>\n",
       "      <td>Black</td>\n",
       "      <td>55-64</td>\n",
       "      <td>other</td>\n",
       "      <td>5.0</td>\n",
       "      <td>5.0</td>\n",
       "      <td>Female</td>\n",
       "      <td>Extreme</td>\n",
       "    </tr>\n",
       "    <tr>\n",
       "      <th>3</th>\n",
       "      <td>Asian</td>\n",
       "      <td>45-54</td>\n",
       "      <td>migraine prevention</td>\n",
       "      <td>5.0</td>\n",
       "      <td>3.0</td>\n",
       "      <td>Female</td>\n",
       "      <td>Mild</td>\n",
       "    </tr>\n",
       "    <tr>\n",
       "      <th>4</th>\n",
       "      <td>Asian</td>\n",
       "      <td>25-34</td>\n",
       "      <td>tonic clonic epilepsy</td>\n",
       "      <td>5.0</td>\n",
       "      <td>5.0</td>\n",
       "      <td>Male</td>\n",
       "      <td>Extreme</td>\n",
       "    </tr>\n",
       "  </tbody>\n",
       "</table>\n",
       "</div>"
      ],
      "text/plain": [
       "       Race    Age                Condition  EaseofUse  Effectiveness     Sex  \\\n",
       "0  Hispanic   7-12  simple partial seizures        4.0            5.0    Male   \n",
       "1  Hispanic  65-74      migraine prevention        5.0            5.0  Female   \n",
       "2     Black  55-64                    other        5.0            5.0  Female   \n",
       "3     Asian  45-54      migraine prevention        5.0            3.0  Female   \n",
       "4     Asian  25-34    tonic clonic epilepsy        5.0            5.0    Male   \n",
       "\n",
       "  SideEffects  \n",
       "0     Extreme  \n",
       "1     Extreme  \n",
       "2     Extreme  \n",
       "3        Mild  \n",
       "4     Extreme  "
      ]
     },
     "execution_count": 101,
     "metadata": {},
     "output_type": "execute_result"
    }
   ],
   "source": [
    "data_new=data_new.drop(columns = ['Name','Drug','Date','Sides','Reviews','UsefulCount'],axis=1)\n",
    "data_new=data_new.reset_index(drop=True)\n",
    "data_new.head()"
   ]
  },
  {
   "cell_type": "code",
   "execution_count": 102,
   "id": "adad67e9",
   "metadata": {},
   "outputs": [
    {
     "data": {
      "text/plain": [
       "(1547, 7)"
      ]
     },
     "execution_count": 102,
     "metadata": {},
     "output_type": "execute_result"
    }
   ],
   "source": [
    "data_new.shape"
   ]
  },
  {
   "cell_type": "markdown",
   "id": "8d871566",
   "metadata": {},
   "source": [
    "## 10. Encoding"
   ]
  },
  {
   "cell_type": "code",
   "execution_count": 103,
   "id": "2771f43d",
   "metadata": {},
   "outputs": [
    {
     "name": "stdout",
     "output_type": "stream",
     "text": [
      "<class 'pandas.core.frame.DataFrame'>\n",
      "RangeIndex: 1547 entries, 0 to 1546\n",
      "Data columns (total 7 columns):\n",
      " #   Column         Non-Null Count  Dtype   \n",
      "---  ------         --------------  -----   \n",
      " 0   Race           1547 non-null   category\n",
      " 1   Age            1547 non-null   category\n",
      " 2   Condition      1547 non-null   category\n",
      " 3   EaseofUse      1547 non-null   float64 \n",
      " 4   Effectiveness  1547 non-null   float64 \n",
      " 5   Sex            1547 non-null   category\n",
      " 6   SideEffects    1547 non-null   category\n",
      "dtypes: category(5), float64(2)\n",
      "memory usage: 33.1 KB\n"
     ]
    }
   ],
   "source": [
    "#Finding categorical columns and chnaging datatype\n",
    "for cl in data_new.select_dtypes(include = ['object']):\n",
    "    data_new[cl]=data_new[cl].astype('category')\n",
    "data_new.info()"
   ]
  },
  {
   "cell_type": "code",
   "execution_count": 104,
   "id": "2742e46c",
   "metadata": {},
   "outputs": [],
   "source": [
    "from sklearn.preprocessing import LabelEncoder\n",
    "label=LabelEncoder()"
   ]
  },
  {
   "cell_type": "code",
   "execution_count": 105,
   "id": "290c470e",
   "metadata": {},
   "outputs": [
    {
     "name": "stdout",
     "output_type": "stream",
     "text": [
      "<class 'pandas.core.frame.DataFrame'>\n",
      "RangeIndex: 1547 entries, 0 to 1546\n",
      "Data columns (total 7 columns):\n",
      " #   Column         Non-Null Count  Dtype   \n",
      "---  ------         --------------  -----   \n",
      " 0   Race           1547 non-null   category\n",
      " 1   Age            1547 non-null   category\n",
      " 2   Condition      1547 non-null   category\n",
      " 3   EaseofUse      1547 non-null   float64 \n",
      " 4   Effectiveness  1547 non-null   float64 \n",
      " 5   Sex            1547 non-null   category\n",
      " 6   SideEffects    1547 non-null   category\n",
      "dtypes: category(5), float64(2)\n",
      "memory usage: 33.1 KB\n"
     ]
    }
   ],
   "source": [
    "data_new.info()"
   ]
  },
  {
   "cell_type": "code",
   "execution_count": 106,
   "id": "ee71e64b",
   "metadata": {},
   "outputs": [
    {
     "data": {
      "text/plain": [
       "Index(['Race', 'Age', 'Condition', 'EaseofUse', 'Effectiveness', 'Sex',\n",
       "       'SideEffects'],\n",
       "      dtype='object')"
      ]
     },
     "execution_count": 106,
     "metadata": {},
     "output_type": "execute_result"
    }
   ],
   "source": [
    "data_new.columns"
   ]
  },
  {
   "cell_type": "code",
   "execution_count": 107,
   "id": "84c2d463",
   "metadata": {},
   "outputs": [
    {
     "data": {
      "text/html": [
       "<div>\n",
       "<style scoped>\n",
       "    .dataframe tbody tr th:only-of-type {\n",
       "        vertical-align: middle;\n",
       "    }\n",
       "\n",
       "    .dataframe tbody tr th {\n",
       "        vertical-align: top;\n",
       "    }\n",
       "\n",
       "    .dataframe thead th {\n",
       "        text-align: right;\n",
       "    }\n",
       "</style>\n",
       "<table border=\"1\" class=\"dataframe\">\n",
       "  <thead>\n",
       "    <tr style=\"text-align: right;\">\n",
       "      <th></th>\n",
       "      <th>Race</th>\n",
       "      <th>Age</th>\n",
       "      <th>Condition</th>\n",
       "      <th>EaseofUse</th>\n",
       "      <th>Effectiveness</th>\n",
       "      <th>Sex</th>\n",
       "      <th>SideEffects</th>\n",
       "    </tr>\n",
       "  </thead>\n",
       "  <tbody>\n",
       "    <tr>\n",
       "      <th>0</th>\n",
       "      <td>Hispanic</td>\n",
       "      <td>7-12</td>\n",
       "      <td>simple partial seizures</td>\n",
       "      <td>4.0</td>\n",
       "      <td>5.0</td>\n",
       "      <td>Male</td>\n",
       "      <td>Extreme</td>\n",
       "    </tr>\n",
       "    <tr>\n",
       "      <th>1</th>\n",
       "      <td>Hispanic</td>\n",
       "      <td>65-74</td>\n",
       "      <td>migraine prevention</td>\n",
       "      <td>5.0</td>\n",
       "      <td>5.0</td>\n",
       "      <td>Female</td>\n",
       "      <td>Extreme</td>\n",
       "    </tr>\n",
       "    <tr>\n",
       "      <th>2</th>\n",
       "      <td>Black</td>\n",
       "      <td>55-64</td>\n",
       "      <td>other</td>\n",
       "      <td>5.0</td>\n",
       "      <td>5.0</td>\n",
       "      <td>Female</td>\n",
       "      <td>Extreme</td>\n",
       "    </tr>\n",
       "    <tr>\n",
       "      <th>3</th>\n",
       "      <td>Asian</td>\n",
       "      <td>45-54</td>\n",
       "      <td>migraine prevention</td>\n",
       "      <td>5.0</td>\n",
       "      <td>3.0</td>\n",
       "      <td>Female</td>\n",
       "      <td>Mild</td>\n",
       "    </tr>\n",
       "    <tr>\n",
       "      <th>4</th>\n",
       "      <td>Asian</td>\n",
       "      <td>25-34</td>\n",
       "      <td>tonic clonic epilepsy</td>\n",
       "      <td>5.0</td>\n",
       "      <td>5.0</td>\n",
       "      <td>Male</td>\n",
       "      <td>Extreme</td>\n",
       "    </tr>\n",
       "  </tbody>\n",
       "</table>\n",
       "</div>"
      ],
      "text/plain": [
       "       Race    Age                Condition  EaseofUse  Effectiveness     Sex  \\\n",
       "0  Hispanic   7-12  simple partial seizures        4.0            5.0    Male   \n",
       "1  Hispanic  65-74      migraine prevention        5.0            5.0  Female   \n",
       "2     Black  55-64                    other        5.0            5.0  Female   \n",
       "3     Asian  45-54      migraine prevention        5.0            3.0  Female   \n",
       "4     Asian  25-34    tonic clonic epilepsy        5.0            5.0    Male   \n",
       "\n",
       "  SideEffects  \n",
       "0     Extreme  \n",
       "1     Extreme  \n",
       "2     Extreme  \n",
       "3        Mild  \n",
       "4     Extreme  "
      ]
     },
     "execution_count": 107,
     "metadata": {},
     "output_type": "execute_result"
    }
   ],
   "source": [
    "data_new.head()"
   ]
  },
  {
   "cell_type": "code",
   "execution_count": 108,
   "id": "2b23b88a",
   "metadata": {},
   "outputs": [],
   "source": [
    "from sklearn.preprocessing import LabelEncoder\n",
    "label=LabelEncoder()\n",
    "#for col in ['SideEffects', 'Drug','Age','Sex']:\n",
    "for col in ['Race','Age','Sex','Condition','SideEffects']:   \n",
    "    data_new[col]=label.fit_transform((data_new[col]).astype(str))\n",
    "    \n",
    "data_label=data_new"
   ]
  },
  {
   "cell_type": "code",
   "execution_count": 109,
   "id": "ed36b440",
   "metadata": {},
   "outputs": [
    {
     "data": {
      "text/html": [
       "<div>\n",
       "<style scoped>\n",
       "    .dataframe tbody tr th:only-of-type {\n",
       "        vertical-align: middle;\n",
       "    }\n",
       "\n",
       "    .dataframe tbody tr th {\n",
       "        vertical-align: top;\n",
       "    }\n",
       "\n",
       "    .dataframe thead th {\n",
       "        text-align: right;\n",
       "    }\n",
       "</style>\n",
       "<table border=\"1\" class=\"dataframe\">\n",
       "  <thead>\n",
       "    <tr style=\"text-align: right;\">\n",
       "      <th></th>\n",
       "      <th>Race</th>\n",
       "      <th>Age</th>\n",
       "      <th>Condition</th>\n",
       "      <th>EaseofUse</th>\n",
       "      <th>Effectiveness</th>\n",
       "      <th>Sex</th>\n",
       "      <th>SideEffects</th>\n",
       "    </tr>\n",
       "  </thead>\n",
       "  <tbody>\n",
       "    <tr>\n",
       "      <th>0</th>\n",
       "      <td>2</td>\n",
       "      <td>9</td>\n",
       "      <td>10</td>\n",
       "      <td>4.0</td>\n",
       "      <td>5.0</td>\n",
       "      <td>1</td>\n",
       "      <td>0</td>\n",
       "    </tr>\n",
       "    <tr>\n",
       "      <th>1</th>\n",
       "      <td>2</td>\n",
       "      <td>8</td>\n",
       "      <td>8</td>\n",
       "      <td>5.0</td>\n",
       "      <td>5.0</td>\n",
       "      <td>0</td>\n",
       "      <td>0</td>\n",
       "    </tr>\n",
       "    <tr>\n",
       "      <th>2</th>\n",
       "      <td>1</td>\n",
       "      <td>7</td>\n",
       "      <td>9</td>\n",
       "      <td>5.0</td>\n",
       "      <td>5.0</td>\n",
       "      <td>0</td>\n",
       "      <td>0</td>\n",
       "    </tr>\n",
       "    <tr>\n",
       "      <th>3</th>\n",
       "      <td>0</td>\n",
       "      <td>6</td>\n",
       "      <td>8</td>\n",
       "      <td>5.0</td>\n",
       "      <td>3.0</td>\n",
       "      <td>0</td>\n",
       "      <td>1</td>\n",
       "    </tr>\n",
       "    <tr>\n",
       "      <th>4</th>\n",
       "      <td>0</td>\n",
       "      <td>3</td>\n",
       "      <td>11</td>\n",
       "      <td>5.0</td>\n",
       "      <td>5.0</td>\n",
       "      <td>1</td>\n",
       "      <td>0</td>\n",
       "    </tr>\n",
       "  </tbody>\n",
       "</table>\n",
       "</div>"
      ],
      "text/plain": [
       "   Race  Age  Condition  EaseofUse  Effectiveness  Sex  SideEffects\n",
       "0     2    9         10        4.0            5.0    1            0\n",
       "1     2    8          8        5.0            5.0    0            0\n",
       "2     1    7          9        5.0            5.0    0            0\n",
       "3     0    6          8        5.0            3.0    0            1\n",
       "4     0    3         11        5.0            5.0    1            0"
      ]
     },
     "execution_count": 109,
     "metadata": {},
     "output_type": "execute_result"
    }
   ],
   "source": [
    "data_new.head()"
   ]
  },
  {
   "cell_type": "code",
   "execution_count": 110,
   "id": "f44cc06a",
   "metadata": {},
   "outputs": [
    {
     "data": {
      "text/plain": [
       "(1547, 7)"
      ]
     },
     "execution_count": 110,
     "metadata": {},
     "output_type": "execute_result"
    }
   ],
   "source": [
    "data_new.shape"
   ]
  },
  {
   "cell_type": "markdown",
   "id": "aff00841",
   "metadata": {},
   "source": [
    "## 11. Scaling"
   ]
  },
  {
   "cell_type": "code",
   "execution_count": 111,
   "id": "8175ca31",
   "metadata": {},
   "outputs": [],
   "source": [
    "from sklearn.preprocessing import StandardScaler\n",
    "ss=StandardScaler()\n",
    "scale=['Effectiveness','EaseofUse']\n",
    "data_new[scale] = ss.fit_transform(data_new[scale])"
   ]
  },
  {
   "cell_type": "code",
   "execution_count": 112,
   "id": "bae7e634",
   "metadata": {},
   "outputs": [
    {
     "data": {
      "text/plain": [
       "(1547, 7)"
      ]
     },
     "execution_count": 112,
     "metadata": {},
     "output_type": "execute_result"
    }
   ],
   "source": [
    "data_new.shape"
   ]
  },
  {
   "cell_type": "code",
   "execution_count": 113,
   "id": "0a12400d",
   "metadata": {},
   "outputs": [],
   "source": [
    "#data_new.to_csv('drug_topamax_modelling.csv', index=False)"
   ]
  },
  {
   "cell_type": "code",
   "execution_count": 114,
   "id": "8b997d7d",
   "metadata": {},
   "outputs": [],
   "source": [
    "data_model = data_new.copy()"
   ]
  },
  {
   "cell_type": "markdown",
   "id": "b9c92cb7",
   "metadata": {},
   "source": [
    "# Exploratory Data Analysis"
   ]
  },
  {
   "cell_type": "markdown",
   "id": "6387d960",
   "metadata": {},
   "source": [
    "## 1. Top 20 Drugs"
   ]
  },
  {
   "cell_type": "code",
   "execution_count": 115,
   "id": "4c814fb3",
   "metadata": {},
   "outputs": [
    {
     "data": {
      "image/png": "[encoded data removed]",
      "text/plain": [
       "<Figure size 640x480 with 1 Axes>"
      ]
     },
     "metadata": {},
     "output_type": "display_data"
    }
   ],
   "source": [
    "data1= data['Drug'].value_counts().head(20).reset_index()\n",
    "data1.columns = ['Drug', 'Users']\n",
    "sns.barplot(data=data1, x = 'Drug', y = 'Users')\n",
    "plt.suptitle(\"Top 20 Drugs\")\n",
    "plt.xticks(rotation=90,fontsize=10)\n",
    "plt.show()"
   ]
  },
  {
   "cell_type": "markdown",
   "id": "9b28b8ef",
   "metadata": {},
   "source": [
    "Out of more than 7000 drugs, there are twenty features, each having a minimum user count of over 2250. Among them, Cymbalta stands out with the highest number of users."
   ]
  },
  {
   "cell_type": "markdown",
   "id": "809859aa",
   "metadata": {},
   "source": [
    "## 2. Top 20 Conditions"
   ]
  },
  {
   "cell_type": "code",
   "execution_count": 116,
   "id": "bad5dec4",
   "metadata": {},
   "outputs": [
    {
     "data": {
      "text/plain": [
       "Text(0, 0.5, 'Users')"
      ]
     },
     "execution_count": 116,
     "metadata": {},
     "output_type": "execute_result"
    },
    {
     "data": {
      "image/png": "[encoded data removed]",
      "text/plain": [
       "<Figure size 800x800 with 1 Axes>"
      ]
     },
     "metadata": {},
     "output_type": "display_data"
    }
   ],
   "source": [
    "data['Condition'].value_counts().nlargest(20).plot(kind='bar',figsize=(8,8))\n",
    "plt.suptitle(\"Top 20 Conditions\")\n",
    "plt.xlabel('Conditions')\n",
    "plt.ylabel('Users')"
   ]
  },
  {
   "cell_type": "markdown",
   "id": "bfb87226",
   "metadata": {},
   "source": [
    "Among the 1806 recorded conditions, \"Other Conditions\" holds the highest frequency, followed by \"Pain\" and \"High Blood Pressure\" in descending order. With this general data interpretation accomplished, we will now proceed by narrowing our focus to a specific drug, Topamax, which ranks among the top 20 drugs in the dataset, aligning with the project's objectives."
   ]
  },
  {
   "cell_type": "markdown",
   "id": "59ed4911",
   "metadata": {},
   "source": [
    "## 3. Conditions - Topamax"
   ]
  },
  {
   "cell_type": "code",
   "execution_count": 117,
   "id": "2f6b82fe",
   "metadata": {},
   "outputs": [
    {
     "data": {
      "text/plain": [
       "Text(0, 0.5, 'Count')"
      ]
     },
     "execution_count": 117,
     "metadata": {},
     "output_type": "execute_result"
    },
    {
     "data": {
      "image/png": "[encoded data removed]",
      "text/plain": [
       "<Figure size 800x800 with 1 Axes>"
      ]
     },
     "metadata": {},
     "output_type": "display_data"
    }
   ],
   "source": [
    "drug_topamax['Condition'].value_counts().nlargest(12).plot(kind='bar',figsize=(8,8))\n",
    "plt.suptitle(\"Topamax Conditions\")\n",
    "plt.xlabel('Condition')\n",
    "plt.ylabel('Count')"
   ]
  },
  {
   "cell_type": "markdown",
   "id": "0eb95cda",
   "metadata": {},
   "source": [
    "Topamax is used in the treatment of 12 conditions. Maximum users consume the drug for migraine prevention."
   ]
  },
  {
   "cell_type": "markdown",
   "id": "bfaf0c83",
   "metadata": {},
   "source": [
    "## 4. Users by Gender - Topamax"
   ]
  },
  {
   "cell_type": "code",
   "execution_count": 118,
   "id": "b02c03c9",
   "metadata": {},
   "outputs": [
    {
     "data": {
      "image/png": "[encoded data removed]",
      "text/plain": [
       "<Figure size 400x400 with 1 Axes>"
      ]
     },
     "metadata": {},
     "output_type": "display_data"
    }
   ],
   "source": [
    "plt.figure(figsize = (4,4))\n",
    "s=sns.countplot(x='Sex', data=data_copy)\n",
    "plt.title('Users by Gender', fontsize=15)\n",
    "plt.xlabel('Sex')\n",
    "plt.ylabel('Count') \n",
    "plt.show()"
   ]
  },
  {
   "cell_type": "markdown",
   "id": "6e60aa1b",
   "metadata": {},
   "source": [
    "The number of females exceeds the number of males."
   ]
  },
  {
   "cell_type": "markdown",
   "id": "ca1717c3",
   "metadata": {},
   "source": [
    "## 5. Users by Race - Topamax"
   ]
  },
  {
   "cell_type": "code",
   "execution_count": 119,
   "id": "6cdb3a3d",
   "metadata": {},
   "outputs": [
    {
     "data": {
      "text/plain": [
       "Text(0, 0.5, 'Count')"
      ]
     },
     "execution_count": 119,
     "metadata": {},
     "output_type": "execute_result"
    },
    {
     "data": {
      "image/png": "[encoded data removed]",
      "text/plain": [
       "<Figure size 640x480 with 1 Axes>"
      ]
     },
     "metadata": {},
     "output_type": "display_data"
    }
   ],
   "source": [
    "data_copy['Race'].value_counts().plot(kind='bar')\n",
    "plt.title(\"Race\", fontsize = 10)\n",
    "plt.xlabel(\"Race\", fontsize = 10)\n",
    "plt.ylabel(\"Count\", fontsize = 10)"
   ]
  },
  {
   "cell_type": "markdown",
   "id": "9dcb64bc",
   "metadata": {},
   "source": [
    "In terms of race, Whites have the highest drug usage."
   ]
  },
  {
   "cell_type": "markdown",
   "id": "ffc74980",
   "metadata": {},
   "source": [
    "## 6. Users by Race and Gender"
   ]
  },
  {
   "cell_type": "code",
   "execution_count": 120,
   "id": "a6514faf",
   "metadata": {},
   "outputs": [
    {
     "data": {
      "text/plain": [
       "Text(0.5, 1.0, 'Users by Race and Gender')"
      ]
     },
     "execution_count": 120,
     "metadata": {},
     "output_type": "execute_result"
    },
    {
     "data": {
      "image/png": "[encoded data removed]",
      "text/plain": [
       "<Figure size 640x480 with 1 Axes>"
      ]
     },
     "metadata": {},
     "output_type": "display_data"
    }
   ],
   "source": [
    "sns.countplot(x='Race',hue='Sex',data=data_copy)\n",
    "plt.title(\"Users by Race and Gender\", fontsize = 10)"
   ]
  },
  {
   "cell_type": "markdown",
   "id": "cd233fc4",
   "metadata": {},
   "source": [
    "Female users constituted the majority across all races, with a significant presence in each group."
   ]
  },
  {
   "cell_type": "markdown",
   "id": "8f77d50f",
   "metadata": {},
   "source": [
    "## 7. Users by Age and Gender"
   ]
  },
  {
   "cell_type": "code",
   "execution_count": 121,
   "id": "9ea7a15e",
   "metadata": {},
   "outputs": [
    {
     "data": {
      "text/plain": [
       "Text(0.5, 1.0, 'Users by Age and Gender')"
      ]
     },
     "execution_count": 121,
     "metadata": {},
     "output_type": "execute_result"
    },
    {
     "data": {
      "image/png": "[encoded data removed]",
      "text/plain": [
       "<Figure size 1000x600 with 1 Axes>"
      ]
     },
     "metadata": {},
     "output_type": "display_data"
    }
   ],
   "source": [
    "plt.figure(figsize=(10, 6))\n",
    "sns.countplot(x='Age',hue='Sex',data=data_copy)\n",
    "plt.title(\"Users by Age and Gender\", fontsize = 10)"
   ]
  },
  {
   "cell_type": "markdown",
   "id": "52c8868d",
   "metadata": {},
   "source": [
    "\n",
    "Females remained the predominant user group across all age categories spanning from 12 to 75 years. Additionally, individuals within the age brackets of 35-44, 45-54, and 25-34 demonstrated the highest utilization of Topamax."
   ]
  },
  {
   "cell_type": "markdown",
   "id": "958f25f7",
   "metadata": {},
   "source": [
    "## 8. Correlation Heatmap"
   ]
  },
  {
   "cell_type": "code",
   "execution_count": 122,
   "id": "78d6845d",
   "metadata": {},
   "outputs": [
    {
     "data": {
      "text/plain": [
       "<Axes: >"
      ]
     },
     "execution_count": 122,
     "metadata": {},
     "output_type": "execute_result"
    },
    {
     "data": {
      "image/png": "[encoded data removed]",
      "text/plain": [
       "<Figure size 800x600 with 2 Axes>"
      ]
     },
     "metadata": {},
     "output_type": "display_data"
    }
   ],
   "source": [
    "corrmatrix = data_copy.corr()\n",
    "plt.figure(figsize=(8,6))\n",
    "sns.heatmap(corrmatrix,vmin=-0.4 , vmax=0.9, annot=True, cmap='YlGnBu' , linewidth=0.2)"
   ]
  },
  {
   "cell_type": "markdown",
   "id": "c699bbb5",
   "metadata": {},
   "source": [
    "Variables are weakly or moderately correlated to each other."
   ]
  },
  {
   "cell_type": "markdown",
   "id": "ac3b6838",
   "metadata": {},
   "source": [
    "## 9. Yearly Reviews - Topamax"
   ]
  },
  {
   "cell_type": "code",
   "execution_count": 123,
   "id": "d34c14d6",
   "metadata": {},
   "outputs": [],
   "source": [
    "data_copy['Date'] = pd.to_datetime(data_copy['Date'], errors = 'coerce')"
   ]
  },
  {
   "cell_type": "code",
   "execution_count": 124,
   "id": "e6c77c19",
   "metadata": {},
   "outputs": [],
   "source": [
    "#extracting year from Date\n",
    "data_copy['Year'] = data_copy['Date'].dt.year"
   ]
  },
  {
   "cell_type": "code",
   "execution_count": 125,
   "id": "827ad8e0",
   "metadata": {},
   "outputs": [
    {
     "data": {
      "image/png": "[encoded data removed]",
      "text/plain": [
       "<Figure size 1000x400 with 1 Axes>"
      ]
     },
     "metadata": {},
     "output_type": "display_data"
    }
   ],
   "source": [
    "\n",
    "plt.figure(figsize=(10, 4))\n",
    "sns.countplot(x='Year', data=data_copy)\n",
    "plt.title('Number of yearly reviews', fontsize=15)\n",
    "plt.xlabel('Year', fontsize=15)\n",
    "plt.ylabel('Count of Reviews', fontsize=15)\n",
    "plt.show()"
   ]
  },
  {
   "cell_type": "markdown",
   "id": "7b4d137f",
   "metadata": {},
   "source": [
    "Topamax’s yearly reviews peaked in 2009 and tapered thereafter."
   ]
  },
  {
   "cell_type": "markdown",
   "id": "fc2f17dd",
   "metadata": {},
   "source": []
  },
  {
   "cell_type": "markdown",
   "id": "4bf615c2",
   "metadata": {},
   "source": [
    "## 10. Effectiveness"
   ]
  },
  {
   "cell_type": "code",
   "execution_count": 126,
   "id": "7067b5e4",
   "metadata": {},
   "outputs": [
    {
     "data": {
      "text/plain": [
       "Text(0, 0.5, 'Count')"
      ]
     },
     "execution_count": 126,
     "metadata": {},
     "output_type": "execute_result"
    },
    {
     "data": {
      "image/png": "[encoded data removed]",
      "text/plain": [
       "<Figure size 640x480 with 1 Axes>"
      ]
     },
     "metadata": {},
     "output_type": "display_data"
    }
   ],
   "source": [
    "data_copy['Effectiveness'].value_counts().plot(kind='bar')\n",
    "plt.title(\"Effectiveness\", fontsize = 10)\n",
    "plt.xlabel(\"Effectiveness\", fontsize = 10)\n",
    "plt.ylabel(\"Count\", fontsize = 10)"
   ]
  },
  {
   "cell_type": "markdown",
   "id": "93217fe0",
   "metadata": {},
   "source": [
    "Most users found Topamax highly effective"
   ]
  },
  {
   "cell_type": "markdown",
   "id": "a2c71856",
   "metadata": {},
   "source": [
    "## 11. Ease of Use"
   ]
  },
  {
   "cell_type": "code",
   "execution_count": 127,
   "id": "a2ef9abf",
   "metadata": {},
   "outputs": [
    {
     "data": {
      "text/plain": [
       "Text(0, 0.5, 'Count')"
      ]
     },
     "execution_count": 127,
     "metadata": {},
     "output_type": "execute_result"
    },
    {
     "data": {
      "image/png": "[encoded data removed]",
      "text/plain": [
       "<Figure size 640x480 with 1 Axes>"
      ]
     },
     "metadata": {},
     "output_type": "display_data"
    }
   ],
   "source": [
    "data_copy['EaseofUse'].value_counts().plot(kind='bar')\n",
    "plt.title(\"Ease of use\", fontsize = 10)\n",
    "plt.xlabel(\"EaseofUse\", fontsize = 10)\n",
    "plt.ylabel(\"Count\", fontsize = 10)"
   ]
  },
  {
   "cell_type": "markdown",
   "id": "7e7da8b1",
   "metadata": {},
   "source": [
    "Topamax received high ratings from most users for ease of use."
   ]
  },
  {
   "cell_type": "markdown",
   "id": "4958b07f",
   "metadata": {},
   "source": [
    "## 12. Useful Count"
   ]
  },
  {
   "cell_type": "code",
   "execution_count": 128,
   "id": "49acd594",
   "metadata": {},
   "outputs": [
    {
     "data": {
      "text/plain": [
       "Text(0, 0.5, 'Count')"
      ]
     },
     "execution_count": 128,
     "metadata": {},
     "output_type": "execute_result"
    },
    {
     "data": {
      "image/png": "[encoded data removed]",
      "text/plain": [
       "<Figure size 640x480 with 1 Axes>"
      ]
     },
     "metadata": {},
     "output_type": "display_data"
    }
   ],
   "source": [
    "data_copy['UsefulCount'].value_counts().plot(kind='bar')\n",
    "plt.title(\"Useful Count\", fontsize = 15)\n",
    "plt.xlabel(\"UsefulCount\", fontsize = 15)\n",
    "plt.ylabel(\"Count\", fontsize = 15)"
   ]
  },
  {
   "cell_type": "markdown",
   "id": "c7a4b9a3",
   "metadata": {},
   "source": [
    "Regarding the helpfulness of reviews, Topamax users have varying opinions, with the majority not finding the reviews paricularly useful"
   ]
  },
  {
   "cell_type": "markdown",
   "id": "8d4dfc9b",
   "metadata": {},
   "source": [
    "## 13. Users by Effectiveness and Gender"
   ]
  },
  {
   "cell_type": "code",
   "execution_count": 129,
   "id": "b70891e1",
   "metadata": {},
   "outputs": [
    {
     "data": {
      "text/plain": [
       "<Figure size 1000x800 with 0 Axes>"
      ]
     },
     "metadata": {},
     "output_type": "display_data"
    },
    {
     "data": {
      "image/png": "[encoded data removed]",
      "text/plain": [
       "<Figure size 1080x600 with 2 Axes>"
      ]
     },
     "metadata": {},
     "output_type": "display_data"
    }
   ],
   "source": [
    "plt.figure(figsize=(10,8))\n",
    "g = sns.catplot(x=\"Effectiveness\",col=\"Sex\",\n",
    "                data=data_copy, kind=\"count\",\n",
    "                height=6,aspect =.9);"
   ]
  },
  {
   "cell_type": "markdown",
   "id": "df5955f0",
   "metadata": {},
   "source": [
    "Topamax is found to be highly effective in females"
   ]
  },
  {
   "cell_type": "markdown",
   "id": "a6cd1ee9",
   "metadata": {},
   "source": [
    "## 14. Side Effects"
   ]
  },
  {
   "cell_type": "code",
   "execution_count": 130,
   "id": "dddd770c",
   "metadata": {},
   "outputs": [
    {
     "data": {
      "image/png": "[encoded data removed]",
      "text/plain": [
       "<Figure size 600x600 with 1 Axes>"
      ]
     },
     "metadata": {},
     "output_type": "display_data"
    }
   ],
   "source": [
    "plt.figure(figsize=(6,6))\n",
    "data_copy['SideEffects'].value_counts().plot.pie(autopct='%1.1f%%',shadow=True)\n",
    "plt.show()"
   ]
  },
  {
   "cell_type": "markdown",
   "id": "4b7bacbf",
   "metadata": {},
   "source": [
    "The highest number of cases were associated with extremely severe side effects, closely followed by no side effects, while mild symptoms were the least reported."
   ]
  },
  {
   "cell_type": "markdown",
   "id": "1e28d0b4",
   "metadata": {},
   "source": [
    "## 15. Side Effects and Age"
   ]
  },
  {
   "cell_type": "code",
   "execution_count": 131,
   "id": "fe2284cf",
   "metadata": {},
   "outputs": [
    {
     "data": {
      "text/plain": [
       "<Axes: xlabel='Age', ylabel='count'>"
      ]
     },
     "execution_count": 131,
     "metadata": {},
     "output_type": "execute_result"
    },
    {
     "data": {
      "image/png": "[encoded data removed]",
      "text/plain": [
       "<Figure size 1000x600 with 1 Axes>"
      ]
     },
     "metadata": {},
     "output_type": "display_data"
    }
   ],
   "source": [
    "plt.figure(figsize=(10, 6))\n",
    "sns.countplot(x='Age',hue='SideEffects',data=data_copy)"
   ]
  },
  {
   "cell_type": "markdown",
   "id": "8d3cafae",
   "metadata": {},
   "source": [
    "In individuals under 24, no side effects were the most common. For those aged 35-44, 25-34, 45-54, 65-74, and 55-64, extremely severe side effects were prevalent."
   ]
  },
  {
   "cell_type": "markdown",
   "id": "50e9c1b2",
   "metadata": {},
   "source": [
    "## 16. Side Effects and Gender"
   ]
  },
  {
   "cell_type": "code",
   "execution_count": 132,
   "id": "98648aa1",
   "metadata": {},
   "outputs": [
    {
     "data": {
      "text/plain": [
       "<Figure size 2000x1000 with 0 Axes>"
      ]
     },
     "metadata": {},
     "output_type": "display_data"
    },
    {
     "data": {
      "image/png": "[encoded data removed]",
      "text/plain": [
       "<Figure size 1080x600 with 2 Axes>"
      ]
     },
     "metadata": {},
     "output_type": "display_data"
    }
   ],
   "source": [
    "plt.figure(figsize=(20,10))\n",
    "\n",
    "g = sns.catplot(x=\"SideEffects\",col=\"Sex\",data=data_copy, kind=\"count\",height=6,aspect =.9);"
   ]
  },
  {
   "cell_type": "markdown",
   "id": "b5d92f6f",
   "metadata": {},
   "source": [
    "Females experienced more severe side effects, while men reported no side effects most frequently."
   ]
  },
  {
   "cell_type": "markdown",
   "id": "94804004",
   "metadata": {},
   "source": [
    "## 17. Side Effects and Race"
   ]
  },
  {
   "cell_type": "code",
   "execution_count": 133,
   "id": "1a5049ad",
   "metadata": {},
   "outputs": [
    {
     "data": {
      "text/plain": [
       "<Axes: xlabel='Race', ylabel='count'>"
      ]
     },
     "execution_count": 133,
     "metadata": {},
     "output_type": "execute_result"
    },
    {
     "data": {
      "image/png": "[encoded data removed]",
      "text/plain": [
       "<Figure size 1000x600 with 1 Axes>"
      ]
     },
     "metadata": {},
     "output_type": "display_data"
    }
   ],
   "source": [
    "plt.figure(figsize=(10, 6))\n",
    "sns.countplot(x='Race',hue='SideEffects',data=data_copy)"
   ]
  },
  {
   "cell_type": "markdown",
   "id": "e58b6d89",
   "metadata": {},
   "source": [
    "Side effects proved race neutral with proportionate results."
   ]
  },
  {
   "cell_type": "markdown",
   "id": "edf4531c",
   "metadata": {},
   "source": [
    "# Splitting the Data"
   ]
  },
  {
   "cell_type": "code",
   "execution_count": 134,
   "id": "ae33c73b",
   "metadata": {},
   "outputs": [],
   "source": [
    "#target\n",
    "y = data_new['SideEffects']"
   ]
  },
  {
   "cell_type": "code",
   "execution_count": 135,
   "id": "24e9fe16",
   "metadata": {},
   "outputs": [],
   "source": [
    "X = data_new.drop(['SideEffects'],axis=1)"
   ]
  },
  {
   "cell_type": "code",
   "execution_count": 136,
   "id": "e822da35",
   "metadata": {},
   "outputs": [
    {
     "data": {
      "text/plain": [
       "(1547, 6)"
      ]
     },
     "execution_count": 136,
     "metadata": {},
     "output_type": "execute_result"
    }
   ],
   "source": [
    "X.shape"
   ]
  },
  {
   "cell_type": "markdown",
   "id": "75ea8a38",
   "metadata": {},
   "source": [
    "# Splitting Data into Train and Test Sets"
   ]
  },
  {
   "cell_type": "code",
   "execution_count": 137,
   "id": "2ab39d9d",
   "metadata": {},
   "outputs": [],
   "source": [
    "from sklearn.model_selection import train_test_split\n",
    "X_train,X_test,y_train,y_test = train_test_split(X,y, random_state=42,test_size=0.2)#assigninng values"
   ]
  },
  {
   "cell_type": "code",
   "execution_count": 138,
   "id": "1a1c30cb",
   "metadata": {},
   "outputs": [
    {
     "data": {
      "text/plain": [
       "(1237, 6)"
      ]
     },
     "execution_count": 138,
     "metadata": {},
     "output_type": "execute_result"
    }
   ],
   "source": [
    "X_train.shape"
   ]
  },
  {
   "cell_type": "code",
   "execution_count": 139,
   "id": "6c347d2b",
   "metadata": {},
   "outputs": [
    {
     "data": {
      "text/plain": [
       "(310, 6)"
      ]
     },
     "execution_count": 139,
     "metadata": {},
     "output_type": "execute_result"
    }
   ],
   "source": [
    "X_test.shape"
   ]
  },
  {
   "cell_type": "code",
   "execution_count": 140,
   "id": "ac229ff4",
   "metadata": {},
   "outputs": [
    {
     "data": {
      "text/plain": [
       "(1237,)"
      ]
     },
     "execution_count": 140,
     "metadata": {},
     "output_type": "execute_result"
    }
   ],
   "source": [
    "y_train.shape"
   ]
  },
  {
   "cell_type": "code",
   "execution_count": 141,
   "id": "e9c4a5ac",
   "metadata": {},
   "outputs": [
    {
     "data": {
      "text/plain": [
       "(310,)"
      ]
     },
     "execution_count": 141,
     "metadata": {},
     "output_type": "execute_result"
    }
   ],
   "source": [
    "y_test.shape"
   ]
  },
  {
   "cell_type": "markdown",
   "id": "fc7dc18e",
   "metadata": {},
   "source": [
    "# Modelling"
   ]
  },
  {
   "cell_type": "markdown",
   "id": "f4b77d65",
   "metadata": {},
   "source": [
    "## 1. Logistic Regression Model"
   ]
  },
  {
   "cell_type": "code",
   "execution_count": 142,
   "id": "4ae4ebed",
   "metadata": {},
   "outputs": [],
   "source": [
    "from sklearn.linear_model import LogisticRegression\n",
    "logit_model = LogisticRegression(multi_class='multinomial')\n",
    "logit_model.fit(X_train, y_train)\n",
    "y_pred = logit_model.predict(X_test)"
   ]
  },
  {
   "cell_type": "code",
   "execution_count": 143,
   "id": "ba580990",
   "metadata": {},
   "outputs": [],
   "source": [
    "from sklearn.metrics import confusion_matrix, accuracy_score, precision_score,recall_score,f1_score,classification_report"
   ]
  },
  {
   "cell_type": "markdown",
   "id": "444ecfab",
   "metadata": {},
   "source": [
    "### Performance Evaluation"
   ]
  },
  {
   "cell_type": "code",
   "execution_count": 144,
   "id": "0cece535",
   "metadata": {},
   "outputs": [
    {
     "name": "stdout",
     "output_type": "stream",
     "text": [
      "Accuracy is :  55.483870967741936\n"
     ]
    }
   ],
   "source": [
    "print(\"Accuracy is : \", accuracy_score(y_test, y_pred)*100)"
   ]
  },
  {
   "cell_type": "markdown",
   "id": "901bdbaf",
   "metadata": {},
   "source": [
    "### Confusion Matrix"
   ]
  },
  {
   "cell_type": "code",
   "execution_count": 145,
   "id": "b1336e4c",
   "metadata": {},
   "outputs": [
    {
     "data": {
      "text/plain": [
       "array([[90,  0,  1,  0, 17],\n",
       "       [ 1,  0,  4, 15,  6],\n",
       "       [10,  1,  7, 16, 19],\n",
       "       [ 7,  0,  5, 41, 10],\n",
       "       [15,  0,  4,  7, 34]], dtype=int64)"
      ]
     },
     "execution_count": 145,
     "metadata": {},
     "output_type": "execute_result"
    }
   ],
   "source": [
    "confusion_matrix(y_test,y_pred)"
   ]
  },
  {
   "cell_type": "markdown",
   "id": "17ac003b",
   "metadata": {},
   "source": [
    "## 2. KNN Model"
   ]
  },
  {
   "cell_type": "code",
   "execution_count": 146,
   "id": "f7881d3f",
   "metadata": {},
   "outputs": [],
   "source": [
    "from sklearn.neighbors import KNeighborsClassifier"
   ]
  },
  {
   "cell_type": "code",
   "execution_count": 147,
   "id": "4e2dfe4e",
   "metadata": {},
   "outputs": [],
   "source": [
    "acc_values = []\n",
    "neighbors = np.arange(3,15)\n",
    "\n",
    "# creating a loop to create KNN model for each K value\n",
    "for k in neighbors:\n",
    "#taking the instance of KNN to a variable.the variable name is classifier.\n",
    "    classifier = KNeighborsClassifier(n_neighbors= k, metric = 'minkowski')    #no: of neighbors n the methode to measure the distance .instance is created\n",
    "#we have to create the model.\n",
    "    classifier = KNeighborsClassifier(n_neighbors= k)\n",
    "    classifier.fit(X_train,y_train)\n",
    "#have to predict output using this model.\n",
    "    y_pred = classifier.predict(X_test)#KNN is created\n",
    "#append the accurcy values to empty list in order to fing out maximum accuracy.\n",
    "    acc = accuracy_score(y_test, y_pred)#taking accuracy values to variable acc \n",
    "#append these accuracy values to our list\n",
    "    acc_values.append(acc)"
   ]
  },
  {
   "cell_type": "code",
   "execution_count": 148,
   "id": "82e2e4b7",
   "metadata": {},
   "outputs": [
    {
     "data": {
      "text/plain": [
       "[0.4935483870967742,\n",
       " 0.5193548387096775,\n",
       " 0.5193548387096775,\n",
       " 0.535483870967742,\n",
       " 0.5193548387096775,\n",
       " 0.5193548387096775,\n",
       " 0.5,\n",
       " 0.535483870967742,\n",
       " 0.532258064516129,\n",
       " 0.532258064516129,\n",
       " 0.532258064516129,\n",
       " 0.5516129032258065]"
      ]
     },
     "execution_count": 148,
     "metadata": {},
     "output_type": "execute_result"
    }
   ],
   "source": [
    "acc_values"
   ]
  },
  {
   "cell_type": "markdown",
   "id": "d536a523",
   "metadata": {},
   "source": [
    "A graph is plotted to determine the k value with the highest accuracy, showing the relationship between k values (number of neighbors) and accuracy values."
   ]
  },
  {
   "cell_type": "code",
   "execution_count": 149,
   "id": "b5e56456",
   "metadata": {},
   "outputs": [
    {
     "data": {
      "text/plain": [
       "Text(0, 0.5, 'accuracy')"
      ]
     },
     "execution_count": 149,
     "metadata": {},
     "output_type": "execute_result"
    },
    {
     "data": {
      "image/png": "[encoded data removed]",
      "text/plain": [
       "<Figure size 640x480 with 1 Axes>"
      ]
     },
     "metadata": {},
     "output_type": "display_data"
    }
   ],
   "source": [
    "plt.plot(neighbors,acc_values,'o-')\n",
    "plt.xlabel('k value')\n",
    "plt.ylabel('accuracy')"
   ]
  },
  {
   "cell_type": "markdown",
   "id": "5aa177ed",
   "metadata": {},
   "source": [
    "### KNN Model with k = 14"
   ]
  },
  {
   "cell_type": "code",
   "execution_count": 174,
   "id": "6ccd426a",
   "metadata": {},
   "outputs": [],
   "source": [
    "classifier = KNeighborsClassifier(n_neighbors= 14, metric = 'minkowski')\n",
    "classifier.fit(X_train,y_train)\n",
    "y_pred = classifier.predict(X_test)"
   ]
  },
  {
   "cell_type": "markdown",
   "id": "f96ef1dd",
   "metadata": {},
   "source": [
    "### Performance Evaluation"
   ]
  },
  {
   "cell_type": "code",
   "execution_count": 175,
   "id": "a83418b9",
   "metadata": {},
   "outputs": [
    {
     "name": "stdout",
     "output_type": "stream",
     "text": [
      "Accuracy is :  55.16129032258065\n"
     ]
    }
   ],
   "source": [
    "print(\"Accuracy is : \", accuracy_score(y_test, y_pred)*100)"
   ]
  },
  {
   "cell_type": "markdown",
   "id": "08b17886",
   "metadata": {},
   "source": [
    "### Confusion Matrix"
   ]
  },
  {
   "cell_type": "code",
   "execution_count": 176,
   "id": "1b0f46d0",
   "metadata": {},
   "outputs": [
    {
     "data": {
      "text/plain": [
       "array([[93,  1,  0,  0, 14],\n",
       "       [ 3,  6,  3,  8,  6],\n",
       "       [14,  5,  8,  6, 20],\n",
       "       [10,  5, 10, 29,  9],\n",
       "       [18,  0,  6,  1, 35]], dtype=int64)"
      ]
     },
     "execution_count": 176,
     "metadata": {},
     "output_type": "execute_result"
    }
   ],
   "source": [
    "confusion_matrix(y_test,y_pred)"
   ]
  },
  {
   "cell_type": "markdown",
   "id": "65199bf0",
   "metadata": {},
   "source": [
    "## 3. Decision Tree Classifier"
   ]
  },
  {
   "cell_type": "code",
   "execution_count": 153,
   "id": "8f00cad7",
   "metadata": {},
   "outputs": [],
   "source": [
    "from sklearn.tree import DecisionTreeClassifier\n",
    "dt_model = DecisionTreeClassifier()\n",
    "dt_model.fit(X_train,y_train)\n",
    "y_pred = dt_model.predict(X_test)"
   ]
  },
  {
   "cell_type": "markdown",
   "id": "0636d10f",
   "metadata": {},
   "source": [
    "### Performance Evaluation"
   ]
  },
  {
   "cell_type": "code",
   "execution_count": 154,
   "id": "e3c886aa",
   "metadata": {},
   "outputs": [
    {
     "name": "stdout",
     "output_type": "stream",
     "text": [
      "Accuracy is :  51.61290322580645\n"
     ]
    }
   ],
   "source": [
    "print(\"Accuracy is : \", accuracy_score(y_test, y_pred)*100)"
   ]
  },
  {
   "cell_type": "markdown",
   "id": "162334ad",
   "metadata": {},
   "source": [
    "### Confusion Matrix "
   ]
  },
  {
   "cell_type": "code",
   "execution_count": 155,
   "id": "d5fbfcfb",
   "metadata": {},
   "outputs": [
    {
     "data": {
      "text/plain": [
       "array([[87,  1,  4,  0, 16],\n",
       "       [ 2,  7,  6,  8,  3],\n",
       "       [12, 10, 10, 11, 10],\n",
       "       [ 9, 10,  8, 32,  4],\n",
       "       [17,  5,  9,  5, 24]], dtype=int64)"
      ]
     },
     "execution_count": 155,
     "metadata": {},
     "output_type": "execute_result"
    }
   ],
   "source": [
    "confusion_matrix(y_test,y_pred)"
   ]
  },
  {
   "cell_type": "markdown",
   "id": "a539d882",
   "metadata": {},
   "source": [
    "## 4. Support Vector Machine"
   ]
  },
  {
   "cell_type": "markdown",
   "id": "71367203",
   "metadata": {},
   "source": [
    "### 4.1 Linear SVM"
   ]
  },
  {
   "cell_type": "code",
   "execution_count": 156,
   "id": "6adfebaa",
   "metadata": {},
   "outputs": [],
   "source": [
    "from sklearn.svm import SVC\n",
    "svm_linear = SVC(kernel = 'linear')#creating an instance\n",
    "svm_linear.fit(X_train,y_train)\n",
    "y_pred = svm_linear.predict(X_test)"
   ]
  },
  {
   "cell_type": "markdown",
   "id": "304abea4",
   "metadata": {},
   "source": [
    "### Performance Evaluation"
   ]
  },
  {
   "cell_type": "code",
   "execution_count": 157,
   "id": "84f58c53",
   "metadata": {},
   "outputs": [
    {
     "name": "stdout",
     "output_type": "stream",
     "text": [
      "Accuracy is :  56.451612903225815\n"
     ]
    }
   ],
   "source": [
    "print(\"Accuracy is : \", accuracy_score(y_test, y_pred)*100)"
   ]
  },
  {
   "cell_type": "markdown",
   "id": "3a4a74a3",
   "metadata": {},
   "source": [
    "### Confusion Matrix"
   ]
  },
  {
   "cell_type": "code",
   "execution_count": 158,
   "id": "a4e72e59",
   "metadata": {},
   "outputs": [
    {
     "data": {
      "text/plain": [
       "array([[88,  0,  1,  0, 19],\n",
       "       [ 1,  2,  7, 10,  6],\n",
       "       [ 7,  1, 15,  8, 22],\n",
       "       [ 6,  3,  9, 34, 11],\n",
       "       [14,  0,  9,  1, 36]], dtype=int64)"
      ]
     },
     "execution_count": 158,
     "metadata": {},
     "output_type": "execute_result"
    }
   ],
   "source": [
    "confusion_matrix(y_test,y_pred)"
   ]
  },
  {
   "cell_type": "markdown",
   "id": "665d95fc",
   "metadata": {},
   "source": [
    "### 4.2 Polynomial SVM"
   ]
  },
  {
   "cell_type": "code",
   "execution_count": 159,
   "id": "e982bd30",
   "metadata": {},
   "outputs": [],
   "source": [
    "svm_poly = SVC(kernel = 'poly', degree=3)\n",
    "svm_poly.fit(X_train,y_train)\n",
    "y_pred = svm_poly.predict(X_test)"
   ]
  },
  {
   "cell_type": "markdown",
   "id": "a1f22a37",
   "metadata": {},
   "source": [
    "### Performance Evaluation"
   ]
  },
  {
   "cell_type": "code",
   "execution_count": 160,
   "id": "bf9b6e21",
   "metadata": {},
   "outputs": [
    {
     "name": "stdout",
     "output_type": "stream",
     "text": [
      "Accuracy is :  52.25806451612903\n"
     ]
    }
   ],
   "source": [
    "print(\"Accuracy is : \", accuracy_score(y_test, y_pred)*100)"
   ]
  },
  {
   "cell_type": "markdown",
   "id": "e8bd8c5f",
   "metadata": {},
   "source": [
    "### Confusion Matrix"
   ]
  },
  {
   "cell_type": "code",
   "execution_count": 161,
   "id": "6a6b08dc",
   "metadata": {},
   "outputs": [
    {
     "data": {
      "text/plain": [
       "array([[88,  0,  0,  0, 20],\n",
       "       [ 1,  0,  7, 11,  7],\n",
       "       [ 9,  0,  8, 11, 25],\n",
       "       [ 8,  0,  9, 30, 16],\n",
       "       [16,  0,  5,  3, 36]], dtype=int64)"
      ]
     },
     "execution_count": 161,
     "metadata": {},
     "output_type": "execute_result"
    }
   ],
   "source": [
    "confusion_matrix(y_test,y_pred)"
   ]
  },
  {
   "cell_type": "markdown",
   "id": "7133fbd6",
   "metadata": {},
   "source": [
    "### 4.3 Radial SVM"
   ]
  },
  {
   "cell_type": "code",
   "execution_count": 162,
   "id": "c246718c",
   "metadata": {},
   "outputs": [],
   "source": [
    "svm_radial = SVC(kernel='rbf')\n",
    "svm_radial.fit(X_train,y_train)\n",
    "y_pred=svm_radial.predict(X_test)"
   ]
  },
  {
   "cell_type": "markdown",
   "id": "619af2e3",
   "metadata": {},
   "source": [
    "### Performance Evaluation"
   ]
  },
  {
   "cell_type": "code",
   "execution_count": 163,
   "id": "23663b07",
   "metadata": {},
   "outputs": [
    {
     "name": "stdout",
     "output_type": "stream",
     "text": [
      "Accuracy is :  55.16129032258065\n"
     ]
    }
   ],
   "source": [
    "print(\"Accuracy is : \", accuracy_score(y_test, y_pred)*100)"
   ]
  },
  {
   "cell_type": "markdown",
   "id": "49864119",
   "metadata": {},
   "source": [
    "### Confusion Matrix"
   ]
  },
  {
   "cell_type": "code",
   "execution_count": 164,
   "id": "9540ff24",
   "metadata": {},
   "outputs": [
    {
     "data": {
      "text/plain": [
       "array([[95,  0,  0,  0, 13],\n",
       "       [ 2,  0,  4, 10, 10],\n",
       "       [11,  0,  5,  5, 32],\n",
       "       [ 7,  0,  6, 32, 18],\n",
       "       [17,  0,  3,  1, 39]], dtype=int64)"
      ]
     },
     "execution_count": 164,
     "metadata": {},
     "output_type": "execute_result"
    }
   ],
   "source": [
    "confusion_matrix(y_test,y_pred)"
   ]
  },
  {
   "cell_type": "markdown",
   "id": "e9a17807",
   "metadata": {},
   "source": [
    "## 5. Random Forest"
   ]
  },
  {
   "cell_type": "code",
   "execution_count": 165,
   "id": "5a87d8a0",
   "metadata": {},
   "outputs": [],
   "source": [
    "from sklearn.ensemble import RandomForestClassifier\n",
    "rf=RandomForestClassifier()\n",
    "#training the model\n",
    "rf.fit(X_train,y_train)\n",
    "#to make predictions\n",
    "y_pred=rf.predict(X_test)"
   ]
  },
  {
   "cell_type": "markdown",
   "id": "91060c53",
   "metadata": {},
   "source": [
    "### Performance Evaluation"
   ]
  },
  {
   "cell_type": "code",
   "execution_count": 166,
   "id": "b34e6d54",
   "metadata": {},
   "outputs": [
    {
     "name": "stdout",
     "output_type": "stream",
     "text": [
      "Accuracy is :  51.61290322580645\n"
     ]
    }
   ],
   "source": [
    "print(\"Accuracy is : \", accuracy_score(y_test, y_pred)*100)"
   ]
  },
  {
   "cell_type": "markdown",
   "id": "a8a20b1e",
   "metadata": {},
   "source": [
    "### Confusion Matrix"
   ]
  },
  {
   "cell_type": "code",
   "execution_count": 167,
   "id": "678741a6",
   "metadata": {},
   "outputs": [
    {
     "data": {
      "text/plain": [
       "array([[84,  1,  4,  0, 19],\n",
       "       [ 2,  3,  7, 10,  4],\n",
       "       [10,  7, 10, 14, 12],\n",
       "       [ 5,  4,  9, 36,  9],\n",
       "       [15,  4,  9,  5, 27]], dtype=int64)"
      ]
     },
     "execution_count": 167,
     "metadata": {},
     "output_type": "execute_result"
    }
   ],
   "source": [
    "confusion_matrix(y_test,y_pred)"
   ]
  },
  {
   "cell_type": "markdown",
   "id": "b5b92a43",
   "metadata": {},
   "source": []
  },
  {
   "cell_type": "code",
   "execution_count": null,
   "id": "4b5d8ab3",
   "metadata": {},
   "outputs": [],
   "source": []
  },
  {
   "cell_type": "code",
   "execution_count": null,
   "id": "76045124",
   "metadata": {},
   "outputs": [],
   "source": []
  },
  {
   "cell_type": "markdown",
   "id": "b1ed0a52",
   "metadata": {},
   "source": [
    "## 6. Gradient Boosting"
   ]
  },
  {
   "cell_type": "code",
   "execution_count": 178,
   "id": "98307366",
   "metadata": {},
   "outputs": [],
   "source": [
    "from sklearn.ensemble import GradientBoostingClassifier\n",
    "gb = GradientBoostingClassifier()\n",
    "gb.fit(X_train,y_train)\n",
    "y_pred = gb.predict(X_test)"
   ]
  },
  {
   "cell_type": "markdown",
   "id": "7b03b824",
   "metadata": {},
   "source": [
    "### Performance Evaluation"
   ]
  },
  {
   "cell_type": "code",
   "execution_count": 179,
   "id": "2775cf09",
   "metadata": {},
   "outputs": [
    {
     "name": "stdout",
     "output_type": "stream",
     "text": [
      "Accuracy is:  56.774193548387096\n"
     ]
    }
   ],
   "source": [
    "print('Accuracy is: ',accuracy_score(y_test,y_pred)*100)"
   ]
  },
  {
   "cell_type": "markdown",
   "id": "a974ef3d",
   "metadata": {},
   "source": [
    "### Confusion Matrix"
   ]
  },
  {
   "cell_type": "code",
   "execution_count": 180,
   "id": "a412780a",
   "metadata": {},
   "outputs": [
    {
     "data": {
      "text/plain": [
       "array([[89,  1,  1,  0, 17],\n",
       "       [ 1,  4,  7, 10,  4],\n",
       "       [11,  4, 15,  8, 15],\n",
       "       [ 6,  4, 10, 33, 10],\n",
       "       [13,  1,  6,  5, 35]], dtype=int64)"
      ]
     },
     "execution_count": 180,
     "metadata": {},
     "output_type": "execute_result"
    }
   ],
   "source": [
    "confusion_matrix(y_test,y_pred)"
   ]
  },
  {
   "cell_type": "markdown",
   "id": "fbec0896",
   "metadata": {},
   "source": [
    "## Feature Importance"
   ]
  },
  {
   "cell_type": "code",
   "execution_count": 183,
   "id": "907cfa5b",
   "metadata": {},
   "outputs": [
    {
     "data": {
      "text/plain": [
       "Effectiveness    76.193311\n",
       "EaseofUse         7.821203\n",
       "Condition         5.806407\n",
       "Age               5.675889\n",
       "Race              3.234123\n",
       "Sex               1.269067\n",
       "dtype: float64"
      ]
     },
     "execution_count": 183,
     "metadata": {},
     "output_type": "execute_result"
    }
   ],
   "source": [
    "pd.Series(gb.feature_importances_,index=X.columns).sort_values(ascending=False)*100"
   ]
  },
  {
   "cell_type": "markdown",
   "id": "2f5046bb",
   "metadata": {},
   "source": [
    "## Fine Tuning of Hyper Parameters"
   ]
  },
  {
   "cell_type": "code",
   "execution_count": 184,
   "id": "a026b048",
   "metadata": {},
   "outputs": [
    {
     "data": {
      "text/html": [
       "<style>#sk-container-id-2 {color: black;background-color: white;}#sk-container-id-2 pre{padding: 0;}#sk-container-id-2 div.sk-toggleable {background-color: white;}#sk-container-id-2 label.sk-toggleable__label {cursor: pointer;display: block;width: 100%;margin-bottom: 0;padding: 0.3em;box-sizing: border-box;text-align: center;}#sk-container-id-2 label.sk-toggleable__label-arrow:before {content: \"▸\";float: left;margin-right: 0.25em;color: #696969;}#sk-container-id-2 label.sk-toggleable__label-arrow:hover:before {color: black;}#sk-container-id-2 div.sk-estimator:hover label.sk-toggleable__label-arrow:before {color: black;}#sk-container-id-2 div.sk-toggleable__content {max-height: 0;max-width: 0;overflow: hidden;text-align: left;background-color: #f0f8ff;}#sk-container-id-2 div.sk-toggleable__content pre {margin: 0.2em;color: black;border-radius: 0.25em;background-color: #f0f8ff;}#sk-container-id-2 input.sk-toggleable__control:checked~div.sk-toggleable__content {max-height: 200px;max-width: 100%;overflow: auto;}#sk-container-id-2 input.sk-toggleable__control:checked~label.sk-toggleable__label-arrow:before {content: \"▾\";}#sk-container-id-2 div.sk-estimator input.sk-toggleable__control:checked~label.sk-toggleable__label {background-color: #d4ebff;}#sk-container-id-2 div.sk-label input.sk-toggleable__control:checked~label.sk-toggleable__label {background-color: #d4ebff;}#sk-container-id-2 input.sk-hidden--visually {border: 0;clip: rect(1px 1px 1px 1px);clip: rect(1px, 1px, 1px, 1px);height: 1px;margin: -1px;overflow: hidden;padding: 0;position: absolute;width: 1px;}#sk-container-id-2 div.sk-estimator {font-family: monospace;background-color: #f0f8ff;border: 1px dotted black;border-radius: 0.25em;box-sizing: border-box;margin-bottom: 0.5em;}#sk-container-id-2 div.sk-estimator:hover {background-color: #d4ebff;}#sk-container-id-2 div.sk-parallel-item::after {content: \"\";width: 100%;border-bottom: 1px solid gray;flex-grow: 1;}#sk-container-id-2 div.sk-label:hover label.sk-toggleable__label {background-color: #d4ebff;}#sk-container-id-2 div.sk-serial::before {content: \"\";position: absolute;border-left: 1px solid gray;box-sizing: border-box;top: 0;bottom: 0;left: 50%;z-index: 0;}#sk-container-id-2 div.sk-serial {display: flex;flex-direction: column;align-items: center;background-color: white;padding-right: 0.2em;padding-left: 0.2em;position: relative;}#sk-container-id-2 div.sk-item {position: relative;z-index: 1;}#sk-container-id-2 div.sk-parallel {display: flex;align-items: stretch;justify-content: center;background-color: white;position: relative;}#sk-container-id-2 div.sk-item::before, #sk-container-id-2 div.sk-parallel-item::before {content: \"\";position: absolute;border-left: 1px solid gray;box-sizing: border-box;top: 0;bottom: 0;left: 50%;z-index: -1;}#sk-container-id-2 div.sk-parallel-item {display: flex;flex-direction: column;z-index: 1;position: relative;background-color: white;}#sk-container-id-2 div.sk-parallel-item:first-child::after {align-self: flex-end;width: 50%;}#sk-container-id-2 div.sk-parallel-item:last-child::after {align-self: flex-start;width: 50%;}#sk-container-id-2 div.sk-parallel-item:only-child::after {width: 0;}#sk-container-id-2 div.sk-dashed-wrapped {border: 1px dashed gray;margin: 0 0.4em 0.5em 0.4em;box-sizing: border-box;padding-bottom: 0.4em;background-color: white;}#sk-container-id-2 div.sk-label label {font-family: monospace;font-weight: bold;display: inline-block;line-height: 1.2em;}#sk-container-id-2 div.sk-label-container {text-align: center;}#sk-container-id-2 div.sk-container {/* jupyter's `normalize.less` sets `[hidden] { display: none; }` but bootstrap.min.css set `[hidden] { display: none !important; }` so we also need the `!important` here to be able to override the default hidden behavior on the sphinx rendered scikit-learn.org. See: https://github.com/scikit-learn/scikit-learn/issues/21755 */display: inline-block !important;position: relative;}#sk-container-id-2 div.sk-text-repr-fallback {display: none;}</style><div id=\"sk-container-id-2\" class=\"sk-top-container\"><div class=\"sk-text-repr-fallback\"><pre>GradientBoostingClassifier()</pre><b>In a Jupyter environment, please rerun this cell to show the HTML representation or trust the notebook. <br />On GitHub, the HTML representation is unable to render, please try loading this page with nbviewer.org.</b></div><div class=\"sk-container\" hidden><div class=\"sk-item\"><div class=\"sk-estimator sk-toggleable\"><input class=\"sk-toggleable__control sk-hidden--visually\" id=\"sk-estimator-id-2\" type=\"checkbox\" checked><label for=\"sk-estimator-id-2\" class=\"sk-toggleable__label sk-toggleable__label-arrow\">GradientBoostingClassifier</label><div class=\"sk-toggleable__content\"><pre>GradientBoostingClassifier()</pre></div></div></div></div></div>"
      ],
      "text/plain": [
       "GradientBoostingClassifier()"
      ]
     },
     "execution_count": 184,
     "metadata": {},
     "output_type": "execute_result"
    }
   ],
   "source": [
    "gb.fit(X_train,y_train)"
   ]
  },
  {
   "cell_type": "code",
   "execution_count": 185,
   "id": "95132702",
   "metadata": {},
   "outputs": [
    {
     "name": "stdout",
     "output_type": "stream",
     "text": [
      "Best Hyperparameters: {'learning_rate': 0.01, 'max_depth': 3, 'n_estimators': 200}\n"
     ]
    }
   ],
   "source": [
    "from sklearn.model_selection import GridSearchCV\n",
    "\n",
    "# Create the GradientBoostingClassifier\n",
    "gb = GradientBoostingClassifier()\n",
    "\n",
    "# Define a grid of hyperparameters to search\n",
    "param_grid = {\n",
    "    'n_estimators': [100, 200, 300],  # Number of boosting stages to be used\n",
    "    'learning_rate': [0.01, 0.1, 0.2],  # Step size shrinkage used in update to prevent overfitting\n",
    "    'max_depth': [3, 4, 5],  # Maximum depth of the individual trees\n",
    "}\n",
    "\n",
    "# Create a GridSearchCV object\n",
    "grid_search = GridSearchCV(estimator=gb, param_grid=param_grid, cv=5, n_jobs=-1, scoring='accuracy')\n",
    "\n",
    "# Fit the grid search to your data\n",
    "grid_search.fit(X_train, y_train)\n",
    "\n",
    "# Get the best hyperparameters\n",
    "best_params = grid_search.best_params_\n",
    "print(\"Best Hyperparameters:\", best_params)\n",
    "# Use the best model\n",
    "best_model = grid_search.best_estimator_\n",
    "\n",
    "# Make predictions on the test set\n",
    "y_pred = best_model.predict(X_test)"
   ]
  },
  {
   "cell_type": "code",
   "execution_count": 186,
   "id": "8f089eed",
   "metadata": {},
   "outputs": [
    {
     "name": "stdout",
     "output_type": "stream",
     "text": [
      "Accuracy is :  58.06451612903226\n"
     ]
    }
   ],
   "source": [
    "print(\"Accuracy is : \", accuracy_score(y_test, y_pred)*100)"
   ]
  },
  {
   "cell_type": "markdown",
   "id": "8361679a",
   "metadata": {},
   "source": [
    "## 7. Extreme Gradient Boosting"
   ]
  },
  {
   "cell_type": "code",
   "execution_count": 171,
   "id": "92fa09af",
   "metadata": {},
   "outputs": [],
   "source": [
    "from xgboost import XGBClassifier\n",
    "#creating an instance\n",
    "xgb=XGBClassifier()\n",
    "xgb.fit(X_train,y_train)\n",
    "y_pred= xgb.predict(X_test)"
   ]
  },
  {
   "cell_type": "markdown",
   "id": "1c1750e9",
   "metadata": {},
   "source": [
    "### Performance Evaluation"
   ]
  },
  {
   "cell_type": "code",
   "execution_count": 172,
   "id": "54dcb0f6",
   "metadata": {},
   "outputs": [
    {
     "name": "stdout",
     "output_type": "stream",
     "text": [
      "Accuracy is:  53.5483870967742\n"
     ]
    }
   ],
   "source": [
    "print('Accuracy is: ',accuracy_score(y_test,y_pred)*100)"
   ]
  },
  {
   "cell_type": "markdown",
   "id": "b1aeef23",
   "metadata": {},
   "source": [
    "### Confusion Matrix"
   ]
  },
  {
   "cell_type": "code",
   "execution_count": 173,
   "id": "3a8658fb",
   "metadata": {},
   "outputs": [
    {
     "data": {
      "text/plain": [
       "array([[84,  1,  5,  1, 17],\n",
       "       [ 2,  5,  7,  9,  3],\n",
       "       [11,  7, 12,  8, 15],\n",
       "       [ 6,  6,  9, 33,  9],\n",
       "       [14,  2,  5,  7, 32]], dtype=int64)"
      ]
     },
     "execution_count": 173,
     "metadata": {},
     "output_type": "execute_result"
    }
   ],
   "source": [
    "confusion_matrix(y_test,y_pred)"
   ]
  },
  {
   "cell_type": "markdown",
   "id": "62e92824",
   "metadata": {},
   "source": [
    "## Inference"
   ]
  },
  {
   "cell_type": "markdown",
   "id": "e0692bbb",
   "metadata": {},
   "source": [
    "Accuracies of each classification models"
   ]
  },
  {
   "cell_type": "markdown",
   "id": "f4d4e695",
   "metadata": {},
   "source": [
    "1. Logistic Regression Model - 55.48\n",
    "2. KNN Model - 55.16\n",
    "3. Decision Tree Classifier - 51.62\n",
    "4. Support Vector Machine\n",
    "   Linear SVM - 56.45\n",
    "   Polynomial SVM - 52.25\n",
    "   Radial SVM - 55.16\n",
    "5. Random Forest - 51.61\n",
    "6. Gradient Boosting - 56.77\n",
    "7. Extreme Gradient Boosting - 53.54"
   ]
  },
  {
   "cell_type": "markdown",
   "id": "0520a22c",
   "metadata": {},
   "source": [
    "Gradient Boosting after Fine tuning - 58.06"
   ]
  },
  {
   "cell_type": "markdown",
   "id": "90acb627",
   "metadata": {},
   "source": [
    "The classification model that demonstrated the best performance was the Gradient Boosting model, and this result was achieved after fine-tuning its hyperparameters. The model's performance was evaluated, and it reached an impressive maximum accuracy of 58.06%. This accuracy rate underscores the effectiveness of the model in categorizing the side effects of the drug based on various factors such as age, race, and gender."
   ]
  },
  {
   "cell_type": "code",
   "execution_count": null,
   "id": "ae127aa9",
   "metadata": {},
   "outputs": [],
   "source": []
  }
 ],
 "metadata": {
  "kernelspec": {
   "display_name": "Python 3 (ipykernel)",
   "language": "python",
   "name": "python3"
  },
  "language_info": {
   "codemirror_mode": {
    "name": "ipython",
    "version": 3
   },
   "file_extension": ".py",
   "mimetype": "text/x-python",
   "name": "python",
   "nbconvert_exporter": "python",
   "pygments_lexer": "ipython3",
   "version": "3.10.9"
  }
 },
 "nbformat": 4,
 "nbformat_minor": 5
}
